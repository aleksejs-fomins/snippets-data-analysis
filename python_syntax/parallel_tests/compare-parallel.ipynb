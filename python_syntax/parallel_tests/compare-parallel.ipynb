{
 "cells": [
  {
   "cell_type": "code",
   "execution_count": 1,
   "metadata": {
    "collapsed": true
   },
   "outputs": [],
   "source": [
    "import numpy as np\n",
    "import matplotlib.pyplot as plt\n",
    "from time import time\n",
    "from joblib import Parallel, delayed\n",
    "import multiprocessing, pathos\n",
    "\n",
    "import numba\n",
    "from numba import jit"
   ]
  },
  {
   "cell_type": "code",
   "execution_count": 2,
   "metadata": {},
   "outputs": [
    {
     "name": "stdout",
     "output_type": "stream",
     "text": [
      "Serial time 4.3191118240356445\n"
     ]
    },
    {
     "data": {
      "image/png": "[encoded data removed]",
      "text/plain": [
       "<matplotlib.figure.Figure at 0x7f2b54376160>"
      ]
     },
     "metadata": {},
     "output_type": "display_data"
    },
    {
     "name": "stdout",
     "output_type": "stream",
     "text": [
      "CPU times: user 4.72 s, sys: 346 ms, total: 5.06 s\n",
      "Wall time: 4.46 s\n"
     ]
    }
   ],
   "source": [
    "%%time\n",
    "def very_math(x):\n",
    "     return np.sum([np.sin(np.log(i*x+1)) for i in range(2, 200)], axis=0)\n",
    "    \n",
    "data = np.linspace(0, 1, 10000)\n",
    "\n",
    "def do_job_serial(data):\n",
    "    N = data.shape[0]\n",
    "    rez = np.zeros(N)\n",
    "    for j in range(N):\n",
    "        rez[j] = very_math(data[j])\n",
    "    return rez\n",
    "\n",
    "#%timeit very_math(1)\n",
    "\n",
    "t = time()\n",
    "results_serial = do_job_serial(data)\n",
    "print(\"Serial time\", time()-t)\n",
    "\n",
    "plt.figure()\n",
    "plt.plot(data, results_serial)\n",
    "plt.title('Some complicated function')\n",
    "plt.show()"
   ]
  },
  {
   "cell_type": "markdown",
   "metadata": {},
   "source": [
    "## Multiprocessing\n",
    "\n",
    "There is significant gain up to 4 cores. The additional (logical) cores do not contribute to any performance enhancement, since they share resources.\n",
    "\n",
    "**Problems**:\n",
    "  * Uses Pickle to store function before parallel execution. Non-top level functions can't be Pickled. So it is not very useful for parallelizing external libraries"
   ]
  },
  {
   "cell_type": "code",
   "execution_count": 3,
   "metadata": {},
   "outputs": [
    {
     "name": "stdout",
     "output_type": "stream",
     "text": [
      "NCore 1 Parallel time 4.485529184341431 Error: 0.0\n",
      "NCore 2 Parallel time 2.3677289485931396 Error: 0.0\n",
      "NCore 3 Parallel time 1.5538232326507568 Error: 0.0\n",
      "NCore 4 Parallel time 1.223675012588501 Error: 0.0\n",
      "NCore 5 Parallel time 1.1992013454437256 Error: 0.0\n",
      "NCore 6 Parallel time 1.2404968738555908 Error: 0.0\n",
      "NCore 7 Parallel time 1.2023987770080566 Error: 0.0\n"
     ]
    }
   ],
   "source": [
    "for NCore in range(1, multiprocessing.cpu_count()):\n",
    "    t = time()\n",
    "    pool = multiprocessing.Pool(NCore)\n",
    "    results_mp = pool.map(very_math, data)\n",
    "\n",
    "    print(\"NCore\", NCore, \"Parallel time\", time() - t, \"Error:\", np.linalg.norm(results_mp - results_serial))"
   ]
  },
  {
   "cell_type": "markdown",
   "metadata": {},
   "source": [
    "## Pathos\n",
    "\n",
    "Solves problem of Multiprocessing by having better pickling strategies"
   ]
  },
  {
   "cell_type": "code",
   "execution_count": 4,
   "metadata": {},
   "outputs": [
    {
     "name": "stdout",
     "output_type": "stream",
     "text": [
      "NCore 1 Parallel time 4.803663730621338 Error: 0.0\n",
      "NCore 2 Parallel time 2.5578012466430664 Error: 0.0\n",
      "NCore 3 Parallel time 1.6958465576171875 Error: 0.0\n",
      "NCore 4 Parallel time 1.404219150543213 Error: 0.0\n",
      "NCore 5 Parallel time 1.3871548175811768 Error: 0.0\n",
      "NCore 6 Parallel time 1.3955540657043457 Error: 0.0\n",
      "NCore 7 Parallel time 1.354231595993042 Error: 0.0\n"
     ]
    }
   ],
   "source": [
    "for NCore in range(1, multiprocessing.cpu_count()):\n",
    "    t = time()\n",
    "    pool = pathos.multiprocessing.ProcessingPool(NCore)\n",
    "    results_mp = pool.map(very_math, data)\n",
    "\n",
    "    print(\"NCore\", NCore, \"Parallel time\", time() - t, \"Error:\", np.linalg.norm(results_mp - results_serial))"
   ]
  },
  {
   "cell_type": "markdown",
   "metadata": {},
   "source": [
    "## Joblib\n",
    "\n",
    "AKA complete junk"
   ]
  },
  {
   "cell_type": "code",
   "execution_count": 5,
   "metadata": {},
   "outputs": [
    {
     "name": "stdout",
     "output_type": "stream",
     "text": [
      "Parallel time 13.239097118377686\n",
      "Difference: 0.0\n"
     ]
    }
   ],
   "source": [
    "t = time()\n",
    "results_joblib = Parallel(n_jobs=-1, backend=\"threading\")(map(delayed(very_math), data))\n",
    "print(\"Parallel time\", time()-t)\n",
    "\n",
    "print(\"Difference:\", np.linalg.norm(results_joblib-results_serial))"
   ]
  },
  {
   "cell_type": "markdown",
   "metadata": {},
   "source": [
    "## Numba\n",
    "\n",
    "It works! Just need to convert all functions to numba, and avoid using lists.\n",
    "\n",
    "**Problems**:\n",
    "  * All functions must essentially be Numpy. If the function uses 3rd party library (e.g. SciPy), it can't be converted to CPython using Numba scripts."
   ]
  },
  {
   "cell_type": "code",
   "execution_count": 6,
   "metadata": {},
   "outputs": [
    {
     "name": "stdout",
     "output_type": "stream",
     "text": [
      "7.31 µs ± 39.9 ns per loop (mean ± std. dev. of 7 runs, 100000 loops each)\n",
      "Parallel time 0.15251588821411133\n",
      "Difference: 15553.493548997603\n"
     ]
    }
   ],
   "source": [
    "@jit(nopython=True)\n",
    "def very_math_numba(x):\n",
    "    rez = 0\n",
    "    for i in range(2, 200):\n",
    "        rez += np.sin(np.log(i)*x)\n",
    "    return rez\n",
    "    \n",
    "@jit(nopython=True)\n",
    "def do_job_numba(data):\n",
    "    N = data.shape[0]\n",
    "    rez = np.zeros(N)\n",
    "    for j in range(N):\n",
    "        rez[j] = very_math_numba(data[j])\n",
    "    return rez\n",
    "    \n",
    "%timeit very_math_numba(1)\n",
    "    \n",
    "t = time()\n",
    "results_numba = do_job_numba(data)\n",
    "print(\"Parallel time\", time()-t)\n",
    "\n",
    "print(\"Difference:\", np.linalg.norm(results_numba-results_serial))"
   ]
  },
  {
   "cell_type": "code",
   "execution_count": 53,
   "metadata": {},
   "outputs": [
    {
     "name": "stdout",
     "output_type": "stream",
     "text": [
      "0.42.0\n"
     ]
    }
   ],
   "source": [
    "print(numba.__version__)"
   ]
  },
  {
   "cell_type": "code",
   "execution_count": null,
   "metadata": {
    "collapsed": true
   },
   "outputs": [],
   "source": [
    ""
   ]
  }
 ],
 "metadata": {
  "kernelspec": {
   "display_name": "Python 3",
   "language": "python",
   "name": "python3"
  },
  "language_info": {
   "codemirror_mode": {
    "name": "ipython",
    "version": 3.0
   },
   "file_extension": ".py",
   "mimetype": "text/x-python",
   "name": "python",
   "nbconvert_exporter": "python",
   "pygments_lexer": "ipython3",
   "version": "3.6.4"
  }
 },
 "nbformat": 4,
 "nbformat_minor": 0
}
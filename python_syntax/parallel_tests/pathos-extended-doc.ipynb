{
 "cells": [
  {
   "cell_type": "code",
   "execution_count": 1,
   "metadata": {
    "collapsed": true
   },
   "outputs": [],
   "source": [
    "import numpy as np\n",
    "import matplotlib.pyplot as plt\n",
    "from time import time\n",
    "import multiprocessing, pathos\n",
    "import logging"
   ]
  },
  {
   "cell_type": "markdown",
   "metadata": {},
   "source": [
    "## Notes on parallel processing\n",
    "\n",
    "* **map** function chunks provided data array and executes chunks on separate processes. It has best possible performance, if all results must be present before the next step\n",
    "* **imap** sends iterable results to processes on demand. Much slower than **map**. Use when whole dataset does not fit RAM, and must use real-time iterator instead of list for data source.\n",
    "* **amap** is the same as **map**, except user gets access to some results that have already been processed before all of them are processed. May be useful in case of several step pipeline, but I have not yet seen a good example."
   ]
  },
  {
   "cell_type": "code",
   "execution_count": 22,
   "metadata": {
    "collapsed": true
   },
   "outputs": [],
   "source": [
    "def very_math(x, size):\n",
    "     return np.sum([np.sin(np.log(i*x+1)) for i in range(2, size)], axis=0)\n",
    "    \n",
    "taskThis = lambda param: very_math(*param)"
   ]
  },
  {
   "cell_type": "code",
   "execution_count": 26,
   "metadata": {},
   "outputs": [
    {
     "name": "stdout",
     "output_type": "stream",
     "text": [
      "nCore 1 task size 100 time was 0.2551615238189697\n",
      "nCore 1 task size 1000 time was 2.238142490386963\n",
      "nCore 1 task size 10000 time was 21.36579656600952\n",
      "nCore 2 task size 100 time was 0.13701200485229492\n",
      "nCore 2 task size 1000 time was 1.1478989124298096\n",
      "nCore 2 task size 10000 time was 11.066621541976929\n",
      "nCore 3 task size 100 time was 0.1081995964050293\n",
      "nCore 3 task size 1000 time was 0.7668857574462891\n",
      "nCore 3 task size 10000 time was 7.4292473793029785\n",
      "nCore 4 task size 100 time was 0.07659363746643066\n",
      "nCore 4 task size 1000 time was 0.5710108280181885\n",
      "nCore 4 task size 10000 time was 5.613415241241455\n",
      "nCore 5 task size 100 time was 0.07877922058105469\n",
      "nCore 5 task size 1000 time was 0.6172778606414795\n",
      "nCore 5 task size 10000 time was 5.930357933044434\n",
      "nCore 6 task size 100 time was 0.083953857421875\n",
      "nCore 6 task size 1000 time was 0.604560136795044\n",
      "nCore 6 task size 10000 time was 5.71800684928894\n",
      "nCore 7 task size 100 time was 0.07182002067565918\n",
      "nCore 7 task size 1000 time was 0.5821189880371094\n",
      "nCore 7 task size 10000 time was 5.395832777023315\n"
     ]
    },
    {
     "name": "stderr",
     "output_type": "stream",
     "text": [
      "/opt/anaconda3/envs/py36qt5/lib/python3.6/site-packages/matplotlib/axes/_base.py:3285: UserWarning: Attempting to set identical bottom==top results\n",
      "in singular transformations; automatically expanding.\n",
      "bottom=1.0, top=1.0\n",
      "  'bottom=%s, top=%s') % (bottom, top))\n"
     ]
    },
    {
     "data": {
      "image/png": "[encoded data removed]",
      "text/plain": [
       "<matplotlib.figure.Figure at 0x7f7618e664e0>"
      ]
     },
     "metadata": {},
     "output_type": "display_data"
    }
   ],
   "source": [
    "#####################################\n",
    "# Test 1.1 Scaling with task size\n",
    "#####################################\n",
    "nTasks = 1000\n",
    "taskSizeLst = [100, 1000, 10000]\n",
    "nCoreLst = np.arange(1, pathos.multiprocessing.cpu_count())\n",
    "\n",
    "timesTest11 = np.zeros((len(nCoreLst), len(taskSizeLst)))\n",
    "for iCore, nCore in enumerate(nCoreLst):\n",
    "    pool = pathos.multiprocessing.ProcessingPool(nCore)\n",
    "    dataList = [[(x, taskSize) for x in range(nTasks)] for taskSize in taskSizeLst]\n",
    "    for iTest, data in enumerate(dataList):\n",
    "        t = time()\n",
    "        results_mp = pool.map(taskThis, data)\n",
    "        timesTest11[iCore, iTest] = time() - t\n",
    "        print('nCore', nCore, 'task size', taskSizeLst[iTest], 'time was', timesTest11[iCore, iTest])\n",
    "    \n",
    "plt.figure()\n",
    "for iCore, nCore in enumerate(nCoreLst):\n",
    "    plt.loglog(taskSizeLst, timesTest11[0] / timesTest11[iCore], label=str(nCore))\n",
    "plt.title('Time for task quantity '+str(nTasks))\n",
    "plt.xlabel('task size')\n",
    "plt.ylabel('speedup relative to 1 core')\n",
    "plt.legend()\n",
    "plt.show()"
   ]
  },
  {
   "cell_type": "code",
   "execution_count": 2,
   "metadata": {},
   "outputs": [
    {
     "ename": "NameError",
     "evalue": "name 'taskThis' is not defined",
     "output_type": "error",
     "traceback": [
      "\u001b[0;31m---------------------------------------------------------------------------\u001b[0m",
      "\u001b[0;31mNameError\u001b[0m                                 Traceback (most recent call last)",
      "\u001b[0;32m<ipython-input-2-e6f745d6b8a7>\u001b[0m in \u001b[0;36m<module>\u001b[0;34m()\u001b[0m\n\u001b[1;32m     12\u001b[0m     \u001b[0;32mfor\u001b[0m \u001b[0miTest\u001b[0m\u001b[0;34m,\u001b[0m \u001b[0mdata\u001b[0m \u001b[0;32min\u001b[0m \u001b[0menumerate\u001b[0m\u001b[0;34m(\u001b[0m\u001b[0mdataList\u001b[0m\u001b[0;34m)\u001b[0m\u001b[0;34m:\u001b[0m\u001b[0;34m\u001b[0m\u001b[0m\n\u001b[1;32m     13\u001b[0m         \u001b[0mt\u001b[0m \u001b[0;34m=\u001b[0m \u001b[0mtime\u001b[0m\u001b[0;34m(\u001b[0m\u001b[0;34m)\u001b[0m\u001b[0;34m\u001b[0m\u001b[0m\n\u001b[0;32m---> 14\u001b[0;31m         \u001b[0mresults_mp\u001b[0m \u001b[0;34m=\u001b[0m \u001b[0mpool\u001b[0m\u001b[0;34m.\u001b[0m\u001b[0mmap\u001b[0m\u001b[0;34m(\u001b[0m\u001b[0mtaskThis\u001b[0m\u001b[0;34m,\u001b[0m \u001b[0mdata\u001b[0m\u001b[0;34m)\u001b[0m\u001b[0;34m\u001b[0m\u001b[0m\n\u001b[0m\u001b[1;32m     15\u001b[0m         \u001b[0mtimesTest12\u001b[0m\u001b[0;34m[\u001b[0m\u001b[0miCore\u001b[0m\u001b[0;34m,\u001b[0m \u001b[0miTest\u001b[0m\u001b[0;34m]\u001b[0m \u001b[0;34m=\u001b[0m \u001b[0mtime\u001b[0m\u001b[0;34m(\u001b[0m\u001b[0;34m)\u001b[0m \u001b[0;34m-\u001b[0m \u001b[0mt\u001b[0m\u001b[0;34m\u001b[0m\u001b[0m\n\u001b[1;32m     16\u001b[0m         \u001b[0mprint\u001b[0m\u001b[0;34m(\u001b[0m\u001b[0;34m'nCore'\u001b[0m\u001b[0;34m,\u001b[0m \u001b[0mnCore\u001b[0m\u001b[0;34m,\u001b[0m \u001b[0;34m'task quantity'\u001b[0m\u001b[0;34m,\u001b[0m \u001b[0mnTasksLst\u001b[0m\u001b[0;34m[\u001b[0m\u001b[0miTest\u001b[0m\u001b[0;34m]\u001b[0m\u001b[0;34m,\u001b[0m \u001b[0;34m'time was'\u001b[0m\u001b[0;34m,\u001b[0m \u001b[0mtimesTest12\u001b[0m\u001b[0;34m[\u001b[0m\u001b[0miCore\u001b[0m\u001b[0;34m,\u001b[0m \u001b[0miTest\u001b[0m\u001b[0;34m]\u001b[0m\u001b[0;34m)\u001b[0m\u001b[0;34m\u001b[0m\u001b[0m\n",
      "\u001b[0;31mNameError\u001b[0m: name 'taskThis' is not defined"
     ]
    }
   ],
   "source": [
    "#####################################\n",
    "# Test 1.2 Scaling with task quantity\n",
    "#####################################\n",
    "taskSize = 1000\n",
    "nTasksLst = [100, 1000, 10000]\n",
    "nCoreLst = np.arange(1, pathos.multiprocessing.cpu_count())\n",
    "\n",
    "timesTest12 = np.zeros((len(nCoreLst), len(nTasksLst)))\n",
    "for iCore, nCore in enumerate(nCoreLst):\n",
    "    pool = pathos.multiprocessing.ProcessingPool(nCore)\n",
    "    dataList = [[(x, taskSize) for x in range(nTasks)] for nTasks in nTasksLst]\n",
    "    for iTest, data in enumerate(dataList):\n",
    "        t = time()\n",
    "        results_mp = pool.map(taskThis, data)\n",
    "        timesTest12[iCore, iTest] = time() - t\n",
    "        print('nCore', nCore, 'task quantity', nTasksLst[iTest], 'time was', timesTest12[iCore, iTest])\n",
    "    \n",
    "plt.figure()\n",
    "for iCore, nCore in enumerate(nCoreLst):\n",
    "    plt.loglog(nTasksLst, timesTest12[0] / timesTest12[iCore], label=str(nCore))\n",
    "plt.title('Time for task size '+str(taskSize))\n",
    "plt.xlabel('task quantity')\n",
    "plt.ylabel('speedup relative to 1 core')\n",
    "plt.legend()\n",
    "plt.show()"
   ]
  },
  {
   "cell_type": "markdown",
   "metadata": {},
   "source": [
    "## Logging using multiprocessing"
   ]
  },
  {
   "cell_type": "code",
   "execution_count": 3,
   "metadata": {},
   "outputs": [
    {
     "name": "stdout",
     "output_type": "stream",
     "text": [
      "[1, 1, 1, 1, 1, 1, 1, 1, 1, 1, 1, 1, 1, 1, 1, 1, 1, 1, 1, 1, 1, 1, 1, 1, 1, 1, 1, 1, 1, 1, 1, 1, 1, 1, 1]\n",
      "[1, 1, 1, 1, 1, 1, 1, 1, 1, 1, 1, 1, 1, 1, 1, 1, 1, 1, 1, 1, 1, 1, 1, 1, 1, 1, 1, 1, 1, 1, 1, 1, 1, 1, 1]\n",
      "[1, 1, 1, 1, 1, 1, 1, 1, 1, 1, 1, 1, 1, 1, 1, 1, 1, 1, 1, 1, 1, 1, 1, 1, 1, 1, 1, 1, 1, 1, 1, 1, 1, 1, 1]\n"
     ]
    }
   ],
   "source": [
    "def task(x):\n",
    "#     logger = logging.getLogger('MyLogger ' + str(multiprocessing.current_process()._identity[0]))\n",
    "#     logger.setLevel(logging.DEBUG)\n",
    "#     logger.addHandler(fh)\n",
    "    thisID = multiprocessing.current_process()._identity[0]\n",
    "    loggerSlave.info(\"Process \" + str(thisID) + \": Processing stuff \" + x)\n",
    "#     logger.removeHandler(fh)\n",
    "    return 1\n",
    "\n",
    "\n",
    "for iJob in range(3):\n",
    "    # Create file handler\n",
    "    fh = logging.FileHandler('log'+str(iJob)+'.txt')\n",
    "    fh.setLevel(logging.DEBUG)\n",
    "    formatter = logging.Formatter('%(asctime)s %(name)-12s %(levelname)-8s %(message)s')\n",
    "    fh.setFormatter(formatter)\n",
    "    \n",
    "    # Create loggers\n",
    "    loggerMaster = logging.getLogger('master')\n",
    "    loggerSlave = logging.getLogger('slave')\n",
    "    loggerMaster.setLevel(logging.INFO)\n",
    "    loggerSlave.setLevel(logging.INFO)\n",
    "    \n",
    "    # Add file handlers to loggers\n",
    "    loggerMaster.addHandler(fh)\n",
    "    loggerSlave.addHandler(fh)\n",
    "    \n",
    "    loggerMaster.info('Starting some stuff')\n",
    "    \n",
    "    pool = multiprocessing.Pool(7)\n",
    "    results_mp = pool.map(task, list(\"aalkfnalkgnlkaerngnarngkwlekfwebkwr\"))\n",
    "    \n",
    "    # Cleanup phase\n",
    "    pool.close()\n",
    "    pool.join()\n",
    "    loggerMaster.removeHandler(fh)\n",
    "    loggerSlave.removeHandler(fh)\n",
    "    \n",
    "    print(results_mp)\n",
    "# logging.shutdown()"
   ]
  },
  {
   "cell_type": "code",
   "execution_count": 5,
   "metadata": {},
   "outputs": [
    {
     "name": "stdout",
     "output_type": "stream",
     "text": [
      "[1, 1, 1, 1, 1, 1, 1, 1, 1, 1, 1, 1, 1, 1, 1, 1, 1, 1, 1, 1, 1, 1, 1, 1, 1, 1, 1, 1, 1, 1, 1, 1, 1, 1, 1]\n",
      "[1, 1, 1, 1, 1, 1, 1, 1, 1, 1, 1, 1, 1, 1, 1, 1, 1, 1, 1, 1, 1, 1, 1, 1, 1, 1, 1, 1, 1, 1, 1, 1, 1, 1, 1]\n",
      "[1, 1, 1, 1, 1, 1, 1, 1, 1, 1, 1, 1, 1, 1, 1, 1, 1, 1, 1, 1, 1, 1, 1, 1, 1, 1, 1, 1, 1, 1, 1, 1, 1, 1, 1]\n"
     ]
    }
   ],
   "source": [
    "def task(x):\n",
    "    #thisID = pathos.core.getpid()\n",
    "    thisID = multiprocessing.current_process()._identity[0]\n",
    "    logger.info(\"Process \" + str(thisID) + \": Processing stuff \" + x)\n",
    "    return 1\n",
    "\n",
    "\n",
    "for iJob in range(3):\n",
    "    # Create file handler\n",
    "    fh = logging.FileHandler('log'+str(iJob)+'_pathos.txt')\n",
    "    fh.setLevel(logging.DEBUG)\n",
    "    formatter = logging.Formatter('%(asctime)s %(name)-12s %(levelname)-8s %(message)s')\n",
    "    fh.setFormatter(formatter)\n",
    "    \n",
    "    #logger = pathos.logger(level=logging.DEBUG, handler=fh)\n",
    "    logger = logging.getLogger(\"MyLogger\")\n",
    "    logger.setLevel(logging.DEBUG)\n",
    "    logger.addHandler(fh)\n",
    "    \n",
    "    pool = multiprocessing.Pool(7)\n",
    "    #pool = pathos.multiprocessing.ProcessingPool(7)\n",
    "    results_mp = pool.map(task, list(\"aalkfnalkgnlkaerngnarngkwlekfwebkwr\"))\n",
    "    \n",
    "    logger.removeHandler(fh)\n",
    "    \n",
    "    print(results_mp)\n",
    "# logging.shutdown()"
   ]
  },
  {
   "cell_type": "code",
   "execution_count": null,
   "metadata": {
    "collapsed": true
   },
   "outputs": [],
   "source": [
    "def task(x):\n",
    "    logger = logging.getLogger('MyLogger ' + str(multiprocessing.current_process()._identity[0]))\n",
    "    logger.setLevel(logging.DEBUG)\n",
    "    logger.addHandler(fh)\n",
    "    logger.info(\"Processing stuff \" + x)\n",
    "    logger.removeHandler(fh)\n",
    "    return 1\n",
    "\n",
    "\n",
    "for iJob in range(3):\n",
    "    fh = logging.FileHandler('log'+str(iJob)+'.txt')\n",
    "    fh.setLevel(logging.DEBUG)\n",
    "    formatter = logging.Formatter('%(asctime)s %(name)-12s %(levelname)-8s %(message)s')\n",
    "    fh.setFormatter(formatter)\n",
    "\n",
    "    logger = logging.getLogger('master')\n",
    "    logger.addHandler(fh)\n",
    "    logger.info('Starting some stuff')\n",
    "    logger.removeHandler(fh)\n",
    "    \n",
    "    pool = multiprocessing.Pool(7)\n",
    "    results_mp = pool.map(task, list(\"aalkfnalkgnlkaerngnarngkwlekfwebkwr\"))\n",
    "    pool.close()\n",
    "    pool.join()\n",
    "    print(results_mp)\n",
    "logging.shutdown()"
   ]
  },
  {
   "cell_type": "markdown",
   "metadata": {},
   "source": [
    "## Logging using Pathos"
   ]
  },
  {
   "cell_type": "code",
   "execution_count": 2,
   "metadata": {},
   "outputs": [
    {
     "name": "stdout",
     "output_type": "stream",
     "text": [
      "[1, 1, 1, 1, 1, 1, 1, 1, 1, 1, 1, 1, 1, 1, 1, 1, 1, 1, 1, 1, 1, 1, 1, 1, 1, 1, 1, 1, 1, 1, 1, 1, 1, 1, 1]\n",
      "[1, 1, 1, 1, 1, 1, 1, 1, 1, 1, 1, 1, 1, 1, 1, 1, 1, 1, 1, 1, 1, 1, 1, 1, 1, 1, 1, 1, 1, 1, 1, 1, 1, 1, 1]\n",
      "[1, 1, 1, 1, 1, 1, 1, 1, 1, 1, 1, 1, 1, 1, 1, 1, 1, 1, 1, 1, 1, 1, 1, 1, 1, 1, 1, 1, 1, 1, 1, 1, 1, 1, 1]\n"
     ]
    }
   ],
   "source": [
    "def task(x):\n",
    "    logger = logging.getLogger(str(pathos.core.getpid()))\n",
    "    logger.info(\"Processing stuff \" + x)\n",
    "    return 1\n",
    "\n",
    "for iJob in range(3):\n",
    "    # set up logging to file - see previous section for more details\n",
    "    logging.basicConfig(level=logging.INFO,\n",
    "                        format='%(asctime)s %(name)-6s %(levelname)-8s %(message)s',\n",
    "                        datefmt='%H:%M:%S',\n",
    "                        filename='log'+str(iJob)+'.txt',\n",
    "                        filemode='w')\n",
    "\n",
    "    logger = logging.getLogger('master')\n",
    "    logger.info('Starting some stuff')\n",
    "    pool = pathos.multiprocessing.ProcessingPool(7)\n",
    "    results_mp = pool.map(task, list(\"aalkfnalkgnlkaerngnarngkwlekfwebkwr\"))\n",
    "    logging.shutdown()\n",
    "    print(results_mp)"
   ]
  },
  {
   "cell_type": "code",
   "execution_count": 4,
   "metadata": {},
   "outputs": [
    {
     "name": "stderr",
     "output_type": "stream",
     "text": [
      "ALSJDASKD\n"
     ]
    }
   ],
   "source": [
    "logger = pathos.logger()\n",
    "logger.setLevel(logging.INFO)\n",
    "logger.info(\"ALSJDASKD\")"
   ]
  },
  {
   "cell_type": "code",
   "execution_count": 36,
   "metadata": {},
   "outputs": [
    {
     "name": "stderr",
     "output_type": "stream",
     "text": [
      "[INFO/Process-1] child process calling self.run()\n"
     ]
    },
    {
     "name": "stdout",
     "output_type": "stream",
     "text": [
      "tango\n"
     ]
    },
    {
     "name": "stderr",
     "output_type": "stream",
     "text": [
      "[INFO/Process-1] process shutting down\n",
      "[INFO/Process-2] child process calling self.run()\n",
      "[INFO/Process-1] process exiting with exitcode 0\n"
     ]
    },
    {
     "name": "stdout",
     "output_type": "stream",
     "text": [
      "foxtrot\n"
     ]
    },
    {
     "name": "stderr",
     "output_type": "stream",
     "text": [
      "[INFO/Process-2] process shutting down\n",
      "[INFO/Process-3] child process calling self.run()\n",
      "[INFO/Process-2] process exiting with exitcode 0\n"
     ]
    },
    {
     "name": "stdout",
     "output_type": "stream",
     "text": [
      "10\n"
     ]
    },
    {
     "name": "stderr",
     "output_type": "stream",
     "text": [
      "[INFO/Process-3] process shutting down\n",
      "[INFO/Process-3] process exiting with exitcode 0\n"
     ]
    }
   ],
   "source": [
    "import logging\n",
    "import multiprocessing\n",
    " \n",
    "from multiprocessing import Process, Lock\n",
    " \n",
    "def printer(item, lock):\n",
    "    \"\"\"\n",
    "    Prints out the item that was passed in\n",
    "    \"\"\"\n",
    "    lock.acquire()\n",
    "    try:\n",
    "        print(item)\n",
    "    finally:\n",
    "        lock.release()\n",
    " \n",
    "if __name__ == '__main__':\n",
    "    lock = Lock()\n",
    "    items = ['tango', 'foxtrot', 10]\n",
    "    multiprocessing.log_to_stderr()\n",
    "    logger = multiprocessing.get_logger()\n",
    "    logger.setLevel(logging.INFO)\n",
    "    for item in items:\n",
    "        p = Process(target=printer, args=(item, lock))\n",
    "        p.start()"
   ]
  },
  {
   "cell_type": "code",
   "execution_count": 1,
   "metadata": {
    "collapsed": true
   },
   "outputs": [],
   "source": [
    "import logging\n",
    "\n",
    "# with open('log.txt', 'w') as f:\n",
    "#     pass\n",
    "\n",
    "# set up logging to file - see previous section for more details\n",
    "logging.basicConfig(level=logging.INFO,\n",
    "                    format='%(asctime)s %(name)-12s %(levelname)-8s %(message)s',\n",
    "                    datefmt='%m-%d %H:%M',\n",
    "                    filename='log.txt',\n",
    "                    filemode='w')\n",
    "\n",
    "def task(x):\n",
    "    logger = logging.getLogger('MyLogger')\n",
    "    logger.info('Jackdaws love my big sphinx of quartz.')\n",
    "    \n",
    "\n",
    "logger = logging.getLogger('MyLogger1')\n",
    "logger.info('Jackdaws love my big sphinx of quartz.')\n",
    "#logging.info('Jackdaws love my big sphinx of quartz.')\n",
    "\n",
    "# # create logger with 'spam_application'\n",
    "# logger = logging.getLogger('MyLogger1')\n",
    "# logger.setLevel(logging.INFO)\n",
    "# # create file handler which logs even debug messages\n",
    "# fh = logging.FileHandler('log.txt')\n",
    "# fh.setLevel(logging.INFO)\n",
    "# logger.addHandler(fh)\n",
    "\n",
    "# Now, we can log to the root logger, or any other logger. First the root...\n"
   ]
  },
  {
   "cell_type": "code",
   "execution_count": 30,
   "metadata": {},
   "outputs": [
    {
     "name": "stdout",
     "output_type": "stream",
     "text": [
      "[1, 1, 1, 1, 1, 1, 1, 1, 1, 1, 1, 1, 1, 1, 1, 1, 1, 1, 1, 1, 1, 1, 1, 1, 1, 1, 1, 1, 1, 1, 1, 1, 1, 1, 1]\n"
     ]
    }
   ],
   "source": [
    "import logging\n",
    "from logging import getLogger, info\n",
    "\n",
    "with open('log.txt', 'w') as f:\n",
    "    f.write(\"Starts here\\n\")\n",
    "\n",
    "# set up logging to file - see previous section for more details\n",
    "logging.basicConfig(level=logging.INFO,\n",
    "                    format='%(asctime)s %(name)-12s %(levelname)-8s %(message)s',\n",
    "                    datefmt='%m-%d %H:%M',\n",
    "                    filename='log.txt',\n",
    "                    filemode='w')\n",
    "\n",
    "def task(x):\n",
    "    #logger = logging.getLogger('MyLogger ' + str(pathos.core.getpid()))\n",
    "    logger = logging.getLogger('MyLogger ' + str(multiprocessing.current_process()._identity[0]))\n",
    "    logger.info(\"Processing stuff \" + x)\n",
    "    return 1\n",
    "    \n",
    "logger = logging.getLogger('MyLogger1')\n",
    "logger.info('Jackdaws love my big sphinx of quartz.')\n",
    "\n",
    "pool = multiprocessing.Pool(7)\n",
    "results_mp = pool.map(task, list(\"aalkfnalkgnlkaerngnarngkwlekfwebkwr\"))\n",
    "print(results_mp)"
   ]
  },
  {
   "cell_type": "code",
   "execution_count": null,
   "metadata": {
    "collapsed": true
   },
   "outputs": [],
   "source": []
  }
 ],
 "metadata": {
  "kernelspec": {
   "display_name": "Python (py36qt5)",
   "language": "python",
   "name": "py36qt5"
  },
  "language_info": {
   "codemirror_mode": {
    "name": "ipython",
    "version": 3
   },
   "file_extension": ".py",
   "mimetype": "text/x-python",
   "name": "python",
   "nbconvert_exporter": "python",
   "pygments_lexer": "ipython3",
   "version": "3.6.4"
  }
 },
 "nbformat": 4,
 "nbformat_minor": 2
}

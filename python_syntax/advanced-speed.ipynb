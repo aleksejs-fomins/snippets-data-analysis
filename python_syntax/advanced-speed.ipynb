{
 "cells": [
  {
   "cell_type": "markdown",
   "metadata": {},
   "source": [
    "# Syntax"
   ]
  },
  {
   "cell_type": "code",
   "execution_count": null,
   "metadata": {},
   "outputs": [],
   "source": [
    "# Do simultaneous operations on the same line\n",
    "# Don't get screwed by writing them on separate lines and accidentally swapping order\n",
    "def fibonacci(n):\n",
    "    x, y = 0, 1\n",
    "    for i in range(n):\n",
    "        x,y = y, x+y\n",
    "    return y\n",
    "fibonacci(20)"
   ]
  },
  {
   "cell_type": "markdown",
   "metadata": {},
   "source": [
    "# Lists"
   ]
  },
  {
   "cell_type": "code",
   "execution_count": null,
   "metadata": {},
   "outputs": [],
   "source": [
    "# Print in reversed\n",
    "for i in reversed(range(10)):\n",
    "    print(i, end=\",\")"
   ]
  },
  {
   "cell_type": "code",
   "execution_count": null,
   "metadata": {},
   "outputs": [],
   "source": [
    "# Sort using key\n",
    "import names\n",
    "someNames = [names.get_first_name() for i in range(10)]\n",
    "print(someNames)\n",
    "print(sorted(someNames, key=len))"
   ]
  },
  {
   "cell_type": "markdown",
   "metadata": {},
   "source": [
    "# Tuples"
   ]
  },
  {
   "cell_type": "code",
   "execution_count": null,
   "metadata": {},
   "outputs": [],
   "source": [
    "from collections import namedtuple\n",
    "animaltuple = namedtuple('animal', ['breed', 'age'])\n",
    "myCat = animaltuple('cat', 7)\n",
    "myCat"
   ]
  },
  {
   "cell_type": "markdown",
   "metadata": {},
   "source": [
    "# Dicts"
   ]
  },
  {
   "cell_type": "code",
   "execution_count": null,
   "metadata": {},
   "outputs": [],
   "source": [
    "# Deleting all keys that start with letter C from dict\n",
    "##########################\n",
    "d = {names.get_last_name() : names.get_first_name() for i in range(100)}\n",
    "print(\"Before\", len(d))\n",
    "for k in list(d.keys()):    # Note that we need to iterate over copies of keys, as iterable may not change during iteration\n",
    "    if k.startswith('C'):\n",
    "        del d[k]\n",
    "print(\"After\", len(d))"
   ]
  },
  {
   "cell_type": "code",
   "execution_count": null,
   "metadata": {},
   "outputs": [],
   "source": [
    "# Counting People with the same first name\n",
    "###########################################\n",
    "from collections import defaultdict\n",
    "\n",
    "d = {names.get_last_name() : names.get_first_name() for i in range(100)}\n",
    "\n",
    "d_count = defaultdict(int)  # If item does not exist it is assumed to be a zero integer\n",
    "for k, v in d.items():\n",
    "    d_count[v] += 1\n",
    "    \n",
    "print(dict(d_count))"
   ]
  },
  {
   "cell_type": "code",
   "execution_count": null,
   "metadata": {},
   "outputs": [],
   "source": [
    "# Grouping by first name\n",
    "###########################################\n",
    "from collections import defaultdict\n",
    "\n",
    "d = {names.get_last_name() : names.get_first_name() for i in range(100)}\n",
    "\n",
    "d_group = defaultdict(list)  # If item does not exist it is assumed to be an empty list\n",
    "for k, v in d.items():\n",
    "    d_group[v].append(k)\n",
    "    \n",
    "print(dict(d_group))"
   ]
  },
  {
   "cell_type": "markdown",
   "metadata": {},
   "source": [
    "# Decorators"
   ]
  },
  {
   "cell_type": "code",
   "execution_count": 11,
   "metadata": {},
   "outputs": [],
   "source": [
    "# Cache results of the function and re-use later\n",
    "########################\n",
    "\n",
    "from functools import wraps\n",
    "# Caching decorator\n",
    "def cache(func):\n",
    "    saved = {}\n",
    "    @wraps(func)\n",
    "    def newfunc(*args):\n",
    "        if args in saved:\n",
    "            return saved[args]#newfunc(*args)\n",
    "        result = func(*args)\n",
    "        saved[args] = result\n",
    "        return result\n",
    "    return newfunc\n",
    "\n",
    "def count_math_naive(i):\n",
    "    return i**2 + 3*i**3\n",
    "\n",
    "@cache\n",
    "def count_math(i):\n",
    "    return i**2 + 3*i**3"
   ]
  },
  {
   "cell_type": "code",
   "execution_count": 12,
   "metadata": {},
   "outputs": [
    {
     "name": "stdout",
     "output_type": "stream",
     "text": [
      "355 ns ± 6.39 ns per loop (mean ± std. dev. of 7 runs, 1000000 loops each)\n"
     ]
    }
   ],
   "source": [
    "%%timeit\n",
    "count_math_naive(5)"
   ]
  },
  {
   "cell_type": "code",
   "execution_count": 13,
   "metadata": {},
   "outputs": [
    {
     "name": "stdout",
     "output_type": "stream",
     "text": [
      "137 ns ± 0.161 ns per loop (mean ± std. dev. of 7 runs, 10000000 loops each)\n"
     ]
    }
   ],
   "source": [
    "%%timeit\n",
    "count_math(5)"
   ]
  },
  {
   "cell_type": "code",
   "execution_count": 16,
   "metadata": {},
   "outputs": [
    {
     "name": "stdout",
     "output_type": "stream",
     "text": [
      "Normal stuff\n"
     ]
    }
   ],
   "source": [
    "# Output redirection decorator\n",
    "##########################\n",
    "import sys\n",
    "from contextlib import contextmanager\n",
    "\n",
    "@contextmanager\n",
    "def redirect_stdout(fileobj):\n",
    "    oldout = sys.stdout\n",
    "    sys.stdout = fileobj\n",
    "    try:\n",
    "        yield fileobj\n",
    "    finally:\n",
    "        sys.stdout = oldout\n",
    "\n",
    "with open('lolz.txt', 'w') as f:\n",
    "    with redirect_stdout(f):\n",
    "        print(\"YOYOYOYOYO\")\n",
    "        \n",
    "print('Normal stuff')"
   ]
  },
  {
   "cell_type": "code",
   "execution_count": null,
   "metadata": {},
   "outputs": [],
   "source": [
    ""
   ]
  }
 ],
 "metadata": {
  "kernelspec": {
   "display_name": "Python 3",
   "language": "python",
   "name": "python3"
  },
  "language_info": {
   "codemirror_mode": {
    "name": "ipython",
    "version": 3.0
   },
   "file_extension": ".py",
   "mimetype": "text/x-python",
   "name": "python",
   "nbconvert_exporter": "python",
   "pygments_lexer": "ipython3",
   "version": "3.7.0"
  }
 },
 "nbformat": 4,
 "nbformat_minor": 0
}
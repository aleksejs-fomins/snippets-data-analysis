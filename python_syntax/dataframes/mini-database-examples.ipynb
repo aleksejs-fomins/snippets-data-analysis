{
 "cells": [
  {
   "cell_type": "code",
   "execution_count": 2,
   "metadata": {},
   "outputs": [],
   "source": [
    "#import names\n",
    "import numpy as np\n",
    "import pandas as pd\n",
    "import matplotlib.pyplot as plt\n",
    "from datetime import date\n",
    "import random\n",
    "from IPython.display import display\n",
    "\n",
    "def randomBirthday(startyear, endyear):\n",
    "    T1 = date.today().replace(day=1, month=1, year=startyear).toordinal()\n",
    "    T2 = date.today().replace(day=1, month=1, year=endyear).toordinal()\n",
    "    return date.fromordinal(random.randint(T1, T2))\n",
    "\n",
    "def age(birthday):\n",
    "    today = date.today()\n",
    "    return today.year - birthday.year - ((today.month, today.day) < (birthday.month, birthday.day))"
   ]
  },
  {
   "cell_type": "code",
   "execution_count": null,
   "metadata": {},
   "outputs": [],
   "source": [
    "##########################\n",
    "# People DataFrame\n",
    "##########################\n",
    "N_PEOPLE = 20\n",
    "dict_people = { }\n",
    "genders = np.array(['male','female'])\n",
    "professions = np.array(['Carpenter', 'Teacher', 'Clown', 'Policeman'])\n",
    "randSetSelect = lambda arr, N: arr[np.random.randint(0, len(arr), N)]\n",
    "\n",
    "dict_people['gender'] = randSetSelect(genders, N_PEOPLE)\n",
    "dict_people['profession'] = randSetSelect(professions, N_PEOPLE)\n",
    "dict_people['name'] = [names.get_full_name(gender=g) for g in dict_people['gender']]\n",
    "\n",
    "peopleFrame = pd.DataFrame(dict_people)\n",
    "\n",
    "# Example 1: Add new columns to the data frame\n",
    "peopleFrame['birthday'] = [randomBirthday(1920, 2020) for i in range(N_PEOPLE)]\n",
    "\n",
    "# Example 2: Simple function of a column\n",
    "peopleFrame['firstNames'] = [name.split(\" \")[0] for name in dict_people['name']]\n",
    "\n",
    "# Example 3: Select subset from a data frame\n",
    "peopleFrameMale = peopleFrame.loc[peopleFrame['gender'] == 'male']\n",
    "#display(peopleFrameMale)\n",
    "\n",
    "# Example 4: Select based on arbitrary function of a column\n",
    "peopleFrameOld = peopleFrame.loc[peopleFrame['birthday'].apply(age) >= 50]\n",
    "display(peopleFrameOld)\n",
    "\n",
    "# Example 5: Contract subset\n",
    "# peopleFrame[['gender', 'profession']]\n",
    "\n",
    "##########################\n",
    "# Salary DataFrame\n",
    "##########################\n",
    "# dict_salary = {p : [s] for p,s in zip(professions, np.random.randint(20, 150, len(professions)))}\n",
    "# salaryFrame = pd.DataFrame(dict_salary)\n",
    "# display(salaryFrame)"
   ]
  },
  {
   "cell_type": "code",
   "execution_count": 10,
   "metadata": {},
   "outputs": [
    {
     "data": {
      "text/html": [
       "<div>\n",
       "<style scoped>\n",
       "    .dataframe tbody tr th:only-of-type {\n",
       "        vertical-align: middle;\n",
       "    }\n",
       "\n",
       "    .dataframe tbody tr th {\n",
       "        vertical-align: top;\n",
       "    }\n",
       "\n",
       "    .dataframe thead th {\n",
       "        text-align: right;\n",
       "    }\n",
       "</style>\n",
       "<table border=\"1\" class=\"dataframe\">\n",
       "  <thead>\n",
       "    <tr style=\"text-align: right;\">\n",
       "      <th></th>\n",
       "      <th>Name</th>\n",
       "      <th>Type</th>\n",
       "      <th>Age</th>\n",
       "    </tr>\n",
       "  </thead>\n",
       "  <tbody>\n",
       "    <tr>\n",
       "      <th>0</th>\n",
       "      <td>Spike</td>\n",
       "      <td>Dog</td>\n",
       "      <td>6</td>\n",
       "    </tr>\n",
       "    <tr>\n",
       "      <th>1</th>\n",
       "      <td>Timmy</td>\n",
       "      <td>Mouse</td>\n",
       "      <td>2</td>\n",
       "    </tr>\n",
       "    <tr>\n",
       "      <th>2</th>\n",
       "      <td>Johnny</td>\n",
       "      <td>Cat</td>\n",
       "      <td>7</td>\n",
       "    </tr>\n",
       "  </tbody>\n",
       "</table>\n",
       "</div>"
      ],
      "text/plain": [
       "     Name   Type  Age\n",
       "0   Spike    Dog    6\n",
       "1   Timmy  Mouse    2\n",
       "2  Johnny    Cat    7"
      ]
     },
     "execution_count": 10,
     "metadata": {},
     "output_type": "execute_result"
    }
   ],
   "source": [
    "testDict = {\"Name\" : [\"Spike\", \"Timmy\"], \"Type\" : [\"Dog\", \"Mouse\"], \"Age\" : [6, 2]}\n",
    "df = pd.DataFrame(testDict, index=[0,1])\n",
    "df.append({\"Name\" : \"Johnny\", \"Type\" : \"Cat\", \"Age\" : 7}, ignore_index=True)\n"
   ]
  },
  {
   "cell_type": "code",
   "execution_count": null,
   "metadata": {},
   "outputs": [],
   "source": []
  }
 ],
 "metadata": {
  "kernelspec": {
   "display_name": "Python (nest)",
   "language": "python",
   "name": "py36nest"
  },
  "language_info": {
   "codemirror_mode": {
    "name": "ipython",
    "version": 3
   },
   "file_extension": ".py",
   "mimetype": "text/x-python",
   "name": "python",
   "nbconvert_exporter": "python",
   "pygments_lexer": "ipython3",
   "version": "3.6.6"
  }
 },
 "nbformat": 4,
 "nbformat_minor": 1
}

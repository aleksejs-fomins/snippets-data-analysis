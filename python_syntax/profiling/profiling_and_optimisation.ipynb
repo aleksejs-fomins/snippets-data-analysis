{
 "cells": [
  {
   "cell_type": "markdown",
   "metadata": {},
   "source": [
    "# Profiling and optimisation with Python\n",
    "\n",
    "Also see: http://paris-swc.github.io/python-testing-debugging-profiling/"
   ]
  },
  {
   "cell_type": "code",
   "execution_count": null,
   "metadata": {},
   "outputs": [],
   "source": [
    "import numpy as np\n",
    "import matplotlib.pyplot as plt\n",
    "%matplotlib inline"
   ]
  },
  {
   "cell_type": "markdown",
   "metadata": {},
   "source": [
    "## Measuring total run times"
   ]
  },
  {
   "cell_type": "code",
   "execution_count": null,
   "metadata": {},
   "outputs": [],
   "source": [
    "from python_syntax.profiling import kmeans"
   ]
  },
  {
   "cell_type": "code",
   "execution_count": null,
   "metadata": {},
   "outputs": [],
   "source": [
    "def test_kmeans_two_gaussians(points, plot=False):\n",
    "    \"\"\"\n",
    "    Use the kmeans algorithms with two 2-d Gaussians with different means and variances.\n",
    "    One of the Gaussians has twice as many points as the other.\n",
    "    \n",
    "    points scales the total number of points.\n",
    "    \n",
    "    If `plot` is True, plot the data points and clusters (don't do this for many data points!).\n",
    "    \"\"\"\n",
    "    N1, N2 = int(2*points), int(1*points)\n",
    "    data = np.vstack([np.random.multivariate_normal([-2, -2], [[1, 0],   [0, 1]], size=N1),\n",
    "                      np.random.multivariate_normal([1, 1],   [[0.5, 0], [0, 2]], size=N2)])\n",
    "    labels = np.concatenate([np.zeros(N1), np.ones(N2)])\n",
    "    initial = np.array([[-1, 0], [1, 0]])\n",
    "    correct = kmeans.evaluate(data, labels, initial, plot=plot)\n",
    "    return correct"
   ]
  },
  {
   "cell_type": "markdown",
   "metadata": {},
   "source": [
    "## Measuring detailed run times"
   ]
  },
  {
   "cell_type": "code",
   "execution_count": null,
   "metadata": {},
   "outputs": [],
   "source": [
    ""
   ]
  },
  {
   "cell_type": "code",
   "execution_count": null,
   "metadata": {},
   "outputs": [],
   "source": [
    ""
   ]
  },
  {
   "cell_type": "code",
   "execution_count": null,
   "metadata": {},
   "outputs": [],
   "source": [
    ""
   ]
  },
  {
   "cell_type": "code",
   "execution_count": null,
   "metadata": {},
   "outputs": [],
   "source": [
    ""
   ]
  },
  {
   "cell_type": "code",
   "execution_count": null,
   "metadata": {},
   "outputs": [],
   "source": [
    ""
   ]
  },
  {
   "cell_type": "markdown",
   "metadata": {},
   "source": [
    "### Warning: don't get lost in micro-optimisations"
   ]
  },
  {
   "cell_type": "code",
   "execution_count": null,
   "metadata": {},
   "outputs": [],
   "source": [
    "def is_prime(x):\n",
    "    found = False\n",
    "    for y in range(2, x):\n",
    "        if np.mod(x, y) == 0:\n",
    "            found = True\n",
    "    return not found\n",
    "\n",
    "def test_primes(low, high, n):\n",
    "    test_data = np.random.randint(low, high, size=n)\n",
    "    for number in test_data:\n",
    "        # we throw away the results, we just use it to see how long it takes\n",
    "        is_prime(number)"
   ]
  },
  {
   "cell_type": "code",
   "execution_count": null,
   "metadata": {},
   "outputs": [],
   "source": [
    ""
   ]
  },
  {
   "cell_type": "markdown",
   "metadata": {},
   "source": [
    "## Parallelization with multiple processes\n",
    "\n",
    "**\"Embarassingly parallel\"** Problem: a problem that can be trivially separated into independent tasks\n",
    "\n",
    "Typical examples:\n",
    "  * Running the same calculation/analysis on different data sets\n",
    "  * Running the same non-deterministic simulation several times\n",
    "  * Parameter explorations"
   ]
  },
  {
   "cell_type": "code",
   "execution_count": null,
   "metadata": {},
   "outputs": [],
   "source": [
    ""
   ]
  }
 ],
 "metadata": {
  "kernelspec": {
   "display_name": "Python 3",
   "language": "python",
   "name": "python3"
  },
  "language_info": {
   "codemirror_mode": {
    "name": "ipython",
    "version": 3.0
   },
   "file_extension": ".py",
   "mimetype": "text/x-python",
   "name": "python",
   "nbconvert_exporter": "python",
   "pygments_lexer": "ipython3",
   "version": "3.6.5"
  }
 },
 "nbformat": 4,
 "nbformat_minor": 0
}
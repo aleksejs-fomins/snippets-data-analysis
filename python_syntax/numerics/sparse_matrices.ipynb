{
 "cells": [
  {
   "cell_type": "code",
   "execution_count": 22,
   "metadata": {},
   "outputs": [],
   "source": [
    "import random\n",
    "import numpy as np\n",
    "from scipy.sparse import csr_matrix\n",
    "\n",
    "# Uniform-random matrix, with given uniform-random sparsity\n",
    "def spRandUMat(dim, valRange, sparsity, dtype):\n",
    "    # Compute number of sparse elements\n",
    "    size1D = dim[0] * dim[1]\n",
    "    size1Dsparse = int(size1D * sparsity)\n",
    "    \n",
    "    # Generate random values\n",
    "    val = np.random.uniform(valRange[0], valRange[1], size1Dsparse)\n",
    "    \n",
    "    # Generate locations of non-zero matrix elements, uniformly distributed over the matrix\n",
    "    #idx1D = np.random.permutation(size1D)[:size1Dsparse]  # NOTE: this is too memory-hungry for large sizes\n",
    "    idx1D = np.array(random.sample(range(0, size1D), size1Dsparse))\n",
    "    \n",
    "    idx2Drow = idx1D / dim[1]\n",
    "    idx2Dcol = idx1D % dim[1]\n",
    "    \n",
    "    return csr_matrix((val, (idx2Drow, idx2Dcol)), shape=dim, dtype=dtype)"
   ]
  },
  {
   "cell_type": "code",
   "execution_count": 32,
   "metadata": {},
   "outputs": [
    {
     "name": "stdout",
     "output_type": "stream",
     "text": [
      "[[0 0 1 0 0 7 0 8 0 0]\n",
      " [0 0 0 0 8 0 0 0 0 2]\n",
      " [0 0 5 0 0 0 0 9 6 0]\n",
      " [8 0 0 0 0 4 8 0 8 0]\n",
      " [0 0 0 0 4 0 0 0 0 0]\n",
      " [0 0 0 0 0 0 8 0 1 0]\n",
      " [0 0 0 0 0 0 5 0 0 0]\n",
      " [3 0 0 0 0 0 0 0 0 5]\n",
      " [0 0 0 0 0 5 0 0 0 0]\n",
      " [0 0 0 0 0 0 0 0 0 0]]\n",
      "[[ 0  0  1  0  0 20  0 20  0  0]\n",
      " [ 0  0  0  0 20  0  0  0  0  2]\n",
      " [ 0  0  5  0  0  0  0 20 20  0]\n",
      " [20  0  0  0  0  4 20  0 20  0]\n",
      " [ 0  0  0  0  4  0  0  0  0  0]\n",
      " [ 0  0  0  0  0  0 20  0  1  0]\n",
      " [ 0  0  0  0  0  0  5  0  0  0]\n",
      " [ 3  0  0  0  0  0  0  0  0  5]\n",
      " [ 0  0  0  0  0  5  0  0  0  0]\n",
      " [ 0  0  0  0  0  0  0  0  0  0]]\n"
     ]
    }
   ],
   "source": [
    "import copy\n",
    "sp1 = spRandUMat((10, 10), [0, 10], 0.2, dtype=int)\n",
    "sp2 = copy.deepcopy(sp1)\n",
    "\n",
    "def clip(spmat):\n",
    "    spmat[spmat > 5] = 20\n",
    "\n",
    "clip(sp2)\n",
    "\n",
    "print(sp1.toarray())\n",
    "print(sp2.toarray())\n",
    "\n",
    "# from sklearn.preprocessing import normalize\n",
    "# bbb = normalize(sp2, axis=1, norm='l1')\n",
    "# print(bbb.toarray())"
   ]
  },
  {
   "cell_type": "code",
   "execution_count": 40,
   "metadata": {},
   "outputs": [
    {
     "name": "stdout",
     "output_type": "stream",
     "text": [
      "[0 0 0 1 1 1 2 2 2 3 3 3 3 4 5 5 6 7 7 8]\n",
      "[2 5 7 1 4 9 2 7 8 0 5 6 8 4 6 8 6 0 9 5]\n",
      "  (0, 2)\t1\n",
      "  (0, 5)\t20\n",
      "  (0, 7)\t20\n",
      "  (1, 1)\t0\n",
      "  (1, 4)\t20\n",
      "  (1, 9)\t2\n",
      "  (2, 2)\t5\n",
      "  (2, 7)\t20\n",
      "  (2, 8)\t20\n",
      "  (3, 0)\t20\n",
      "  (3, 5)\t4\n",
      "  (3, 6)\t20\n",
      "  (3, 8)\t20\n",
      "  (4, 4)\t4\n",
      "  (5, 6)\t20\n",
      "  (5, 8)\t1\n",
      "  (6, 6)\t5\n",
      "  (7, 0)\t3\n",
      "  (7, 9)\t5\n",
      "  (8, 5)\t5\n"
     ]
    }
   ],
   "source": [
    "print(sp2.tocoo().row)\n",
    "print(sp2.tocoo().col)\n",
    "print(sp2)"
   ]
  },
  {
   "cell_type": "code",
   "execution_count": null,
   "metadata": {},
   "outputs": [],
   "source": [
    ""
   ]
  }
 ],
 "metadata": {
  "kernelspec": {
   "display_name": "Python 3",
   "language": "python",
   "name": "python3"
  },
  "language_info": {
   "codemirror_mode": {
    "name": "ipython",
    "version": 3.0
   },
   "file_extension": ".py",
   "mimetype": "text/x-python",
   "name": "python",
   "nbconvert_exporter": "python",
   "pygments_lexer": "ipython3",
   "version": "3.6.4"
  }
 },
 "nbformat": 4,
 "nbformat_minor": 0
}
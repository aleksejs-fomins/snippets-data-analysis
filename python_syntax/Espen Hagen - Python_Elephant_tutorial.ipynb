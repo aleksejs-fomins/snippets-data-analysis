{
 "cells": [
  {
   "cell_type": "markdown",
   "metadata": {},
   "source": [
    "![title](http://elephant.readthedocs.io/en/latest/_static/elephant_logo_sidebar.png)"
   ]
  },
  {
   "cell_type": "markdown",
   "metadata": {},
   "source": [
    "# Elephant - Electrophysiology Analysis Toolkit¶\n",
    "\n",
    "This content is taken from https://elephant.readthedocs.io/en/latest\n",
    "\n",
    "## Synopsis\n",
    "Elephant is a toolbox for the analysis of electrophysiological data based on the Neo framework. This manual covers the installation of Elephant in an existing Python environment, several tutorials to help get you started, information on the structure and conventions of the library, a list of modules, and help for future contributors to Elephant."
   ]
  },
  {
   "cell_type": "code",
   "execution_count": null,
   "metadata": {},
   "outputs": [],
   "source": [
    "from IPython.display import HTML\n",
    "HTML(\"<iframe src=http://elephant.readthedocs.io/en/latest/overview.html width=900 height=800></iframe>\")"
   ]
  },
  {
   "cell_type": "markdown",
   "metadata": {},
   "source": [
    "# Installation\n",
    "\n",
    "From the Python Package Index (PyPI):\n",
    "\n",
    "    pip install elephant --user\n",
    "    \n",
    "From source (GitHub development version):\n",
    "    \n",
    "    cd ~/sources/\n",
    "    git clone https://github.com/NeuralEnsemble/elephant.git\n",
    "    cd elephant\n",
    "    python setup.py install --user"
   ]
  },
  {
   "cell_type": "markdown",
   "metadata": {},
   "source": [
    "# Example"
   ]
  },
  {
   "cell_type": "code",
   "execution_count": null,
   "metadata": {},
   "outputs": [],
   "source": [
    "import numpy as np\n",
    "import matplotlib.pyplot as plt\n",
    "from elephant.spike_train_generation import homogeneous_poisson_process"
   ]
  },
  {
   "cell_type": "code",
   "execution_count": null,
   "metadata": {},
   "outputs": [],
   "source": [
    "from quantities import Hz, s, ms\n",
    "spiketrain_list = [\n",
    "    homogeneous_poisson_process(rate=10.0*Hz, t_start=0.0*s, t_stop=100.0*s)\n",
    "    for i in range(100)]"
   ]
  },
  {
   "cell_type": "code",
   "execution_count": null,
   "metadata": {},
   "outputs": [],
   "source": [
    "print(len(spiketrain_list))"
   ]
  },
  {
   "cell_type": "code",
   "execution_count": null,
   "metadata": {},
   "outputs": [],
   "source": [
    "print(type(spiketrain_list[0]))"
   ]
  },
  {
   "cell_type": "code",
   "execution_count": null,
   "metadata": {},
   "outputs": [],
   "source": [
    "spiketrain_list[0]"
   ]
  },
  {
   "cell_type": "code",
   "execution_count": null,
   "metadata": {},
   "outputs": [],
   "source": [
    "# plot spike trains\n",
    "%matplotlib notebook\n",
    "import matplotlib.pyplot as plt\n",
    "import numpy as np\n",
    "for i, spiketrain in enumerate(spiketrain_list):\n",
    "    t = spiketrain.rescale(ms)\n",
    "    plt.plot(t, i * np.ones_like(t), 'k.', markersize=2)\n",
    "plt.axis('tight')\n",
    "plt.xlim(0, 1000)\n",
    "plt.xlabel('Time (ms)', fontsize=16)\n",
    "plt.ylabel('Spike Train Index', fontsize=16)\n",
    "plt.gca().tick_params(axis='both', which='major', labelsize=14)\n",
    "plt.show()"
   ]
  },
  {
   "cell_type": "code",
   "execution_count": null,
   "metadata": {},
   "outputs": [],
   "source": [
    "# compute some spike train statistics:\n",
    "from elephant.statistics import isi, cv\n",
    "cv_list = [cv(isi(spiketrain)) for spiketrain in spiketrain_list]"
   ]
  },
  {
   "cell_type": "code",
   "execution_count": null,
   "metadata": {},
   "outputs": [],
   "source": [
    "%matplotlib notebook\n",
    "plt.hist(cv_list)\n",
    "plt.xlabel('CV', fontsize=16)\n",
    "plt.ylabel('count', fontsize=16)\n",
    "plt.gca().tick_params(axis='both', which='major', labelsize=14)\n",
    "plt.show()"
   ]
  },
  {
   "cell_type": "markdown",
   "metadata": {},
   "source": [
    "# Getting more help\n",
    "## Online documentation\n",
    "https://elephant.readthedocs.io/en/latest\n",
    "## GitHub\n",
    "https://github.com/NeuralEnsemble/elephant"
   ]
  },
  {
   "cell_type": "code",
   "execution_count": null,
   "metadata": {},
   "outputs": [],
   "source": []
  }
 ],
 "metadata": {
  "kernelspec": {
   "display_name": "Python 3",
   "language": "python",
   "name": "python3"
  },
  "language_info": {
   "codemirror_mode": {
    "name": "ipython",
    "version": 3
   },
   "file_extension": ".py",
   "mimetype": "text/x-python",
   "name": "python",
   "nbconvert_exporter": "python",
   "pygments_lexer": "ipython3",
   "version": "3.7.0"
  }
 },
 "nbformat": 4,
 "nbformat_minor": 2
}

{
 "cells": [
  {
   "cell_type": "code",
   "execution_count": null,
   "metadata": {},
   "outputs": [],
   "source": [
    "print('Hello World')    # Python 3 (same as VirtualBox OCNC2018)\n",
    "\n",
    "# print 'Hello World'   #   omit brackets in Python 2 "
   ]
  },
  {
   "cell_type": "code",
   "execution_count": null,
   "metadata": {},
   "outputs": [],
   "source": [
    "# variables in Python\n",
    "\n",
    "# Integer\n",
    "\n",
    "myInt = 1\n",
    "\n",
    "# Float\n",
    "\n",
    "myFloat = 1.0 # 1.000001\n",
    "\n",
    "# Boolean (True/False)\n",
    "\n",
    "myBool = True\n",
    "\n",
    "# String\n",
    "\n",
    "myString = 'OCNC here we come!'\n",
    "\n",
    "# names are case-sensitive!\n",
    "# some names cannot be used: \n",
    "# \n",
    "\n"
   ]
  },
  {
   "cell_type": "code",
   "execution_count": null,
   "metadata": {},
   "outputs": [],
   "source": [
    "# Operators\n",
    "\n",
    "# +  , -  , * , ** , / , // , % , < , > , == , != , and, or , not\n",
    "\n",
    "a = 3\n",
    "b = 5\n",
    "\n",
    "print(a + b)"
   ]
  },
  {
   "cell_type": "code",
   "execution_count": null,
   "metadata": {},
   "outputs": [],
   "source": [
    "print(2*a)"
   ]
  },
  {
   "cell_type": "code",
   "execution_count": null,
   "metadata": {},
   "outputs": [],
   "source": [
    "print(a**2)  # exponent"
   ]
  },
  {
   "cell_type": "code",
   "execution_count": null,
   "metadata": {},
   "outputs": [],
   "source": [
    "print(b//a) # floor division"
   ]
  },
  {
   "cell_type": "code",
   "execution_count": null,
   "metadata": {},
   "outputs": [],
   "source": [
    "print(b%a)  # modulus"
   ]
  },
  {
   "cell_type": "code",
   "execution_count": null,
   "metadata": {},
   "outputs": [],
   "source": [
    "print(a/b)"
   ]
  },
  {
   "cell_type": "code",
   "execution_count": null,
   "metadata": {},
   "outputs": [],
   "source": [
    "print (a/2)  # is integer division in python 2"
   ]
  },
  {
   "cell_type": "code",
   "execution_count": null,
   "metadata": {},
   "outputs": [],
   "source": [
    "print(a < b)"
   ]
  },
  {
   "cell_type": "code",
   "execution_count": null,
   "metadata": {},
   "outputs": [],
   "source": [
    "print(a==b)\n",
    "\n",
    "print(a!=b)"
   ]
  },
  {
   "cell_type": "code",
   "execution_count": null,
   "metadata": {},
   "outputs": [],
   "source": [
    "print('OCNC' + ' is awesome ')"
   ]
  },
  {
   "cell_type": "code",
   "execution_count": null,
   "metadata": {},
   "outputs": [],
   "source": [
    "#### Containers\n",
    "\n",
    "# Tuple\n",
    "\n",
    "myTuple = (1,2,3)   # entries cannot be changed, but can be mixed\n",
    "\n",
    "myTuple2 = (1, 'one', True)"
   ]
  },
  {
   "cell_type": "code",
   "execution_count": null,
   "metadata": {},
   "outputs": [],
   "source": [
    "# List\n",
    "myList = [1,2,3,4,5,6]\n",
    "\n",
    "myNestedList = [[1,2,3], [4,5,6], [7,8,9]]"
   ]
  },
  {
   "cell_type": "code",
   "execution_count": null,
   "metadata": {},
   "outputs": [],
   "source": [
    "# Dictionary\n",
    "\n",
    "myDict = {'Orion': 1, 'Kirin': 2, 'Yebisu': 3, 'Sapporo': 4}\n",
    "\n",
    "myDict2 = {'Orion': 'is delicious', 'Kirin': 'is fresh', 'Yebisu': 'is tasty'}"
   ]
  },
  {
   "cell_type": "code",
   "execution_count": null,
   "metadata": {},
   "outputs": [],
   "source": [
    "# Numpy Array\n",
    "\n",
    "import numpy as np   # import the modul called numpy.\n",
    "\n",
    "myArray = np.array([1,2,3])\n",
    "\n",
    "myNestedArray = np.array([[1,2],[3,4]])\n",
    "\n",
    "myZeros = np.zeros([3])   \n",
    "\n",
    "myLinspace = np.linspace(0,10,20) # get 20 elements between 0 and 10\n",
    "\n",
    "myArange = np.arange(0,10,0.1) # get elements between 1 and 10 with 0.1 spacing (excludes last!)\n",
    "\n",
    "print(myArange[-1]) # see last element\n",
    "\n",
    "#######\n",
    "\n",
    "myOtherArray = np.array([10,20,30])\n",
    "\n",
    "# print(myArray + myOtherArray)  # sizes must match!!"
   ]
  },
  {
   "cell_type": "code",
   "execution_count": null,
   "metadata": {},
   "outputs": [],
   "source": [
    "# element-by-element multiplication\n",
    "\n",
    "newArray = myArray*myOtherArray\n",
    "\n",
    "print(newArray)"
   ]
  },
  {
   "cell_type": "code",
   "execution_count": null,
   "metadata": {},
   "outputs": [],
   "source": [
    "# for dot product, use np.dot()\n",
    "\n",
    "dotProduct = np.dot(myArray,myOtherArray)\n",
    "\n",
    "print(dotProduct)"
   ]
  },
  {
   "cell_type": "code",
   "execution_count": null,
   "metadata": {},
   "outputs": [],
   "source": [
    "# Container indexing\n",
    "\n",
    "myList = [1,2,3,4,5,6]\n",
    "\n",
    "print(myList[0])\n",
    "\n",
    "print(myList[0:4])\n",
    "\n",
    "print(myList[-1])\n",
    "\n",
    "print(myList[2::])\n",
    "\n",
    "print(myList[::2]) # every second element"
   ]
  },
  {
   "cell_type": "code",
   "execution_count": null,
   "metadata": {},
   "outputs": [],
   "source": [
    "print(myDict2['Orion'])"
   ]
  },
  {
   "cell_type": "code",
   "execution_count": null,
   "metadata": {},
   "outputs": [],
   "source": [
    "#  extend or modify arrays\n",
    "\n",
    "myA = np.array([1,2],float)\n",
    "\n",
    "myA[0] = 3"
   ]
  },
  {
   "cell_type": "code",
   "execution_count": null,
   "metadata": {},
   "outputs": [],
   "source": [
    "myA = np.array([[1,2]],float)\n",
    "\n",
    "myA[0][1] = 3\n",
    "\n",
    "print(myA)"
   ]
  },
  {
   "cell_type": "code",
   "execution_count": null,
   "metadata": {},
   "outputs": [],
   "source": [
    "# joining two arrays\n",
    "\n",
    "newA = np.concatenate((myA,myA),axis=0)\n",
    "print(newA)\n",
    "\n",
    "myL = [1,2,3]\n",
    "otherL = [4,5,6]\n",
    "myL.append(otherL)\n",
    "\n",
    "print(myL)"
   ]
  },
  {
   "cell_type": "code",
   "execution_count": null,
   "metadata": {},
   "outputs": [],
   "source": [
    "# useful function: numpy.where\n",
    "\n",
    "A = np.array([1,2,3,4,5])\n",
    "\n",
    "B = np.where(A>3)\n",
    "\n",
    "print(B)"
   ]
  },
  {
   "cell_type": "code",
   "execution_count": null,
   "metadata": {},
   "outputs": [],
   "source": [
    "print(A[B])"
   ]
  },
  {
   "cell_type": "code",
   "execution_count": null,
   "metadata": {},
   "outputs": [],
   "source": [
    "# make a Module (function)\n",
    "\n",
    "someData = [10,12,14,16]\n",
    "\n",
    "def getAverage(d):\n",
    "    \n",
    "    \"returns the average of a 1-D array\"\n",
    "    \n",
    "    return np.sum(d)/np.size(d)"
   ]
  },
  {
   "cell_type": "code",
   "execution_count": null,
   "metadata": {},
   "outputs": [],
   "source": [
    "print(getAverage(someData))"
   ]
  },
  {
   "cell_type": "code",
   "execution_count": null,
   "metadata": {},
   "outputs": [],
   "source": [
    "help(getAverage)"
   ]
  },
  {
   "cell_type": "code",
   "execution_count": null,
   "metadata": {},
   "outputs": [],
   "source": [
    "# Loop a variable\n",
    "\n",
    "N = 6\n",
    "\n",
    "for a in range(N):\n",
    "    \n",
    "    print(a)\n",
    "    print('Ni!')\n",
    "    \n",
    "    #if a==3 :        ### a > 3:  ## a != 0 : \n",
    "    #     break"
   ]
  },
  {
   "cell_type": "code",
   "execution_count": null,
   "metadata": {},
   "outputs": [],
   "source": [
    "# making a sine plot\n",
    "\n",
    "import numpy as np\n",
    "import matplotlib.pyplot as plt\n",
    "\n",
    "myFig = plt.figure()\n",
    "\n",
    "x = np.arange(0,10,0.1)\n",
    "\n",
    "y = np.sin(x)\n",
    "\n",
    "plt.plot(x,y,linewidth=2)\n",
    "\n",
    "\n",
    "myFig.savefig('Downloads/SineFigure.png',format = 'png')"
   ]
  },
  {
   "cell_type": "code",
   "execution_count": null,
   "metadata": {},
   "outputs": [],
   "source": [
    "# making a scatterplot\n",
    "\n",
    "import numpy.random as nr\n",
    "\n",
    "myFig = plt.figure()\n",
    "\n",
    "npoints = 100  # how many points?\n",
    "x = nr.normal(0,1,npoints)\n",
    "\n",
    "y = nr.normal(0,2,npoints)\n",
    "\n",
    "plt.scatter(x,y,marker='x',color='b')"
   ]
  },
  {
   "cell_type": "code",
   "execution_count": null,
   "metadata": {},
   "outputs": [],
   "source": [
    "# show an image\n",
    "\n",
    "import numpy as np\n",
    "import matplotlib.pyplot as plt\n",
    "import matplotlib.image as mpimg\n",
    "\n",
    "imgPython = mpimg.imread('Downloads/mpython.png')\n",
    "\n",
    "imgPython  # look at array (R, G and B channels)\n",
    "\n",
    "imgplot = plt.imshow(imgPython)\n",
    "plt.show()"
   ]
  },
  {
   "cell_type": "code",
   "execution_count": null,
   "metadata": {},
   "outputs": [],
   "source": [
    "# example of colormap\n",
    "\n",
    "newimg = imgPython[:,:,0]    # take an array slice\n",
    "plt.imshow(newimg, cmap = 'jet', interpolation='bicubic') \n",
    "plt.colorbar()\n",
    "plt.show()"
   ]
  },
  {
   "cell_type": "code",
   "execution_count": null,
   "metadata": {},
   "outputs": [],
   "source": [
    "import scipy.stats as sst\n",
    "\n",
    "# statistical test\n",
    "\n",
    "ndata = 50 # number of datapoints\n",
    "data_cond1 = nr.uniform(10,20,ndata) # some dataset\n",
    "data_cond2  = nr.uniform(20,30,ndata) # another data set of same size\n",
    "\n",
    "# Wilcoxon rank-sum test (a.k.a Mann-Whitney U-test)\n",
    "statistic, pval = sst.ranksums(data_cond1,data_cond2)\n",
    "\n",
    "print(pval)"
   ]
  },
  {
   "cell_type": "code",
   "execution_count": null,
   "metadata": {},
   "outputs": [],
   "source": [
    "# Linear algebra (square matrix)\n",
    "\n",
    "import scipy.linalg as la\n",
    "\n",
    "myMatrix = np.array([[1,2,1],[0,5,7],[2,2,1]],float)\n",
    "\n",
    "invMat = la.inv(myMatrix) # get inverse\n",
    "print(invMat)\n",
    "\n",
    "detMat = la.det(myMatrix) # get determinant\n",
    "print(detMat)"
   ]
  },
  {
   "cell_type": "code",
   "execution_count": null,
   "metadata": {},
   "outputs": [],
   "source": [
    "# Linear algebra\n",
    "# get eigenvectors & eigenvalues\n",
    "\n",
    "lambdas, vecs = la.eig(myMatrix,right=True)\n",
    "\n",
    "print(lambdas) # eigenvalues\n",
    "print(vecs)   # eigenvectors"
   ]
  },
  {
   "cell_type": "code",
   "execution_count": null,
   "metadata": {},
   "outputs": [],
   "source": []
  }
 ],
 "metadata": {
  "kernelspec": {
   "display_name": "Python 3",
   "language": "python",
   "name": "python3"
  },
  "language_info": {
   "codemirror_mode": {
    "name": "ipython",
    "version": 3
   },
   "file_extension": ".py",
   "mimetype": "text/x-python",
   "name": "python",
   "nbconvert_exporter": "python",
   "pygments_lexer": "ipython3",
   "version": "3.6.5"
  }
 },
 "nbformat": 4,
 "nbformat_minor": 2
}

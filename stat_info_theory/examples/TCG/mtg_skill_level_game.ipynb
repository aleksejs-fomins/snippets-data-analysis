{
 "cells": [
  {
   "cell_type": "markdown",
   "metadata": {},
   "source": [
    "There are $N=10000$ players playing the game\n",
    "\n",
    "Each player's skill is given by a scalar variable $x_i$\n",
    "\n",
    "The probability of player $i$ winning against player $j$ is given by a symmetric function\n",
    "\n",
    "$$p^{win}_{ij} = \\sigma \\biggl( \\frac{x_i - x_j}{sL} \\biggr)$$\n",
    "\n",
    "where $s = STD(x)$ and $L$ is a measure of the amount of skill there is in the game.\n",
    "\n",
    "There are $M=24$ different ranks in the game. Players always play against opponents of the same rank. The winner gets promoted to next rank, loser to the previous.\n",
    "\n",
    "After some period of time, the number of people per rank settles to an equillibrium.\n",
    "\n",
    "**Question**:\n",
    "* Plot the fraction of people at the top rank $f_M = N_M / N$ as function of $L$\n",
    "* See how well $L$ can be inferred from $f_M$\n",
    "* How does initial distribution of $x_i$ affect result. Try uniform, gaussian and exponential\n",
    "\n",
    "**Extensions**:\n",
    "* Effect of loss protection upon entry to new rank\n",
    "* Effect of BO3\n",
    "* Effect of sub-ranks (e.g. 6 ranks * 4 subranks), where you can play against anybody within sub-rank\n",
    "* Are there other winning functions $p^{win}$?"
   ]
  },
  {
   "cell_type": "code",
   "execution_count": null,
   "metadata": {},
   "outputs": [],
   "source": []
  }
 ],
 "metadata": {
  "kernelspec": {
   "display_name": "Python 3 (qt5)",
   "language": "python",
   "name": "myenv"
  },
  "language_info": {
   "codemirror_mode": {
    "name": "ipython",
    "version": 3
   },
   "file_extension": ".py",
   "mimetype": "text/x-python",
   "name": "python",
   "nbconvert_exporter": "python",
   "pygments_lexer": "ipython3",
   "version": "3.7.6"
  }
 },
 "nbformat": 4,
 "nbformat_minor": 2
}

{
 "cells": [
  {
   "cell_type": "markdown",
   "metadata": {},
   "source": [
    "# Rank Testing\n",
    "\n",
    "Unpaired/Independent Test:\n",
    "* Have $N_x$ samples from unknown distribution $\\rho(x)$\n",
    "* Have $N_y$ samples from unknown distribution $\\rho(y)$\n",
    "* Want to test  $ \\langle x \\rangle > \\langle y \\rangle$\n",
    "* Thus need to estimate the p-value of the null hypothesis $p = P[Data | \\langle x \\rangle \\leq \\langle y \\rangle]$\n",
    "\n",
    "|Method|Distribution|Known Var|Uses Magnitude|Comments|\n",
    "|--|--|--|--|--|\n",
    "|[intependent t-test](https://en.wikipedia.org/wiki/Student%27s_t-test#Independent_two-sample_t-test)| Normal | Yes | Yes | Best test for normal |\n",
    "|[Welch's t-test](https://en.wikipedia.org/wiki/Welch%27s_t-test)| Normal | Yes | No | Good approx for unknown var |\n",
    "|[Mann-Whiteley U Test](https://en.wikipedia.org/wiki/Mann%E2%80%93Whitney_U_test)| Any | No | ??? | Allegedly 0.95% performance in asymptotic normality |\n",
    "  \n",
    "Paired Test:\n",
    "* Have $N$ samples from unknown distribution $\\rho(x, y)$\n",
    "* Want to test  $\\langle x-y \\rangle > 0$\n",
    "* Thus need to estimate the p-value of the null hypothesis $p = P[Data | \\langle x-y \\rangle \\leq 0]$\n",
    "\n",
    "|Method|Distribution|Known Var|Uses Magnitude|Comments|\n",
    "|--|--|--|--|--|\n",
    "|[paired Z-Test](https://en.wikipedia.org/wiki/Z-test)| Normal | Yes | Yes | Best test for normal|\n",
    "|[paired t-test](https://en.wikipedia.org/wiki/Student%27s_t-test#One-sample_t-test)| Normal | No | Yes | Best test for normal|\n",
    "|[Binomial rank test](https://en.wikipedia.org/wiki/Binomial_proportion_confidence_interval)| Any | No | No | General, but weak |\n",
    "|[Wilcoxon's signed-rank test](https://en.wikipedia.org/wiki/Wilcoxon_signed-rank_test)| Any | No | ??? | ??? |\n",
    "  "
   ]
  },
  {
   "cell_type": "code",
   "execution_count": null,
   "metadata": {
    "collapsed": true
   },
   "outputs": [],
   "source": []
  }
 ],
 "metadata": {
  "kernelspec": {
   "display_name": "Python (py36qt5)",
   "language": "python",
   "name": "py36qt5"
  },
  "language_info": {
   "codemirror_mode": {
    "name": "ipython",
    "version": 3
   },
   "file_extension": ".py",
   "mimetype": "text/x-python",
   "name": "python",
   "nbconvert_exporter": "python",
   "pygments_lexer": "ipython3",
   "version": "3.6.4"
  }
 },
 "nbformat": 4,
 "nbformat_minor": 2
}

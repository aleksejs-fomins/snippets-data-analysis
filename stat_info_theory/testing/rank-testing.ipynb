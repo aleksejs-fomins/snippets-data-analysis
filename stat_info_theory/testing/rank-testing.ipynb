{
 "cells": [
  {
   "cell_type": "markdown",
   "metadata": {},
   "source": [
    "# Rank Testing\n",
    "\n",
    "Unpaired/Independent Test:\n",
    "* Have $N_x$ samples from unknown distribution $\\rho(x)$\n",
    "* Have $N_y$ samples from unknown distribution $\\rho(y)$\n",
    "* Want to test  $ \\langle x \\rangle > \\langle y \\rangle$\n",
    "* Thus need to estimate the p-value of the null hypothesis $p = P[Data | \\langle x \\rangle \\leq \\langle y \\rangle]$\n",
    "\n",
    "|Method|Distribution|Known Var|Uses Magnitude|Comments|\n",
    "|--|--|--|--|--|\n",
    "|[intependent t-test](https://en.wikipedia.org/wiki/Student%27s_t-test#Independent_two-sample_t-test)| Normal | Yes | Yes | Best test for normal |\n",
    "|[Welch's t-test](https://en.wikipedia.org/wiki/Welch%27s_t-test)| Normal | Yes | No | Good approx for unknown var |\n",
    "|[Mann-Whiteley U Test](https://en.wikipedia.org/wiki/Mann%E2%80%93Whitney_U_test)| Any | No | ??? | Allegedly 0.95% performance in asymptotic normality |\n",
    "  \n",
    "Paired Test:\n",
    "* Have $N$ samples from unknown distribution $\\rho(x, y)$\n",
    "* Want to test  $\\langle x-y \\rangle > 0$\n",
    "* Thus need to estimate the p-value of the null hypothesis $p = P[Data | \\langle x-y \\rangle \\leq 0]$\n",
    "\n",
    "|Method|Distribution|Known Var|Uses Magnitude|Comments|\n",
    "|--|--|--|--|--|\n",
    "|[paired Z-Test](https://en.wikipedia.org/wiki/Z-test)| Normal | Yes | Yes | Best test for normal|\n",
    "|[paired t-test](https://en.wikipedia.org/wiki/Student%27s_t-test#One-sample_t-test)| Normal | No | Yes | Best test for normal|\n",
    "|[Binomial rank test](https://en.wikipedia.org/wiki/Binomial_proportion_confidence_interval)| Any | No | No | Very weak, do not use |\n",
    "|[Wilcoxon's signed-rank test](https://en.wikipedia.org/wiki/Wilcoxon_signed-rank_test)| Any | No | Yes | Comparable to normal, very good |\n",
    "  "
   ]
  },
  {
   "cell_type": "code",
   "execution_count": 1,
   "metadata": {
    "collapsed": true
   },
   "outputs": [],
   "source": [
    "import numpy as np\n",
    "from scipy.stats import ttest_rel, ttest_ind, mannwhitneyu, wilcoxon\n",
    "from scipy.stats import binom\n",
    "import matplotlib.pyplot as plt\n",
    "\n",
    "\n",
    "from sklearn import linear_model\n",
    "from scipy.special import expit, seterr"
   ]
  },
  {
   "cell_type": "code",
   "execution_count": 2,
   "metadata": {
    "collapsed": true
   },
   "outputs": [],
   "source": [
    "# Binary section search\n",
    "# Find argument of a monotonic function in range [l,r], for which F(arg) ~ trg +/- acc\n",
    "def binsect(func, l, r, trg, relAcc=0.01):\n",
    "    fl = func(l)\n",
    "    fr = func(r)\n",
    "    fmid = fr\n",
    "    if fl > fr:\n",
    "        l,r = r,l\n",
    "    \n",
    "    while np.abs(fmid/trg - 1) > relAcc:\n",
    "        mid = (l + r) / 2\n",
    "        fmid = func(mid)\n",
    "        if fmid < trg:\n",
    "            l, fl = mid, fmid\n",
    "        else:\n",
    "            r, fr = mid, fmid\n",
    "            \n",
    "    return mid\n",
    "\n",
    "# Calculate p-value for two shifted gaussians\n",
    "def pval_generic(nSample, delta, testfunc):\n",
    "    x = np.random.normal(0,1,nSample)\n",
    "    y = np.random.normal(delta,1,nSample)\n",
    "    return testfunc(x,y)\n",
    "\n",
    "# Test p-value for two shifted gaussians\n",
    "def test_generic(nSample, delta, testfunc):\n",
    "    return pval_generic(nSample, delta, testfunc) < 0.01\n",
    "\n",
    "\n",
    "'''\n",
    "algorithm:\n",
    "1. initialize parameter p\n",
    "2. Construct binomial pval = P[n < nTrue | p] = F(p)\n",
    "3. Solve p = Finv(pval) using binary section\n",
    "'''\n",
    "def bintest(x, y):\n",
    "    n = len(x)\n",
    "    nL = np.sum(x <= y)\n",
    "    nR = np.sum(x >= y)\n",
    "    \n",
    "    cdfL = lambda p: binom.cdf(nL, n, p)\n",
    "    cdfR = lambda p: binom.cdf(nR, n, p)\n",
    "    \n",
    "    pL = binsect(cdfL, 0, 1, 0.01)\n",
    "    pR = binsect(cdfR, 0, 1, 0.01)\n",
    "    return np.min([pL, pR])\n",
    "\n",
    "    \n",
    "testFuncDict = {\n",
    "    't_test_paired'  : lambda x,y : ttest_rel(x,y)[1],\n",
    "    't_test_welch'   : lambda x,y : ttest_ind(x,y, equal_var=False)[1],\n",
    "    'mannwhitneyu'   : lambda x,y : mannwhitneyu(x,y)[1],\n",
    "    'signedrank'     : lambda x,y : wilcoxon(x,y)[1],\n",
    "    'binomial'       : lambda x,y : bintest(x,y)\n",
    "}"
   ]
  },
  {
   "cell_type": "code",
   "execution_count": 3,
   "metadata": {
    "collapsed": true
   },
   "outputs": [],
   "source": [
    "# Adaprively sample a binary function to improve fitness of logistic curve\n",
    "def adaptive_logistic_sampling(testfunc):\n",
    "    one_test = lambda n : (n, testfunc(n))\n",
    "    rezLst = []\n",
    "        \n",
    "    # Step 1: Find n for which 10/10 tests are true\n",
    "    N_RESAMPLE = 20\n",
    "    n = 2\n",
    "    l = 2\n",
    "    done = False\n",
    "    while not done:\n",
    "        tmpLst = [one_test(n) for i in range(N_RESAMPLE)]\n",
    "        rezLst += tmpLst\n",
    "        testRez = np.array([tmpLst[i][1] for i in range(N_RESAMPLE)])\n",
    "        done = np.all(testRez)\n",
    "        if np.all(~testRez):\n",
    "            l = n\n",
    "        n *= 2\n",
    "\n",
    "    # Step 2: Randomly sample the interval in which probability is somewhere between [0,1]\n",
    "    r = rezLst[-1][0]\n",
    "    for i in range(200):\n",
    "        rezLst += [one_test(np.random.randint(l, r + 1))]\n",
    "        \n",
    "    return np.array(rezLst).T\n",
    "\n",
    "\n",
    "# Fit logistic curve to data, can also plot the fit\n",
    "def fit_log_reg(x, y, plot=True):\n",
    "    # Fit the classifier\n",
    "    clf = linear_model.LogisticRegression(solver='lbfgs')\n",
    "    xfancy = np.copy(x)\n",
    "    xfancy = xfancy[:, np.newaxis]\n",
    "\n",
    "    clf.fit(xfancy, y)\n",
    "\n",
    "    if plot:    \n",
    "        plt.figure()\n",
    "        plt.scatter(x, r)\n",
    "        x_test = np.linspace(np.min(x), np.max(x), 1000)\n",
    "        loss = expit(x_test * clf.coef_ + clf.intercept_)[0]\n",
    "        plt.plot(x_test, loss, color='red', linewidth=3)\n",
    "    \n",
    "    return clf\n",
    "\n",
    "# Inverse of a logistic curve\n",
    "def invert_log_reg(clf, p):\n",
    "    x = np.log(p / (1-p))\n",
    "    xSh = (x - clf.intercept_) / clf.coef_\n",
    "    return xSh[0][0]"
   ]
  },
  {
   "cell_type": "markdown",
   "metadata": {},
   "source": [
    "For each test, compute p-value at fixed number of samples, as function of distance between gaussians"
   ]
  },
  {
   "cell_type": "code",
   "execution_count": 4,
   "metadata": {},
   "outputs": [
    {
     "data": {
      "image/png": "[encoded data removed]",
      "text/plain": [
       "<Figure size 432x288 with 1 Axes>"
      ]
     },
     "metadata": {
      "needs_background": "light"
     },
     "output_type": "display_data"
    }
   ],
   "source": [
    "numDelta = 20\n",
    "nSample = 1000\n",
    "deltaArr = np.flip(np.linspace(0.2, 3, numDelta))\n",
    "\n",
    "plt.figure()\n",
    "for testName, testFunc in testFuncDict.items():\n",
    "    if testName == 'binomial':\n",
    "        pValArr = np.zeros(numDelta)\n",
    "        for i, delta in enumerate(deltaArr):\n",
    "            pValArr[i] = pval_generic(nSample, delta, testFunc)\n",
    "\n",
    "        plt.semilogy(deltaArr, pValArr, label=testName)\n",
    "\n",
    "plt.legend()\n",
    "plt.title(\"P-value of test for nSample=\"+str(nSample))\n",
    "plt.show()"
   ]
  },
  {
   "cell_type": "markdown",
   "metadata": {},
   "source": [
    "For each test, find number of samples necessary to reach a given confidence, as function of distance between gaussians"
   ]
  },
  {
   "cell_type": "code",
   "execution_count": 5,
   "metadata": {},
   "outputs": [
    {
     "name": "stderr",
     "output_type": "stream",
     "text": [
      "/opt/anaconda3/envs/py37qt5/lib/python3.7/site-packages/scipy/stats/morestats.py:2388: UserWarning: Warning: sample size too small for normal approximation.\n",
      "  warnings.warn(\"Warning: sample size too small for normal approximation.\")\n",
      "/opt/anaconda3/envs/py37qt5/lib/python3.7/site-packages/scipy/stats/morestats.py:2388: UserWarning: Warning: sample size too small for normal approximation.\n",
      "  warnings.warn(\"Warning: sample size too small for normal approximation.\")\n",
      "/opt/anaconda3/envs/py37qt5/lib/python3.7/site-packages/scipy/stats/morestats.py:2388: UserWarning: Warning: sample size too small for normal approximation.\n",
      "  warnings.warn(\"Warning: sample size too small for normal approximation.\")\n",
      "/opt/anaconda3/envs/py37qt5/lib/python3.7/site-packages/scipy/stats/morestats.py:2388: UserWarning: Warning: sample size too small for normal approximation.\n",
      "  warnings.warn(\"Warning: sample size too small for normal approximation.\")\n",
      "/opt/anaconda3/envs/py37qt5/lib/python3.7/site-packages/scipy/stats/morestats.py:2388: UserWarning: Warning: sample size too small for normal approximation.\n",
      "  warnings.warn(\"Warning: sample size too small for normal approximation.\")\n",
      "/opt/anaconda3/envs/py37qt5/lib/python3.7/site-packages/scipy/stats/morestats.py:2388: UserWarning: Warning: sample size too small for normal approximation.\n",
      "  warnings.warn(\"Warning: sample size too small for normal approximation.\")\n",
      "/opt/anaconda3/envs/py37qt5/lib/python3.7/site-packages/scipy/stats/morestats.py:2388: UserWarning: Warning: sample size too small for normal approximation.\n",
      "  warnings.warn(\"Warning: sample size too small for normal approximation.\")\n",
      "/opt/anaconda3/envs/py37qt5/lib/python3.7/site-packages/scipy/stats/morestats.py:2388: UserWarning: Warning: sample size too small for normal approximation.\n",
      "  warnings.warn(\"Warning: sample size too small for normal approximation.\")\n",
      "/opt/anaconda3/envs/py37qt5/lib/python3.7/site-packages/scipy/stats/morestats.py:2388: UserWarning: Warning: sample size too small for normal approximation.\n",
      "  warnings.warn(\"Warning: sample size too small for normal approximation.\")\n",
      "/opt/anaconda3/envs/py37qt5/lib/python3.7/site-packages/scipy/stats/morestats.py:2388: UserWarning: Warning: sample size too small for normal approximation.\n",
      "  warnings.warn(\"Warning: sample size too small for normal approximation.\")\n",
      "/opt/anaconda3/envs/py37qt5/lib/python3.7/site-packages/scipy/stats/morestats.py:2388: UserWarning: Warning: sample size too small for normal approximation.\n",
      "  warnings.warn(\"Warning: sample size too small for normal approximation.\")\n",
      "/opt/anaconda3/envs/py37qt5/lib/python3.7/site-packages/scipy/stats/morestats.py:2388: UserWarning: Warning: sample size too small for normal approximation.\n",
      "  warnings.warn(\"Warning: sample size too small for normal approximation.\")\n",
      "/opt/anaconda3/envs/py37qt5/lib/python3.7/site-packages/scipy/stats/morestats.py:2388: UserWarning: Warning: sample size too small for normal approximation.\n",
      "  warnings.warn(\"Warning: sample size too small for normal approximation.\")\n",
      "/opt/anaconda3/envs/py37qt5/lib/python3.7/site-packages/scipy/stats/morestats.py:2388: UserWarning: Warning: sample size too small for normal approximation.\n",
      "  warnings.warn(\"Warning: sample size too small for normal approximation.\")\n",
      "/opt/anaconda3/envs/py37qt5/lib/python3.7/site-packages/scipy/stats/morestats.py:2388: UserWarning: Warning: sample size too small for normal approximation.\n",
      "  warnings.warn(\"Warning: sample size too small for normal approximation.\")\n",
      "/opt/anaconda3/envs/py37qt5/lib/python3.7/site-packages/scipy/stats/morestats.py:2388: UserWarning: Warning: sample size too small for normal approximation.\n",
      "  warnings.warn(\"Warning: sample size too small for normal approximation.\")\n",
      "/opt/anaconda3/envs/py37qt5/lib/python3.7/site-packages/scipy/stats/morestats.py:2388: UserWarning: Warning: sample size too small for normal approximation.\n",
      "  warnings.warn(\"Warning: sample size too small for normal approximation.\")\n",
      "/opt/anaconda3/envs/py37qt5/lib/python3.7/site-packages/scipy/stats/morestats.py:2388: UserWarning: Warning: sample size too small for normal approximation.\n",
      "  warnings.warn(\"Warning: sample size too small for normal approximation.\")\n",
      "/opt/anaconda3/envs/py37qt5/lib/python3.7/site-packages/scipy/stats/morestats.py:2388: UserWarning: Warning: sample size too small for normal approximation.\n",
      "  warnings.warn(\"Warning: sample size too small for normal approximation.\")\n",
      "/opt/anaconda3/envs/py37qt5/lib/python3.7/site-packages/scipy/stats/morestats.py:2388: UserWarning: Warning: sample size too small for normal approximation.\n",
      "  warnings.warn(\"Warning: sample size too small for normal approximation.\")\n"
     ]
    },
    {
     "data": {
      "image/png": "[encoded data removed]",
      "text/plain": [
       "<Figure size 432x288 with 1 Axes>"
      ]
     },
     "metadata": {
      "needs_background": "light"
     },
     "output_type": "display_data"
    }
   ],
   "source": [
    "P_THR = 0.99\n",
    "numDelta = 20\n",
    "deltaArr = np.flip(np.linspace(0.2, 3, numDelta))\n",
    "\n",
    "plt.figure()\n",
    "for testName, testFunc in testFuncDict.items():\n",
    "    if testName != 'binomial':\n",
    "        nSampleFit = np.zeros(numDelta)\n",
    "        for i, delta in enumerate(deltaArr):\n",
    "            #print(testName, delta)\n",
    "            test_wrapper = lambda n : test_generic(n, delta, testFunc)\n",
    "            s, r = adaptive_logistic_sampling(test_wrapper)\n",
    "            clf = fit_log_reg(np.sqrt(s), r, plot=False)\n",
    "            sQuant = invert_log_reg(clf, P_THR)\n",
    "            nSampleFit[i] += sQuant**2\n",
    "\n",
    "        plt.semilogy(deltaArr, nSampleFit, label=testName)\n",
    "    \n",
    "plt.legend()\n",
    "plt.title(\"Number of samples to reject H0 with confidence \" + str(P_THR))\n",
    "plt.ylabel(\"Number of samples\")\n",
    "plt.xlabel(\"Distance in sigmas\")\n",
    "plt.show()"
   ]
  },
  {
   "cell_type": "code",
   "execution_count": 6,
   "metadata": {},
   "outputs": [
    {
     "name": "stdout",
     "output_type": "stream",
     "text": [
      "WilcoxonResult(statistic=824.0, pvalue=4.957557153988046e-09)\n",
      "0.3427734375\n"
     ]
    }
   ],
   "source": [
    "x = np.random.normal(0,1,100)\n",
    "y = np.random.normal(1,1,100)\n",
    "\n",
    "print(wilcoxon(x,y))\n",
    "print(bintest(x,y))"
   ]
  },
  {
   "cell_type": "code",
   "execution_count": 7,
   "metadata": {},
   "outputs": [
    {
     "name": "stdout",
     "output_type": "stream",
     "text": [
      "0.81884765625 0.00994486443051774\n"
     ]
    },
    {
     "data": {
      "image/png": "[encoded data removed]",
      "text/plain": [
       "<Figure size 432x288 with 1 Axes>"
      ]
     },
     "metadata": {
      "needs_background": "light"
     },
     "output_type": "display_data"
    }
   ],
   "source": [
    "pos = np.linspace(0,1,100)\n",
    "aaa = [binom.cdf(72, 100, p) for p in pos]\n",
    "bs = binsect(lambda p: binom.cdf(72, 100, p), 0, 1, 0.01)\n",
    "\n",
    "print(bs, binom.cdf(72, 100, bs))\n",
    "\n",
    "plt.figure()\n",
    "plt.plot(pos, aaa)\n",
    "plt.axvline(x=bs)\n",
    "plt.show()"
   ]
  },
  {
   "cell_type": "code",
   "execution_count": null,
   "metadata": {
    "collapsed": true
   },
   "outputs": [],
   "source": []
  }
 ],
 "metadata": {
  "kernelspec": {
   "display_name": "Python 3",
   "language": "python",
   "name": "python3"
  },
  "language_info": {
   "codemirror_mode": {
    "name": "ipython",
    "version": 3
   },
   "file_extension": ".py",
   "mimetype": "text/x-python",
   "name": "python",
   "nbconvert_exporter": "python",
   "pygments_lexer": "ipython3",
   "version": "3.6.4"
  }
 },
 "nbformat": 4,
 "nbformat_minor": 2
}

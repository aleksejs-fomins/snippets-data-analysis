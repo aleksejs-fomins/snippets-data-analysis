{
 "cells": [
  {
   "cell_type": "markdown",
   "metadata": {},
   "source": [
    "# ROC - AUC\n",
    "\n",
    "Say we are discriminating cats vs dogs from images. Each image is represented by a vector $\\vec{x}_i$ of pixels, and each value $y_i \\in \\{0, 1\\}$ is correponds to a cat or a dog respectively. Next assume that we have trained a map $f(\\vec{x}) = \\alpha$, where $\\alpha \\in [0, 1]$. So\n",
    "\n",
    "* if $\\alpha \\approx 0$ it is clearly a cat\n",
    "* if $\\alpha \\approx 1$ it is clearly a dog\n",
    "* if $\\alpha \\approx 0.5$ the classifier is undecided\n",
    "\n",
    "The map then can be converted into a classifier $\\hat{y}(T) = \\alpha > T$, where $T$ is some threshold value.\n",
    "\n",
    "Now assume we are only interested in whether the image is a cat or not. So finding a cat would be a \"positive\" outcome, and finding anything else (that is, a dog, in this case) would be \"negative\". Then\n",
    "\n",
    "* $TP = \\sum_i \\bigl[(y_i, \\hat{y}_i) = (0, 0) \\bigr]$  - True Positives\n",
    "* $FP = \\sum_i \\bigl[(y_i, \\hat{y}_i) = (1, 0) \\bigr]$  - False Positives\n",
    "* $TN = \\sum_i \\bigl[(y_i, \\hat{y}_i) = (1, 1) \\bigr]$  - True Negatives\n",
    "* $FN = \\sum_i \\bigl[(y_i, \\hat{y}_i) = (0, 1) \\bigr]$  - False Negatives\n",
    "\n",
    "Statistics people define a few more values, which are\n",
    "\n",
    "* $TPR = TP / P = TP / (TP + FN)$ - True Positive \"Rate\" - Out of all times when it was a cat, how many times did we guess it was a cat\n",
    "* $FPR = FP / N = FP / (FP + TN)$ - False Positive \"Rate\" - Out of all times when it was a dog, how many times did we guess it was a cat\n",
    "\n",
    "Now, the value of $T$ determines our strategy.\n",
    "\n",
    "* For high $T$, we are more likely to call everything a cat. That increases TPR at the expense of increasing FPR\n",
    "* For low $T$, we are more likely to call everything a dog. That decreases FPR at the expense of decreasing TPR\n",
    "\n",
    "One can now plot TPR vs FPR as function of T. Diagonal are the expected values of blind guesses. Points in upper left triangle are better-than-random predictions, in the lower right are worse than random.\n",
    "\n",
    "Now people also like to compute AUC - area under the curve. It is defined as\n",
    "\n",
    "$$AUC = \\int TPR(FPR) dFPR = \\int TPR(T) FPR'(T) dT \\approx \\sum_i \\frac{T_i + T_{i-1}}{2} (F_i - F_{i-1}) $$\n",
    "\n",
    "Apparently, it is equivalent to Wilcoxon signed-rank test."
   ]
  },
  {
   "cell_type": "code",
   "execution_count": 7,
   "metadata": {},
   "outputs": [
    {
     "data": {
      "image/png": "[encoded data removed]",
      "text/plain": [
       "<matplotlib.figure.Figure at 0x7fad1497f588>"
      ]
     },
     "metadata": {},
     "output_type": "display_data"
    }
   ],
   "source": [
    "import numpy as np\n",
    "import matplotlib.pyplot as plt\n",
    "\n",
    "nSample = 400\n",
    "alphaCAT = np.random.normal(0, 1, nSample)\n",
    "alphaDOG = np.random.normal(1, 1, nSample)\n",
    "plt.figure()\n",
    "plt.hist(alphaCAT, bins='auto', label='cat', alpha=0.5)\n",
    "plt.hist(alphaDOG, bins='auto', label='dog', alpha=0.5)\n",
    "plt.legend()\n",
    "plt.show()"
   ]
  },
  {
   "cell_type": "code",
   "execution_count": 19,
   "metadata": {},
   "outputs": [],
   "source": [
    "num_tp = lambda y, alpha, T: np.sum((y == 0) & (alpha < T))\n",
    "num_fp = lambda y, alpha, T: np.sum((y == 1) & (alpha < T))\n",
    "num_tn = lambda y, alpha, T: np.sum((y == 1) & (alpha > T))\n",
    "num_fn = lambda y, alpha, T: np.sum((y == 0) & (alpha > T))\n",
    "\n",
    "def AUC(FPR, TPR, nDiscr):\n",
    "    return 0.5 * np.sum([(TPR[i] + TPR[i-1])*(FPR[i] - FPR[i-1]) for i in range(1, nDiscr)])"
   ]
  },
  {
   "cell_type": "code",
   "execution_count": 25,
   "metadata": {},
   "outputs": [
    {
     "data": {
      "image/png": "[encoded data removed]",
      "text/plain": [
       "<matplotlib.figure.Figure at 0x7fad145c0358>"
      ]
     },
     "metadata": {},
     "output_type": "display_data"
    }
   ],
   "source": [
    "alphaALL = np.hstack([alphaCAT, alphaDOG])\n",
    "yALL = np.array([0] * nSample + [1] * nSample)\n",
    "\n",
    "Tmin = np.min(alphaALL)\n",
    "Tmax = np.max(alphaALL)\n",
    "\n",
    "nDiscr = 100\n",
    "Tlist = np.linspace(Tmin, Tmax, nDiscr)\n",
    "\n",
    "TPR = []\n",
    "FPR = []\n",
    "for T in Tlist:\n",
    "    TP = num_tp(yALL, alphaALL, T)\n",
    "    FP = num_fp(yALL, alphaALL, T)\n",
    "    TN = num_tn(yALL, alphaALL, T)\n",
    "    FN = num_fn(yALL, alphaALL, T)\n",
    "    \n",
    "    TPR += [TP / (TP + FN)]\n",
    "    FPR += [FP / (FP + TN)]\n",
    "\n",
    "fprSortIdx = np.argsort(FPR)\n",
    "FPR = np.array(FPR)[fprSortIdx]\n",
    "TPR = np.array(TPR)[fprSortIdx]\n",
    "randROC = np.linspace(0, 1, nDiscr)\n",
    "\n",
    "plt.figure()\n",
    "plt.plot(FPR, TPR)\n",
    "plt.plot(randROC, randROC, '--')\n",
    "plt.show()"
   ]
  },
  {
   "cell_type": "code",
   "execution_count": 27,
   "metadata": {},
   "outputs": [
    {
     "name": "stdout",
     "output_type": "stream",
     "text": [
      "The AUC for above distribution is 0.7855187499999999\n",
      "The Wilcoxon Rank-Sum test is RanksumsResult(statistic=-14.016102380345599, pvalue=1.2425376943211496e-44)\n"
     ]
    }
   ],
   "source": [
    "from scipy.stats import ranksums\n",
    "\n",
    "print(\"The AUC for above distribution is\", AUC(FPR, TPR, nDiscr))\n",
    "\n",
    "print(\"The Wilcoxon Rank-Sum test is\", ranksums(alphaCAT, alphaDOG))"
   ]
  },
  {
   "cell_type": "code",
   "execution_count": null,
   "metadata": {
    "collapsed": true
   },
   "outputs": [],
   "source": [
    ""
   ]
  }
 ],
 "metadata": {
  "kernelspec": {
   "display_name": "Python (py36qt5)",
   "language": "python",
   "name": "py36qt5"
  },
  "language_info": {
   "codemirror_mode": {
    "name": "ipython",
    "version": 3.0
   },
   "file_extension": ".py",
   "mimetype": "text/x-python",
   "name": "python",
   "nbconvert_exporter": "python",
   "pygments_lexer": "ipython3",
   "version": "3.6.4"
  }
 },
 "nbformat": 4,
 "nbformat_minor": 0
}
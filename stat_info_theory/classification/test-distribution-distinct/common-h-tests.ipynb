{
 "cells": [
  {
   "cell_type": "markdown",
   "metadata": {},
   "source": [
    "# Common Hypothesis Tests\n",
    "\n",
    "### Student's T-distribution\n",
    "\n",
    "Let the 1D IID variable $X \\sim \\mathcal{N}(\\mu, \\sigma^2)$ be normally distributed. The unbiased sample moments can be shown to be\n",
    "<table>\n",
    "    <tr>\n",
    "        <td>Mean</td>\n",
    "        <td><p align=\"left\">\n",
    "            $\\hat{\\mu} = \\frac{1}{n}\\sum_{i=1}^n x_i$\n",
    "        </p></td>\n",
    "    </tr>\n",
    "    <tr>\n",
    "        <td>Variance</td>\n",
    "        <td><p align=\"left\">\n",
    "            $\\hat{\\sigma}^2 = \\frac{1}{n-1} \\sum_{i=1}^n (x_i - \\hat{\\mu})^2$\n",
    "        </p></td>\n",
    "    </tr>\n",
    "</table>\n",
    "Depending on whether the true variance is known, the moment-independent test statistic has either a normal or a Student's distribution.\n",
    "<table>\n",
    "    <tr>\n",
    "        <td>Normal</td>\n",
    "        <td><p align=\"left\">\n",
    "            $N = \\frac{\\hat{\\mu} - \\mu}{\\sigma / \\sqrt{n}} \\sim \\mathcal{N}(0, 1)$\n",
    "        </p></td>\n",
    "    </tr>\n",
    "    <tr>\n",
    "        <td>Student</td>\n",
    "        <td><p align=\"left\">\n",
    "            $T = \\frac{\\hat{\\mu} - \\mu}{\\hat{\\sigma} / \\sqrt{n}} \\sim \\mathcal{T}(n-1)$\n",
    "        </p></td>\n",
    "    </tr>\n",
    "</table>\n",
    "\n",
    "## T-test (One-Sample)\n",
    "\n",
    "Tests if the mean value of a normally distributed variable is $\\mu$, given that its variance is unknown. Given the p-value $p$, the null-hypothesis is rejected, if\n",
    "<table>\n",
    "    <tr>\n",
    "        <td>$|T| > C_{T_{n-1}}^{-1}(p/2)$</td>\n",
    "    </tr>\n",
    "</table>\n",
    "\n",
    "where $C_{T_{n-1}}(x)$ is the CDF of Student's $T$ distribution with dimension $n-1$.\n",
    "\n",
    "## T-test (Two-Sample)\n",
    "\n",
    "Tests if the mean values of two normally distributed variables $A$ and $B$ are distinct, given that their variances are unknown. The test statistic is given by\n",
    "<table>\n",
    "    <tr>\n",
    "        <td>$T = \\frac{\\hat{\\mu}_A - \\hat{\\mu}_B}{\\tilde{s}}$</td>\n",
    "    </tr>\n",
    "</table>\n",
    "where $\\tilde{s}$ is the effective sample variance which depends on $\\hat{\\sigma}_A$ and $\\hat{\\sigma}_B$, but also on whether the sample size is the same and if the unknown variances can be assumed to be equal. See <a href=\"https://en.wikipedia.org/wiki/Student%27s_t-test\">wiki</a>\n"
   ]
  },
  {
   "cell_type": "markdown",
   "metadata": {},
   "source": [
    "## Chi-squared test"
   ]
  },
  {
   "cell_type": "code",
   "execution_count": null,
   "metadata": {},
   "outputs": [],
   "source": [
    ""
   ]
  }
 ],
 "metadata": {
  "kernelspec": {
   "display_name": "Python 3",
   "language": "python",
   "name": "python3"
  },
  "language_info": {
   "codemirror_mode": {
    "name": "ipython",
    "version": 3.0
   },
   "file_extension": ".py",
   "mimetype": "text/x-python",
   "name": "python",
   "nbconvert_exporter": "python",
   "pygments_lexer": "ipython3",
   "version": "3.6.4"
  }
 },
 "nbformat": 4,
 "nbformat_minor": 0
}
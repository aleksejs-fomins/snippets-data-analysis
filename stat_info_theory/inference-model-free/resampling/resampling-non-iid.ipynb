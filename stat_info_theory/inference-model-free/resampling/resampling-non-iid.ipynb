{
 "cells": [
  {
   "cell_type": "markdown",
   "metadata": {},
   "source": [
    "**Question 1**: How to estimate an integral quantity (e.g. median) and its variance, if\n",
    "\n",
    "* Underlying distribution is unknown\n",
    "* Data is autocorrelated (not iid), but sufficiently sampled to be representative\n",
    "\n",
    "\n",
    "Useful links:\n",
    "* https://stats.stackexchange.com/questions/41557/variance-of-sample-median\n",
    "* https://en.wikipedia.org/wiki/Median\n",
    "\n",
    "\n",
    "**Question 2**: I have 10 patients. On each, I have performed a test 100000 times before treatmet (condition A) and after (condition B). By CLT, for each patient $i$ I know 4 variables - $\\mu^A_i, \\sigma^A_i, \\mu^B_i, \\sigma^B_i$ - which lower the effects of short-term variability of data and instrument noise.\n",
    "\n",
    "* What is a good paired-test that takes advantage of the known variance of the data points\n",
    "* What is the interpretation of p-value of such test? Can I be 99.9% sure of presence of certain effect, even though I am clearly undersampling participant quantity?\n",
    "* What is the most accurate way to address the problem of determining presence of effect, which can account for potential differences in patients?"
   ]
  },
  {
   "cell_type": "code",
   "execution_count": null,
   "metadata": {},
   "outputs": [],
   "source": [
    ""
   ]
  }
 ],
 "metadata": {
  "kernelspec": {
   "display_name": "Python 3",
   "language": "python",
   "name": "python3"
  },
  "language_info": {
   "codemirror_mode": {
    "name": "ipython",
    "version": 3.0
   },
   "file_extension": ".py",
   "mimetype": "text/x-python",
   "name": "python",
   "nbconvert_exporter": "python",
   "pygments_lexer": "ipython3",
   "version": "3.6.4"
  }
 },
 "nbformat": 4,
 "nbformat_minor": 0
}
{
 "cells": [
  {
   "cell_type": "code",
   "execution_count": 1,
   "metadata": {},
   "outputs": [],
   "source": [
    "import numpy as np\n",
    "from nolds.measures import corr_dim\n",
    "import scipy.optimize as opt\n",
    "import matplotlib.pyplot as plt"
   ]
  },
  {
   "cell_type": "markdown",
   "metadata": {},
   "source": [
    "## Correlation Dimension\n",
    "\n",
    "Logic: We measure correlation integral $C(\\epsilon)$, namely, fraction of all inter-point distances that are smaller than $\\epsilon$. According to some theorem, in the limit $N\\rightarrow \\infty$, $C(\\epsilon) \\sim \\epsilon^D$, where $D$ is called the correlation dimension. Since the proportionality constant is not known, the suggested procedure is to compute $C(\\epsilon)$ for multiple different values of $\\epsilon$ and then fit a line to the log-log plot. \n",
    "\n",
    "**Problems**:\n",
    "* At least empirically, $C(\\epsilon)$ does not seem to follow the asymptotic distribution, even for large $N$. Have a look at the publication. This whole analysis rests on the pre-factor being independent of $\\epsilon$. Is this really true?\n",
    "* Naive implementation seems to underestimate full-rank phase-space dimensions by a factor of ~2, gets worse in higher dimensions.\n",
    "* Imported library reports very weird numbers, like 0.01 and generally behaves badly.\n",
    "* Is anything known about stability and practical usefulness of the metric?"
   ]
  },
  {
   "cell_type": "code",
   "execution_count": 2,
   "metadata": {},
   "outputs": [
    {
     "data": {
      "image/png": "[encoded data removed]",
      "text/plain": [
       "<Figure size 432x288 with 1 Axes>"
      ]
     },
     "metadata": {
      "needs_background": "light"
     },
     "output_type": "display_data"
    },
    {
     "data": {
      "text/plain": [
       "0.02885841013782631"
      ]
     },
     "execution_count": 2,
     "metadata": {},
     "output_type": "execute_result"
    }
   ],
   "source": [
    "aaa = np.random.normal(0, 3, 1000)\n",
    "\n",
    "corr_dim(aaa, emb_dim=5, debug_plot=True)"
   ]
  },
  {
   "cell_type": "code",
   "execution_count": 33,
   "metadata": {},
   "outputs": [],
   "source": [
    "# Return lower triangular part of the matrix as 1D array\n",
    "def lower_1D(M):\n",
    "    idxs = np.tril_indices(M.shape[0], -1)\n",
    "    return M[idxs]\n",
    "\n",
    "def get_diff(data2D):\n",
    "    nPoint, nDim = data2D.shape\n",
    "    \n",
    "    rez = []\n",
    "    for i in range(nPoint):\n",
    "        tmp = np.linalg.norm(data2D - data2D[i], axis=1)\n",
    "        rez += list(tmp[:i]) + list(tmp[i+1:])\n",
    "\n",
    "    rez = np.array(rez)\n",
    "    print(rez.shape)\n",
    "    return rez\n",
    "\n",
    "def corr_dim_homebrew(data2D, debugPlot=True):\n",
    "    # 1. Get all pairwise distances\n",
    "    nPoint, nDim = data2D.shape\n",
    "    diff = get_diff(data2D)\n",
    "    \n",
    "#     data3D = np.repeat(data2D[..., None], nPoint, axis=2).transpose((0,2,1))\n",
    "#     diff = lower_1D(np.linalg.norm(data3D - data3D.transpose((1,0,2)), axis=2))\n",
    "    diffSorted = np.sort(diff)\n",
    "    corrIntegral = np.arange(1, len(diff)+1) / nPoint**2\n",
    "\n",
    "    diffSortedLog = np.log10(diffSorted)\n",
    "    corrIntegralLog = np.log10(corrIntegral)\n",
    "    coeff = np.polyfit(diffSortedLog[:1000], corrIntegralLog[:1000], 1)\n",
    "    plin = lambda x, c: (x, c[1] + c[0]*x)\n",
    "    \n",
    "    if debugPlot:\n",
    "        plt.figure()\n",
    "        plt.plot(diffSortedLog, corrIntegralLog)\n",
    "        plt.plot(*plin(diffSortedLog, coeff), 'r--' )\n",
    "        plt.savefig('corrInt.svg')\n",
    "        plt.show()\n",
    "        \n",
    "    return coeff[0]"
   ]
  },
  {
   "cell_type": "code",
   "execution_count": 34,
   "metadata": {},
   "outputs": [
    {
     "name": "stdout",
     "output_type": "stream",
     "text": [
      "(3998000,)\n"
     ]
    },
    {
     "data": {
      "image/png": "[encoded data removed]",
      "text/plain": [
       "<Figure size 432x288 with 1 Axes>"
      ]
     },
     "metadata": {
      "needs_background": "light"
     },
     "output_type": "display_data"
    },
    {
     "name": "stdout",
     "output_type": "stream",
     "text": [
      "Estimated dimension 15.834451201526008\n"
     ]
    }
   ],
   "source": [
    "aaa = np.random.normal(0, 3, (2000, 20))\n",
    "corrDim = corr_dim_homebrew(aaa)\n",
    "print(\"Estimated dimension\", corrDim)"
   ]
  },
  {
   "cell_type": "code",
   "execution_count": null,
   "metadata": {
    "collapsed": true
   },
   "outputs": [],
   "source": []
  }
 ],
 "metadata": {
  "kernelspec": {
   "display_name": "Python (nest)",
   "language": "python",
   "name": "py36nest"
  },
  "language_info": {
   "codemirror_mode": {
    "name": "ipython",
    "version": 3
   },
   "file_extension": ".py",
   "mimetype": "text/x-python",
   "name": "python",
   "nbconvert_exporter": "python",
   "pygments_lexer": "ipython3",
   "version": "3.6.6"
  }
 },
 "nbformat": 4,
 "nbformat_minor": 4
}

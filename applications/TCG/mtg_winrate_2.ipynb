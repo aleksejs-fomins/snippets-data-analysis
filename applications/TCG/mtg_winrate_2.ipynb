{
 "cells": [
  {
   "cell_type": "code",
   "execution_count": 53,
   "metadata": {},
   "outputs": [],
   "source": [
    "s = \"MARDU GRUUL MONO-RED SIMIC SULTAI BANT RAKDOS TEMUR JESKAI MONO-GREEN JUND BOROS SELESNYA MONO-WHITE INK-TREADER GOLGARI MONO-BLACK AZORIUS GRIXIS IZZET ABZAN ESPER YORE-TILLER DIMIR MONO-BLUE FIVE-COLOR ORZHOV +17.4% +15.9% +15.4% +14.4% +14.1% +13.7% +12.9% +11.8% 11.8% +11.8% +11.1% +10.8% +10.6% +10.1% +9.8% +9.3% +9.0% +8.7% +8.30/0 +8.2% +8.2% +7.9 % +7.8% +5.4% +4.30/0 +4.1 % +3.9% 1.5 1.1 0.5 0.6 1.7 1.2 1.5 1.9 1.6 1.9 2.7 1.6 2.0 2.5 3.7 1.0 1.4 1.5 0.8 1.6 2.9 1.1 3.2 2.1 2.5 4.1 1.3 51.4% 54.7% 53.2% 54.8% 49.2% 52.8% 51.0% 50.1% 54.8% 52.0% 48.4% 50.8% 49.0% 49.3% 47.7% 50.4% 52.1% 47.0% 49.8% 48.1% 43.8% 46.5% 48.8% 42.9% 43.5% 46.7% 48.1% 4850 15111 19992 17717 5961 8674 8145 4269 5550 3699 1618 2502 2918 1262 2132 9859 6856 3414 7860 3318 1259 5348 1490 3348 1930 1318 4587\""
   ]
  },
  {
   "cell_type": "code",
   "execution_count": 54,
   "metadata": {},
   "outputs": [
    {
     "data": {
      "text/plain": [
       "array(['MARDU', 'GRUUL', 'MONO-RED', 'SIMIC', 'SULTAI', 'BANT', 'RAKDOS',\n",
       "       'TEMUR', 'JESKAI', 'MONO-GREEN', 'JUND', 'BOROS', 'SELESNYA',\n",
       "       'MONO-WHITE', 'INK-TREADER', 'GOLGARI', 'MONO-BLACK', 'AZORIUS',\n",
       "       'GRIXIS', 'IZZET', 'ABZAN', 'ESPER', 'YORE-TILLER', 'DIMIR',\n",
       "       'MONO-BLUE', 'FIVE-COLOR', 'ORZHOV'], dtype='<U11')"
      ]
     },
     "execution_count": 54,
     "metadata": {},
     "output_type": "execute_result"
    }
   ],
   "source": [
    "import numpy as np\n",
    "import pandas as pd\n",
    "\n",
    "nDeck = 27\n",
    "lst = s.replace(\" %\", \"%\").replace(\"/\", \"%\").replace(\"+\", \"\").replace(\"%\", \"\").split(\" \")\n",
    "arr = np.array(lst)\n",
    "arr[:nDeck]"
   ]
  },
  {
   "cell_type": "code",
   "execution_count": 66,
   "metadata": {},
   "outputs": [
    {
     "data": {
      "text/plain": [
       "<ErrorbarContainer object of 3 artists>"
      ]
     },
     "execution_count": 66,
     "metadata": {},
     "output_type": "execute_result"
    },
    {
     "data": {
      "image/png": "[encoded data removed]",
      "text/plain": [
       "<Figure size 432x288 with 1 Axes>"
      ]
     },
     "metadata": {
      "needs_background": "light"
     },
     "output_type": "display_data"
    }
   ],
   "source": [
    "arr2 = arr.reshape((5, nDeck))\n",
    "# arr2 = np.zeros((5, nDeck), dtype='<U11')\n",
    "# arr2[0] = arr[:nDeck]\n",
    "# arr2[1][:25] = arr[nDeck:nDeck+25]\n",
    "# arr2[1][25:] = \"0\"\n",
    "# arr2[2] = arr[2*nDeck-2:3*nDeck-2]\n",
    "# arr2[3] = arr[3*nDeck-2:4*nDeck-2]\n",
    "# arr2[4] = arr[4*nDeck-2:5*nDeck-2]\n",
    "# arr2.T\n",
    "\n",
    "df = pd.DataFrame({\n",
    "    \"color\" : arr2[0].astype(str),\n",
    "    \"fork\" : arr2[1].astype(float),\n",
    "    \"conf\" : arr2[2].astype(float),\n",
    "    \"winrate\" : arr2[3].astype(float),\n",
    "    \"ngame\" : arr2[4].astype(int),\n",
    "})\n",
    "import matplotlib.pyplot as plt\n",
    "\n",
    "plt.errorbar(x=df['winrate'], y=df['fork'], yerr=df['conf'], fmt='none')"
   ]
  },
  {
   "cell_type": "code",
   "execution_count": 62,
   "metadata": {},
   "outputs": [],
   "source": [
    "plt.errorbar?"
   ]
  },
  {
   "cell_type": "code",
   "execution_count": null,
   "metadata": {},
   "outputs": [],
   "source": []
  }
 ],
 "metadata": {
  "kernelspec": {
   "display_name": "Python (nest)",
   "language": "python",
   "name": "py36nest"
  },
  "language_info": {
   "codemirror_mode": {
    "name": "ipython",
    "version": 3
   },
   "file_extension": ".py",
   "mimetype": "text/x-python",
   "name": "python",
   "nbconvert_exporter": "python",
   "pygments_lexer": "ipython3",
   "version": "3.6.6"
  }
 },
 "nbformat": 4,
 "nbformat_minor": 2
}

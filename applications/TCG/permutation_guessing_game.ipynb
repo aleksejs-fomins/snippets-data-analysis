{
 "cells": [
  {
   "cell_type": "code",
   "execution_count": 4,
   "metadata": {},
   "outputs": [
    {
     "name": "stdout",
     "output_type": "stream",
     "text": [
      "Secret permutation is [2 1 6 0 3 8 5 9 4 7]\n",
      "I asked for permutation [4 8 1 6 9 5 0 3 7 2] : distance was 10 ,number of possibilities got reduced to 1334961\n",
      "I asked for permutation [9 2 0 1 7 3 5 8 6 4] : distance was 9 ,number of possibilities got reduced to 488000\n",
      "I asked for permutation [9 5 6 0 1 2 3 7 4 8] : distance was 7 ,number of possibilities got reduced to 36752\n",
      "I asked for permutation [3 5 0 2 1 4 8 7 9 6] : distance was 10 ,number of possibilities got reduced to 7281\n",
      "I asked for permutation [1 7 5 9 0 2 3 4 6 8] : distance was 10 ,number of possibilities got reduced to 437\n",
      "I asked for permutation [9 1 6 3 2 8 7 0 4 5] : distance was 6 ,number of possibilities got reduced to 121\n",
      "I asked for permutation [9 3 6 0 2 7 4 1 8 5] : distance was 8 ,number of possibilities got reduced to 29\n",
      "I asked for permutation [9 6 3 0 5 8 7 2 4 1] : distance was 7 ,number of possibilities got reduced to 4\n",
      "I asked for permutation [2 1 6 0 3 8 5 9 4 7] : distance was 0 ,number of possibilities got reduced to 1\n",
      "[2 1 6 0 3 8 5 9 4 7] is my final guess\n",
      "[2 1 6 0 3 8 5 9 4 7] was the correct answer\n"
     ]
    }
   ],
   "source": [
    "import itertools\n",
    "import numpy as np\n",
    "\n",
    "# Generate all permutations of N distinct digits\n",
    "NDIGIT = 10\n",
    "perm_set = set(itertools.permutations(range(NDIGIT)))\n",
    "\n",
    "\n",
    "# Count distance between two permutations\n",
    "def permdist(A, B):\n",
    "    return np.count_nonzero(np.array(A)-np.array(B))\n",
    "\n",
    "# Get some item in the set (first one, whatever that means)\n",
    "def anySetItem(S):\n",
    "    for e in S:\n",
    "        break\n",
    "    return e\n",
    "\n",
    "# Your opponent generates a random secret permutation\n",
    "secret_perm = np.random.permutation(NDIGIT)\n",
    "\n",
    "print(\"Secret permutation is\", secret_perm)\n",
    "\n",
    "# Ask questions until there is only one possible permutation remaining\n",
    "while(len(perm_set) > 1):\n",
    "    # Question permutation can be any permutation that is still possible\n",
    "    question_perm = anySetItem(perm_set)\n",
    "    \n",
    "    # Ask question here: Calculate distance between secret permutation and question permutation\n",
    "    dist = permdist(secret_perm, question_perm)\n",
    "\n",
    "    #Find delete all permutations that are not correct distance from original\n",
    "    set_to_delete = set([])\n",
    "    \n",
    "    # If this permutation is not the optimal permutation, it should be deleted\n",
    "    if dist != 0:\n",
    "        set_to_delete.add(question_perm)\n",
    "    \n",
    "    # We should also delete all permutations that are not the correct distance from this permutation,\n",
    "    # as they can't possibly be correct\n",
    "    for e in perm_set:\n",
    "        if permdist(e, question_perm) != dist:\n",
    "            set_to_delete.add(e)\n",
    "\n",
    "    # Subtract sets\n",
    "    perm_set -= set_to_delete\n",
    "    \n",
    "    print('I asked for permutation', np.array(question_perm), ': distance was', dist, ',number of possibilities got reduced to', len(perm_set))\n",
    "    \n",
    "print(np.array(anySetItem(perm_set)), 'is my final guess')\n",
    "print(secret_perm, 'was the correct answer')"
   ]
  },
  {
   "cell_type": "code",
   "execution_count": null,
   "metadata": {},
   "outputs": [],
   "source": [
    ""
   ]
  }
 ],
 "metadata": {
  "kernelspec": {
   "display_name": "Python 3",
   "language": "python",
   "name": "python3"
  },
  "language_info": {
   "codemirror_mode": {
    "name": "ipython",
    "version": 3.0
   },
   "file_extension": ".py",
   "mimetype": "text/x-python",
   "name": "python",
   "nbconvert_exporter": "python",
   "pygments_lexer": "ipython3",
   "version": "3.6.4"
  }
 },
 "nbformat": 4,
 "nbformat_minor": 0
}
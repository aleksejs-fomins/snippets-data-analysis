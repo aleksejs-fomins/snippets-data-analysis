{
 "cells": [
  {
   "cell_type": "code",
   "execution_count": 1,
   "metadata": {},
   "outputs": [
    {
     "name": "stderr",
     "output_type": "stream",
     "text": [
      "/home/alyosha/.local/lib/python3.5/site-packages/tvtk/array_handler.py:268: FutureWarning: Conversion of the second argument of issubdtype from `complex` to `np.complexfloating` is deprecated. In future, it will be treated as `np.complex128 == np.dtype(complex).type`.\n",
      "  assert not numpy.issubdtype(z.dtype, complex), \\\n"
     ]
    }
   ],
   "source": [
    "import numpy\n",
    "import mayavi.mlab as mlab\n",
    "t = numpy.linspace(0, 4 * numpy.pi, 20)\n",
    "cos = numpy.cos\n",
    "sin = numpy.sin\n",
    "\n",
    "x = sin(2 * t)\n",
    "y = cos(t)\n",
    "z = cos(2 * t)\n",
    "s = 2 + sin(t)\n",
    "\n",
    "p3d = mlab.points3d(x, y, z, s, colormap=\"copper\", scale_factor=.25)\n",
    "mlab.show()"
   ]
  },
  {
   "cell_type": "code",
   "execution_count": null,
   "metadata": {
    "collapsed": true
   },
   "outputs": [],
   "source": []
  }
 ],
 "metadata": {
  "kernelspec": {
   "display_name": "Python 3",
   "language": "python",
   "name": "python3"
  },
  "language_info": {
   "codemirror_mode": {
    "name": "ipython",
    "version": 3
   },
   "file_extension": ".py",
   "mimetype": "text/x-python",
   "name": "python",
   "nbconvert_exporter": "python",
   "pygments_lexer": "ipython3",
   "version": "3.5.5"
  }
 },
 "nbformat": 4,
 "nbformat_minor": 2
}

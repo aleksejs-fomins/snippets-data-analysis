{
 "cells": [
  {
   "cell_type": "markdown",
   "metadata": {},
   "source": [
    "# Layer 5 of the cortical microcircuit model"
   ]
  },
  {
   "cell_type": "markdown",
   "metadata": {},
   "source": [
    "**Modeling networks of spiking neurons using NEST**\n",
    "\n",
    "**OCNC summer school 2018, 28.6.2018**\n",
    "\n",
    "**Espen Hagen - espen.hagen@fys.uio.no**"
   ]
  },
  {
   "cell_type": "markdown",
   "metadata": {},
   "source": [
    "This example implements a two-population network of layer 5 excitatory and inhibitory cells, and is based on the network description of:\n",
    "\n",
    "[1] Potjans, T. C., & Diesmann, M. (2014). The cell-type specific cortical microcircuit: relating structure and activity in a full-scale spiking network model. Cerebral Cortex 24(3):785-806\n",
    "\n",
    "Note that the full network model of [1] is part of the standard NEST release. "
   ]
  },
  {
   "cell_type": "markdown",
   "metadata": {},
   "source": [
    "<img src=\"files/PD2014.png\">"
   ]
  },
  {
   "cell_type": "code",
   "execution_count": null,
   "metadata": {},
   "outputs": [],
   "source": [
    "%pylab inline\n",
    "pylab.rcParams.update({'figure.figsize': [10.0, 6.0]})"
   ]
  },
  {
   "cell_type": "markdown",
   "metadata": {},
   "source": [
    "First, import NEST and all necessary modules for simulation, analysis and plotting."
   ]
  },
  {
   "cell_type": "code",
   "execution_count": null,
   "metadata": {},
   "outputs": [],
   "source": [
    "import nest\n",
    "import numpy as np\n",
    "import nest.raster_plot"
   ]
  },
  {
   "cell_type": "markdown",
   "metadata": {},
   "source": [
    "## Parameters"
   ]
  },
  {
   "cell_type": "markdown",
   "metadata": {},
   "source": [
    "The following parameters are extracted from [1], Table 5. Only layer 5 with its excitatory and inhibitory population will be simulated here. We also ignore inputs from other network populations than within layer 5."
   ]
  },
  {
   "cell_type": "markdown",
   "metadata": {},
   "source": [
    "**TODO** Fill in the missing parameters."
   ]
  },
  {
   "cell_type": "code",
   "execution_count": null,
   "metadata": {},
   "outputs": [],
   "source": [
    "# simulation parameters\n",
    "T = 500.                   # simulation time (ms)\n",
    "dt = 0.1                   # simulation resolution (ms)\n",
    "\n",
    "# network parameters\n",
    "N_L5E = 4850               # number of neurons in L5E\n",
    "N_L5I = 1065               # number of neurons in L5I\n",
    "    \n",
    "K_L5E_L5E = 2038173        # number of synapses from L5E onto L5E \n",
    "K_L5E_L5I = 319602         # number of synapses from L5E onto L5I\n",
    "K_L5I_L5I = 430775         # number of synapses from L5I onto L5I\n",
    "K_L5I_L5E = 2411184        # number of synapses from L5I onto L5E\n",
    "\n",
    "k_L5E_ext = 2000           # indegree of excitatory neurons to external poisson drive\n",
    "k_L5I_ext = 1900           # indegree of inhibitory neurons to external poisson drive\n",
    "\n",
    "# neuron parameters for model iaf_psc_exp\n",
    "neuron_params = {\n",
    "    'C_m'       : 250.,    # membrane capacity (pF)\n",
    "    'I_e'       : 0.,      # external input current (pA)\n",
    "    'tau_m'     : 10.,     # membrane time constant (ms)\n",
    "    't_ref'     : 2.,      # absolute refractory period (ms)\n",
    "    'tau_syn_ex': 0.5,     # excitatory postsynaptic current time constant (ms)\n",
    "    'tau_syn_in': 0.5,     # inhibitory postsynaptic current time constant (ms)\n",
    "    'V_reset'   : -65.,    # reset potential (mV)\n",
    "    'E_L'       : -65.,    # resting potential (mV)\n",
    "    'V_th'      : -50.     # spike threshold (mV)\n",
    "}\n",
    "\n",
    "# synapse parameters\n",
    "J = 87.8                   # mean excitatory weight (pA)\n",
    "sigma_J = 8.8              # standard deviation of excitatory weight (pA)\n",
    "g = -4.                    # relative inhibitory weight \n",
    "\n",
    "d_E = 1.5                  # mean spike transmission delay for excitatory presynaptic neurons (ms)\n",
    "sigma_d_E = 0.75           # standard deviation \n",
    "d_I = 0.8                  # mean spike transmission delay for inhibitory presynaptic neurons (ms)\n",
    "sigma_d_I = 0.4            # standard deviation\n",
    " \n",
    "# input parameters\n",
    "bg_rate = 8.               # external poisson rate (Hz)\n",
    "perturbation = False       # if True, insert external noise for a finite amount of time. See point 4*)\n"
   ]
  },
  {
   "cell_type": "markdown",
   "metadata": {},
   "source": [
    "# 1) Create and connect neurons"
   ]
  },
  {
   "cell_type": "markdown",
   "metadata": {},
   "source": [
    "**TODO** Reset the simulation kernel for avoiding interferences with previous NEST simulations."
   ]
  },
  {
   "cell_type": "code",
   "execution_count": null,
   "metadata": {},
   "outputs": [],
   "source": [
    "nest.ResetKernel()"
   ]
  },
  {
   "cell_type": "markdown",
   "metadata": {},
   "source": [
    "Set simulation time resolution and number of threads (most computers have more than 1 CPU core):"
   ]
  },
  {
   "cell_type": "code",
   "execution_count": null,
   "metadata": {},
   "outputs": [],
   "source": [
    "nest.SetKernelStatus({'resolution': dt, 'local_num_threads' : 4})"
   ]
  },
  {
   "cell_type": "markdown",
   "metadata": {},
   "source": [
    "**TODO** Create the excitatory and inhibitory neuron populations with neurons of type **`iaf_psc_exp`**, the correct population sizes, and the given neuron parameters."
   ]
  },
  {
   "cell_type": "code",
   "execution_count": null,
   "metadata": {},
   "outputs": [],
   "source": [
    "pop_L5E = nest.Create('iaf_psc_exp', N_L5E)\n",
    "nest.SetStatus(pop_L5E, params=neuron_params)\n",
    "\n",
    "pop_L5I = nest.Create('iaf_psc_exp', N_L5I, params=neuron_params)"
   ]
  },
  {
   "cell_type": "markdown",
   "metadata": {},
   "source": [
    "The excitatory connections (connections from L5E) are established.\n",
    "\n",
    "**TODO** Specify the connection dictionary **`conn_dict`** for connections to L5E and to L5I. Which connection rule must be used (see documentation of **`Connect`**)?"
   ]
  },
  {
   "cell_type": "code",
   "execution_count": null,
   "metadata": {},
   "outputs": [],
   "source": [
    "# excitatory connections (connections from L5E)\n",
    "\n",
    "# specifying the synapse parameters\n",
    "weight_dict = {\n",
    "    'distribution': 'normal_clipped',\n",
    "    'mu': J,\n",
    "    'sigma': sigma_J,\n",
    "    'low': 0.0\n",
    "}\n",
    "delay_dict = {\n",
    "    'distribution': 'normal_clipped',\n",
    "    'mu': d_E,\n",
    "    'sigma': sigma_d_E,\n",
    "    'low' : 0.1\n",
    "}\n",
    "syn_dict = {\n",
    "    'weight': weight_dict,\n",
    "    'delay': delay_dict\n",
    "}\n",
    "\n",
    "# connections to L5E\n",
    "# specifying the connection parameters\n",
    "conn_dict = {'rule': 'fixed_total_number', 'N': K_L5E_L5E}\n",
    "nest.Connect(pop_L5E, pop_L5E, conn_dict, syn_dict)\n",
    "\n",
    "# connections to L5I\n",
    "conn_dict = {'rule': 'fixed_total_number', 'N': K_L5E_L5I}\n",
    "nest.Connect(pop_L5E, pop_L5I, conn_dict, syn_dict)"
   ]
  },
  {
   "cell_type": "markdown",
   "metadata": {},
   "source": [
    "**TODO** Create the inhibitory connections (connections from population L5I) in the same way as the excitatory ones. Pay attention where parameters must be adjusted."
   ]
  },
  {
   "cell_type": "code",
   "execution_count": null,
   "metadata": {},
   "outputs": [],
   "source": [
    "# specifying the synapse parameters\n",
    "weight_dict = {\n",
    "    'distribution': 'normal_clipped',\n",
    "    'mu': J*g,\n",
    "    'sigma': np.abs(sigma_J*g),\n",
    "    'high': 0.0\n",
    "}\n",
    "delay_dict = {\n",
    "    'distribution': 'normal_clipped',\n",
    "    'mu': d_I,\n",
    "    'sigma': sigma_d_I,\n",
    "    'low' : 0.1\n",
    "}\n",
    "syn_dict = {\n",
    "    'weight': weight_dict,\n",
    "    'delay': delay_dict\n",
    "}\n",
    "\n",
    "# connections to L5E\n",
    "# specifying the connection parameters\n",
    "conn_dict = {'rule': 'fixed_total_number', 'N': K_L5I_L5E}\n",
    "nest.Connect(pop_L5I, pop_L5E, conn_dict, syn_dict)\n",
    "\n",
    "# connections to L5I\n",
    "conn_dict = {'rule': 'fixed_total_number', 'N': K_L5I_L5I}\n",
    "nest.Connect(pop_L5I, pop_L5I, conn_dict, syn_dict)\n"
   ]
  },
  {
   "cell_type": "markdown",
   "metadata": {},
   "source": [
    "# 2) Create and connect devices"
   ]
  },
  {
   "cell_type": "markdown",
   "metadata": {},
   "source": [
    "Poisson generators simulate neuron firing with the statistics of Poisson processes. Here, they emulate external excitatory input to the network.\n",
    "\n",
    "**TODO** Create two poisson generators and connect them to the respective populations.\n",
    "The given external rate **`bg_rate`** corresponds to the rate communicated by one synapse. How must the key **`rate`** of the poisson generator's **`params`** dictionary be set? The connection rule is **`all_to_all`**. For weights and delays, just take the the mean values given for excitatory neurons."
   ]
  },
  {
   "cell_type": "code",
   "execution_count": null,
   "metadata": {},
   "outputs": [],
   "source": [
    "# connections to L5E\n",
    "poisson_generator_L5E = nest.Create('poisson_generator', \n",
    "                                    params={'rate': bg_rate * k_L5E_ext})\n",
    "nest.Connect(poisson_generator_L5E, pop_L5E, \n",
    "             conn_spec='all_to_all', \n",
    "             syn_spec={'weight': J, 'delay': dt})\n",
    "\n",
    "# connections to L5I\n",
    "poisson_generator_L5I = nest.Create('poisson_generator', \n",
    "                                    params={'rate': bg_rate * k_L5I_ext})\n",
    "nest.Connect(poisson_generator_L5I, pop_L5I, \n",
    "             conn_spec='all_to_all', \n",
    "             syn_spec={'weight': J, 'delay': dt})"
   ]
  },
  {
   "cell_type": "markdown",
   "metadata": {},
   "source": [
    "**TODO** Set up and connect two spike detectors, one for each population."
   ]
  },
  {
   "cell_type": "code",
   "execution_count": null,
   "metadata": {},
   "outputs": [],
   "source": [
    "sd_L5E = nest.Create('spike_detector')\n",
    "nest.Connect(pop_L5E, sd_L5E, 'all_to_all')\n",
    "\n",
    "sd_L5I = nest.Create('spike_detector')\n",
    "nest.Connect(pop_L5I, sd_L5I, 'all_to_all')"
   ]
  },
  {
   "cell_type": "markdown",
   "metadata": {},
   "source": [
    "# 4*) Perturbation"
   ]
  },
  {
   "cell_type": "markdown",
   "metadata": {},
   "source": [
    "**TODO (ADDITIONAL)** If **`perturbation == True`** in the section with the parameter definitions above, the network shall experience a perturbation for a certain time interval during the simulation. In our case, the perturbation consists of an additional poisson generator which connects to **`N_pert`** excitatory parrot neurons (Find the right model!) which then connect to L5E. Parrot neurons just repeat incoming spikes and, hence, can be used to generate correlated input."
   ]
  },
  {
   "cell_type": "code",
   "execution_count": null,
   "metadata": {},
   "outputs": [],
   "source": [
    "if perturbation:\n",
    "    \n",
    "    # parameters\n",
    "    N_pert = 1000\n",
    "    Nsyn_L5E_pert = 500000\n",
    "    start = 200.\n",
    "    stop = 300.\n",
    "    pert_rate = 8.\n",
    "    \n",
    "    poisson_generator_stimulus = nest.Create('poisson_generator', \n",
    "                                             params={'rate': pert_rate, \n",
    "                                                     'start': start, \n",
    "                                                     'stop': stop})\n",
    "    parrot_neurons = nest.Create('parrot_neuron', N_pert)\n",
    "    nest.Connect(poisson_generator_stimulus, parrot_neurons, 'all_to_all')\n",
    "    \n",
    "    weight_dict = {\n",
    "        'distribution': 'normal_clipped',\n",
    "        'mu': J,\n",
    "        'sigma': sigma_J,\n",
    "        'low': 0.0\n",
    "    }\n",
    "    delay_dict = {\n",
    "        'distribution': 'normal_clipped',\n",
    "        'mu': d_E,\n",
    "        'sigma': sigma_d_E,\n",
    "        'low' : 0.1\n",
    "    }\n",
    "    syn_dict = {'weight': weight_dict, 'delay': delay_dict}\n",
    "    \n",
    "    conn_dict = {'rule': 'fixed_total_number', 'N': Nsyn_L5E_pert}\n",
    "    nest.Connect(parrot_neurons, pop_L5E, conn_dict, syn_dict) \n",
    "    \n",
    "    "
   ]
  },
  {
   "cell_type": "markdown",
   "metadata": {},
   "source": [
    "# 3) Run simulation and analysis"
   ]
  },
  {
   "cell_type": "markdown",
   "metadata": {},
   "source": [
    "**TODO** Run the simulation!"
   ]
  },
  {
   "cell_type": "code",
   "execution_count": null,
   "metadata": {},
   "outputs": [],
   "source": [
    "nest.Simulate(T)"
   ]
  },
  {
   "cell_type": "markdown",
   "metadata": {},
   "source": [
    "After the simulation, the spikes which were recorded with the spike detectors are read out. From each spike event, one can extract the spike time and the id of the sending neuron.\n",
    "\n",
    "**TODO** Read out the data for L5I in the same way as for L5E."
   ]
  },
  {
   "cell_type": "code",
   "execution_count": null,
   "metadata": {},
   "outputs": [],
   "source": [
    "spike_senders_L5E = nest.GetStatus(sd_L5E)[0]['events']['senders']\n",
    "spike_times_L5E = nest.GetStatus(sd_L5E)[0]['events']['times']\n",
    "spike_senders_L5I = nest.GetStatus(sd_L5I)[0]['events']['senders']\n",
    "spike_times_L5I = nest.GetStatus(sd_L5I)[0]['events']['times']"
   ]
  },
  {
   "cell_type": "markdown",
   "metadata": {},
   "source": [
    "Finally, we create a raster plot to visualize the spiking activity of all neurons during the simulation ...\n",
    "\n",
    "**TODO** Just uncomment the following lines."
   ]
  },
  {
   "cell_type": "code",
   "execution_count": null,
   "metadata": {},
   "outputs": [],
   "source": [
    "fig, ax = plt.subplots()\n",
    "ax.plot(spike_times_L5E, spike_senders_L5E, 'r.', markersize=1, label='L5E')\n",
    "ax.plot(spike_times_L5I, spike_senders_L5I, 'b.', markersize=1, label='L5I')\n",
    "pylab.legend(loc=1)\n",
    "ax.set_xlim(0,T)\n",
    "ax.set_ylim(pop_L5E[0], pop_L5I[-1])\n",
    "ax.set_xlabel('time (ms)')\n",
    "ax.set_ylabel('neuron id')"
   ]
  },
  {
   "cell_type": "markdown",
   "metadata": {},
   "source": [
    "... and we compute the average firing rate for each population.\n",
    "\n",
    "**TODO** Determine the average rate per neuron by reading out the number of spikes registered by a spike detector during the simulation time. Pay attention to get the correct time units."
   ]
  },
  {
   "cell_type": "code",
   "execution_count": null,
   "metadata": {},
   "outputs": [],
   "source": [
    "rate_E = float(nest.GetStatus(sd_L5E)[0]['n_events']) / T * 1e3 / N_L5E\n",
    "print \"\\nFiring rate E = %.1f spikes/s\" % (rate_E)\n",
    "\n",
    "rate_I = float(nest.GetStatus(sd_L5I)[0]['n_events']) / T * 1e3 / N_L5I\n",
    "print \"Firing rate I = %.1f spikes/s\" % (rate_I)"
   ]
  },
  {
   "cell_type": "markdown",
   "metadata": {},
   "source": [
    "Besides, NEST also provides build-in plotting tools for creating raster plots.\n",
    "\n",
    "**TODO** Just uncomment the following lines."
   ]
  },
  {
   "cell_type": "code",
   "execution_count": null,
   "metadata": {},
   "outputs": [],
   "source": [
    "nest.raster_plot.from_device(sd_L5E, hist=True)\n",
    "nest.raster_plot.from_device(sd_L5I, hist=True)"
   ]
  },
  {
   "cell_type": "markdown",
   "metadata": {
    "collapsed": true
   },
   "source": [
    "Look at source code of NEST's plotting functions:"
   ]
  },
  {
   "cell_type": "code",
   "execution_count": null,
   "metadata": {},
   "outputs": [],
   "source": [
    "nest.raster_plot.from_device??"
   ]
  },
  {
   "cell_type": "code",
   "execution_count": null,
   "metadata": {},
   "outputs": [],
   "source": [
    "nest.raster_plot._make_plot??"
   ]
  },
  {
   "cell_type": "code",
   "execution_count": null,
   "metadata": {},
   "outputs": [],
   "source": []
  }
 ],
 "metadata": {
  "kernelspec": {
   "display_name": "Python 2",
   "language": "python",
   "name": "python2"
  },
  "language_info": {
   "codemirror_mode": {
    "name": "ipython",
    "version": 2
   },
   "file_extension": ".py",
   "mimetype": "text/x-python",
   "name": "python",
   "nbconvert_exporter": "python",
   "pygments_lexer": "ipython2",
   "version": "2.7.15"
  }
 },
 "nbformat": 4,
 "nbformat_minor": 1
}

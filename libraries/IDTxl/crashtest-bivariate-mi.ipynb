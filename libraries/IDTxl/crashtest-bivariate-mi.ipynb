{
 "cells": [
  {
   "cell_type": "code",
   "execution_count": 1,
   "metadata": {},
   "outputs": [
    {
     "name": "stderr",
     "output_type": "stream",
     "text": [
      "/opt/anaconda3/envs/py36qt5/lib/python3.6/site-packages/h5py/__init__.py:36: FutureWarning: Conversion of the second argument of issubdtype from `float` to `np.floating` is deprecated. In future, it will be treated as `np.float64 == np.dtype(float).type`.\n",
      "  from ._conv import register_converters as _register_converters\n"
     ]
    }
   ],
   "source": [
    "import numpy as np\n",
    "\n",
    "# Import classes\n",
    "from idtxl.bivariate_mi import BivariateMI\n",
    "from idtxl.data import Data\n",
    "from idtxl.visualise_graph import plot_network\n",
    "import matplotlib.pyplot as plt"
   ]
  },
  {
   "cell_type": "code",
   "execution_count": 7,
   "metadata": {
    "scrolled": false
   },
   "outputs": [
    {
     "name": "stdout",
     "output_type": "stream",
     "text": [
      "Adding data with properties: 2 processes, 1000 samples, 1 replications\n",
      "overwriting existing data\n",
      "\n",
      "---------------------------- (1) include source candidates\n",
      "\n",
      "WARNING: Number of replications is not sufficient to generate the desired number of surrogates. Permuting samples in time instead.\n",
      "\n",
      "---------------------------- (2) prune cadidates\n",
      "selected vars sources [(1, 0)]\n",
      "selected candidates current source: [(1, 0)]\n",
      "\n",
      "---------------------------- (3) final statistics\n",
      "\n",
      "---------------------------- (1) include source candidates\n",
      "\n",
      "WARNING: Number of replications is not sufficient to generate the desired number of surrogates. Permuting samples in time instead.\n",
      "\n",
      "---------------------------- (2) prune cadidates\n",
      "selected vars sources [(0, 0)]\n",
      "selected candidates current source: [(0, 0)]\n",
      "\n",
      "---------------------------- (3) final statistics\n",
      "For var 0 sources [1] mi [0.83757767] p [0.002]\n",
      "For var 1 sources [0] mi [0.83757767] p [0.002]\n",
      "No significant links found in the network.\n"
     ]
    },
    {
     "data": {
      "image/png": "[encoded data removed]",
      "text/plain": [
       "<matplotlib.figure.Figure at 0x7f52bb87ae48>"
      ]
     },
     "metadata": {},
     "output_type": "display_data"
    }
   ],
   "source": [
    "def cycle(data, n):\n",
    "    if n == 0:\n",
    "        return data\n",
    "    else:\n",
    "        return np.hstack((data[n:], data[:n]))\n",
    "\n",
    "# TEST 1: Random data\n",
    "NDATA = 1000\n",
    "\n",
    "dataNP = np.zeros((2, NDATA))\n",
    "dataNP[0,:] = np.random.normal(0, 1, NDATA)\n",
    "dataNP[1,:] = cycle(2*np.copy(dataNP[0,:]) + np.random.normal(0, 1, NDATA), 0)\n",
    "data = Data(dataNP, dim_order='ps')\n",
    "\n",
    "# b) Initialise analysis object and define settings\n",
    "network_analysis = BivariateMI()\n",
    "settings = {'cmi_estimator': 'JidtGaussianCMI',\n",
    "            'max_lag_sources': 0,\n",
    "            'min_lag_sources': 0,\n",
    "           'verbose' : False}\n",
    "\n",
    "# c) Run analysis\n",
    "results = network_analysis.analyse_network(settings=settings, data=data)\n",
    "for i in range(2):\n",
    "    rezThis = results.get_single_target(i, fdr=False)\n",
    "    print(\"For var\", i, \"sources\", rezThis['sources_tested'], 'mi', rezThis['mi'], 'p', rezThis['selected_sources_pval'])\n",
    "\n",
    "# print(results.get_single_target(0, fdr=False))\n",
    "# print(results.settings)\n",
    "# print(results.data_properties)\n",
    "\n",
    "# d) Plot inferred network to console and via matplotlib\n",
    "results.print_edge_list(weights='max_te_lag', fdr=False)\n",
    "plot_network(results=results, weights='max_te_lag', fdr=False)\n",
    "plt.show()"
   ]
  },
  {
   "cell_type": "code",
   "execution_count": 60,
   "metadata": {},
   "outputs": [
    {
     "name": "stdout",
     "output_type": "stream",
     "text": [
      "{'sources_tested': [1], 'current_value': (0, 5), 'selected_vars_sources': [(1, 1)], 'selected_vars_target': [], 'selected_sources_pval': array([0.002]), 'selected_sources_mi': array([0.83001421]), 'omnibus_mi': 0.8300142064797621, 'omnibus_pval': 0.002, 'omnibus_sign': True, 'mi': array([0.83001421])}\n",
      "{'cmi_estimator': 'JidtGaussianCMI', 'max_lag_sources': 5, 'min_lag_sources': 0, 'verbose': False, 'fdr_correction': True, 'add_conditionals': None, 'tau_sources': 1, 'local_values': False, 'debug': False, 'n_perm_max_stat': 200, 'alpha_max_stat': 0.05, 'permute_in_time': True, 'perm_type': 'random', 'analytical_surrogates': True, 'n_perm_omnibus': 500, 'alpha_omnibus': 0.05, 'n_perm_max_seq': 500, 'alpha_max_seq': 0.05, 'alpha_fdr': 0.05, 'fdr_correct_by_target': True, 'fdr_constant': 2}\n",
      "{'n_nodes': 2, 'n_realisations': 995, 'normalised': True}\n"
     ]
    }
   ],
   "source": []
  },
  {
   "cell_type": "code",
   "execution_count": 6,
   "metadata": {},
   "outputs": [
    {
     "name": "stdout",
     "output_type": "stream",
     "text": [
      "Adding data with properties: 2 processes, 1000 samples, 1 replications\n",
      "overwriting existing data\n",
      "\n",
      "Target: 1 - testing sources [0]\n",
      "\n",
      "---------------------------- (1) include source candidates\n",
      "candidate set current source: [(0, 0)]\n",
      "testing candidate: (0, 0) \n",
      "WARNING: Number of replications is not sufficient to generate the desired number of surrogates. Permuting samples in time instead.\n",
      "maximum statistic, n_perm: 21\n",
      "\n",
      "---------------------------- (2) prune cadidates\n",
      "selected vars sources [(0, 0)]\n",
      "selected candidates current source: [(0, 0)]\n",
      " -- significant\n",
      "\n",
      "---------------------------- (3) final statistics\n",
      "selected variables: [(0, 0)]\n",
      "omnibus test, n_perm: 21\n",
      " -- significant\n",
      "\n",
      "sequential maximum statistic, n_perm: 21\n",
      "final source samples: [(0, 0)]\n",
      "final target samples: []\n",
      "\n",
      "\n",
      "{'sources_tested': [0], 'current_value': (1, 0), 'selected_vars_sources': [(0, 0)], 'selected_vars_target': [], 'selected_sources_pval': array([0.04761905]), 'selected_sources_mi': array([0.15109115]), 'omnibus_mi': 0.15109114567054327, 'omnibus_pval': 0.047619047619047616, 'omnibus_sign': True, 'mi': array([0.15109115])}\n",
      "[(0, 0)]\n",
      "No significant links found in the network.\n"
     ]
    }
   ],
   "source": [
    "covariance = 0.4\n",
    "n = 1000\n",
    "source = np.random.randn(n)\n",
    "target = (1 - covariance) * np.random.randn(n) + covariance * source\n",
    "\n",
    "data = Data(np.vstack((source, target)),\n",
    "            dim_order='ps', normalise=False)\n",
    "settings = {\n",
    "    'cmi_estimator': 'JidtKraskovCMI',\n",
    "    'n_perm_max_stat': 21,\n",
    "    'n_perm_min_stat': 21,\n",
    "    'n_perm_max_seq': 21,\n",
    "    'n_perm_omnibus': 21,\n",
    "    'max_lag_sources': 0,\n",
    "    'min_lag_sources': 0}\n",
    "nw = BivariateMI()\n",
    "results = nw.analyse_single_target(\n",
    "    settings, data, target=1, sources='all')\n",
    "\n",
    "print(results.get_single_target(1, fdr=False))\n",
    "# the following should return [(0, 0)]\n",
    "print(results.get_single_target(1, fdr=False).selected_vars_sources)\n",
    "\n",
    "results.print_edge_list(weights='max_te_lag', fdr=False)"
   ]
  },
  {
   "cell_type": "code",
   "execution_count": null,
   "metadata": {},
   "outputs": [],
   "source": []
  }
 ],
 "metadata": {
  "kernelspec": {
   "display_name": "Python 3",
   "language": "python",
   "name": "python3"
  },
  "language_info": {
   "codemirror_mode": {
    "name": "ipython",
    "version": 3
   },
   "file_extension": ".py",
   "mimetype": "text/x-python",
   "name": "python",
   "nbconvert_exporter": "python",
   "pygments_lexer": "ipython3",
   "version": "3.6.4"
  }
 },
 "nbformat": 4,
 "nbformat_minor": 2
}

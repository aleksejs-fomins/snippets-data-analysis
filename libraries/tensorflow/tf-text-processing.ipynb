{
 "cells": [
  {
   "cell_type": "code",
   "execution_count": 10,
   "metadata": {},
   "outputs": [
    {
     "name": "stdout",
     "output_type": "stream",
     "text": [
      "1.12.0\n"
     ]
    }
   ],
   "source": [
    "from __future__ import absolute_import, division, print_function\n",
    "\n",
    "import numpy as np\n",
    "import pandas as pd\n",
    "import matplotlib.pyplot as plt\n",
    "from IPython.display import display, HTML\n",
    "\n",
    "import tensorflow as tf\n",
    "from tensorflow import keras\n",
    "\n",
    "print(tf.__version__)"
   ]
  },
  {
   "cell_type": "code",
   "execution_count": 8,
   "metadata": {},
   "outputs": [
    {
     "name": "stdout",
     "output_type": "stream",
     "text": [
      "Train data (25000,) test_data (25000,)\n"
     ]
    }
   ],
   "source": [
    "# Load dataset\n",
    "imdb = keras.datasets.imdb\n",
    "(train_data, train_labels), (test_data, test_labels) = imdb.load_data(num_words=10000)\n",
    "print(\"Train data\", train_data.shape, \"test_data\", test_data.shape)"
   ]
  },
  {
   "cell_type": "code",
   "execution_count": 16,
   "metadata": {},
   "outputs": [
    {
     "data": {
      "image/png": "[encoded data removed]",
      "text/plain": [
       "<Figure size 576x288 with 2 Axes>"
      ]
     },
     "metadata": {
      "needs_background": "light"
     },
     "output_type": "display_data"
    }
   ],
   "source": [
    "# Statistics on dataset\n",
    "wordsPerRev = [len(data) for data in train_data]\n",
    "uniqueWordsPerRev = [len(set(data)) for data in train_data]\n",
    "\n",
    "fig, ax = plt.subplots(ncols=2, figsize=(8,4))\n",
    "ax[0].hist(wordsPerRev, bins='auto')\n",
    "ax[0].set_xscale('log')\n",
    "ax[0].set_title(\"Words per review\")\n",
    "ax[1].hist(uniqueWordsPerRev, bins='auto')\n",
    "ax[1].set_title(\"Unique words per review\")\n",
    "ax[1].set_xscale('log')\n",
    "plt.show()"
   ]
  },
  {
   "cell_type": "code",
   "execution_count": 19,
   "metadata": {},
   "outputs": [
    {
     "data": {
      "text/plain": [
       "\"<START> this film was just brilliant casting location scenery story direction everyone's really suited the part they played and you could just imagine being there robert <UNK> is an amazing actor and now the same being director <UNK> father came from the same scottish island as myself so i loved the fact there was a real connection with this film the witty remarks throughout the film were great it was just brilliant so much that i bought the film as soon as it was released for <UNK> and would recommend it to everyone to watch and the fly fishing was amazing really cried at the end it was so sad and you know what they say if you cry at a film it must have been good and this definitely was also <UNK> to the two little boy's that played the <UNK> of norman and paul they were just brilliant children are often left out of the <UNK> list i think because the stars that play them all grown up are such a big profile for the whole film but these children are amazing and should be praised for what they have done don't you think the whole story was so lovely because it was true and was someone's life after all that was shared with us all\""
      ]
     },
     "execution_count": 19,
     "metadata": {},
     "output_type": "execute_result"
    }
   ],
   "source": [
    "# Get original words\n",
    "word_index = imdb.get_word_index()\n",
    "\n",
    "# The first indices are reserved\n",
    "word_index = {k:(v+3) for k,v in word_index.items()} \n",
    "word_index[\"<PAD>\"] = 0\n",
    "word_index[\"<START>\"] = 1\n",
    "word_index[\"<UNK>\"] = 2  # unknown\n",
    "word_index[\"<UNUSED>\"] = 3\n",
    "\n",
    "reverse_word_index = dict([(value, key) for (key, value) in word_index.items()])\n",
    "\n",
    "def decode_review(text):\n",
    "    return ' '.join([reverse_word_index.get(i, '?') for i in text])\n",
    "\n",
    "decode_review(train_data[0])"
   ]
  },
  {
   "cell_type": "code",
   "execution_count": 20,
   "metadata": {},
   "outputs": [],
   "source": [
    "# Bring all data to the same shape\n",
    "# In this case, use padding at the end of the data, and truncate\n",
    "train_data = keras.preprocessing.sequence.pad_sequences(train_data,\n",
    "                                                        value=word_index[\"<PAD>\"],\n",
    "                                                        padding='post',\n",
    "                                                        maxlen=256)\n",
    "\n",
    "test_data = keras.preprocessing.sequence.pad_sequences(test_data,\n",
    "                                                       value=word_index[\"<PAD>\"],\n",
    "                                                       padding='post',\n",
    "                                                       maxlen=256)"
   ]
  },
  {
   "cell_type": "code",
   "execution_count": 23,
   "metadata": {},
   "outputs": [
    {
     "name": "stdout",
     "output_type": "stream",
     "text": [
      "_________________________________________________________________\n",
      "Layer (type)                 Output Shape              Param #   \n",
      "=================================================================\n",
      "embedding (Embedding)        (None, None, 16)          160000    \n",
      "_________________________________________________________________\n",
      "global_average_pooling1d (Gl (None, 16)                0         \n",
      "_________________________________________________________________\n",
      "dense (Dense)                (None, 16)                272       \n",
      "_________________________________________________________________\n",
      "dense_1 (Dense)              (None, 1)                 17        \n",
      "=================================================================\n",
      "Total params: 160,289\n",
      "Trainable params: 160,289\n",
      "Non-trainable params: 0\n",
      "_________________________________________________________________\n"
     ]
    }
   ],
   "source": [
    "# input shape is the vocabulary count used for the movie reviews (10,000 words)\n",
    "vocab_size = 10000\n",
    "\n",
    "model = keras.Sequential()\n",
    "model.add(keras.layers.Embedding(vocab_size, 16))\n",
    "model.add(keras.layers.GlobalAveragePooling1D())\n",
    "model.add(keras.layers.Dense(16, activation=tf.nn.relu))\n",
    "model.add(keras.layers.Dense(1, activation=tf.nn.sigmoid))\n",
    "\n",
    "model.summary()"
   ]
  },
  {
   "cell_type": "code",
   "execution_count": 24,
   "metadata": {
    "scrolled": true
   },
   "outputs": [
    {
     "name": "stderr",
     "output_type": "stream",
     "text": [
      "/opt/anaconda3/envs/dlc_env/lib/python3.6/site-packages/tensorflow/python/ops/gradients_impl.py:112: UserWarning: Converting sparse IndexedSlices to a dense Tensor of unknown shape. This may consume a large amount of memory.\n",
      "  \"Converting sparse IndexedSlices to a dense Tensor of unknown shape. \"\n"
     ]
    },
    {
     "name": "stdout",
     "output_type": "stream",
     "text": [
      "Train on 15000 samples, validate on 10000 samples\n",
      "Epoch 1/40\n",
      "15000/15000 [==============================] - 1s 36us/step - loss: 0.6921 - acc: 0.5208 - val_loss: 0.6905 - val_acc: 0.5200\n",
      "Epoch 2/40\n",
      "15000/15000 [==============================] - 0s 23us/step - loss: 0.6870 - acc: 0.6432 - val_loss: 0.6834 - val_acc: 0.7406\n",
      "Epoch 3/40\n",
      "15000/15000 [==============================] - 0s 24us/step - loss: 0.6755 - acc: 0.7522 - val_loss: 0.6682 - val_acc: 0.7485\n",
      "Epoch 4/40\n",
      "15000/15000 [==============================] - 0s 23us/step - loss: 0.6539 - acc: 0.7619 - val_loss: 0.6439 - val_acc: 0.7586\n",
      "Epoch 5/40\n",
      "15000/15000 [==============================] - 0s 24us/step - loss: 0.6217 - acc: 0.7841 - val_loss: 0.6091 - val_acc: 0.7765\n",
      "Epoch 6/40\n",
      "15000/15000 [==============================] - 0s 23us/step - loss: 0.5799 - acc: 0.8010 - val_loss: 0.5676 - val_acc: 0.7898\n",
      "Epoch 7/40\n",
      "15000/15000 [==============================] - 0s 24us/step - loss: 0.5316 - acc: 0.8211 - val_loss: 0.5231 - val_acc: 0.8109\n",
      "Epoch 8/40\n",
      "15000/15000 [==============================] - 0s 23us/step - loss: 0.4830 - acc: 0.8385 - val_loss: 0.4805 - val_acc: 0.8267\n",
      "Epoch 9/40\n",
      "15000/15000 [==============================] - 0s 23us/step - loss: 0.4384 - acc: 0.8531 - val_loss: 0.4431 - val_acc: 0.8385\n",
      "Epoch 10/40\n",
      "15000/15000 [==============================] - 0s 24us/step - loss: 0.3987 - acc: 0.8683 - val_loss: 0.4114 - val_acc: 0.8477\n",
      "Epoch 11/40\n",
      "15000/15000 [==============================] - 0s 23us/step - loss: 0.3651 - acc: 0.8792 - val_loss: 0.3879 - val_acc: 0.8527\n",
      "Epoch 12/40\n",
      "15000/15000 [==============================] - 0s 24us/step - loss: 0.3374 - acc: 0.8859 - val_loss: 0.3648 - val_acc: 0.8620\n",
      "Epoch 13/40\n",
      "15000/15000 [==============================] - 0s 23us/step - loss: 0.3124 - acc: 0.8937 - val_loss: 0.3491 - val_acc: 0.8667\n",
      "Epoch 14/40\n",
      "15000/15000 [==============================] - 0s 24us/step - loss: 0.2921 - acc: 0.8997 - val_loss: 0.3353 - val_acc: 0.8717\n",
      "Epoch 15/40\n",
      "15000/15000 [==============================] - 0s 23us/step - loss: 0.2745 - acc: 0.9038 - val_loss: 0.3248 - val_acc: 0.8731\n",
      "Epoch 16/40\n",
      "15000/15000 [==============================] - 0s 23us/step - loss: 0.2595 - acc: 0.9081 - val_loss: 0.3162 - val_acc: 0.8764\n",
      "Epoch 17/40\n",
      "15000/15000 [==============================] - 0s 24us/step - loss: 0.2451 - acc: 0.9143 - val_loss: 0.3092 - val_acc: 0.8762\n",
      "Epoch 18/40\n",
      "15000/15000 [==============================] - 0s 24us/step - loss: 0.2327 - acc: 0.9197 - val_loss: 0.3035 - val_acc: 0.8793\n",
      "Epoch 19/40\n",
      "15000/15000 [==============================] - 0s 23us/step - loss: 0.2211 - acc: 0.9234 - val_loss: 0.2989 - val_acc: 0.8817\n",
      "Epoch 20/40\n",
      "15000/15000 [==============================] - 0s 24us/step - loss: 0.2109 - acc: 0.9263 - val_loss: 0.2951 - val_acc: 0.8828\n",
      "Epoch 21/40\n",
      "15000/15000 [==============================] - 0s 24us/step - loss: 0.2010 - acc: 0.9306 - val_loss: 0.2920 - val_acc: 0.8826\n",
      "Epoch 22/40\n",
      "15000/15000 [==============================] - 0s 25us/step - loss: 0.1919 - acc: 0.9350 - val_loss: 0.2900 - val_acc: 0.8841\n",
      "Epoch 23/40\n",
      "15000/15000 [==============================] - 0s 23us/step - loss: 0.1836 - acc: 0.9381 - val_loss: 0.2888 - val_acc: 0.8840\n",
      "Epoch 24/40\n",
      "15000/15000 [==============================] - 0s 25us/step - loss: 0.1753 - acc: 0.9430 - val_loss: 0.2869 - val_acc: 0.8844\n",
      "Epoch 25/40\n",
      "15000/15000 [==============================] - 0s 24us/step - loss: 0.1680 - acc: 0.9460 - val_loss: 0.2862 - val_acc: 0.8845\n",
      "Epoch 26/40\n",
      "15000/15000 [==============================] - 0s 24us/step - loss: 0.1607 - acc: 0.9482 - val_loss: 0.2862 - val_acc: 0.8856\n",
      "Epoch 27/40\n",
      "15000/15000 [==============================] - 0s 24us/step - loss: 0.1546 - acc: 0.9513 - val_loss: 0.2868 - val_acc: 0.8852\n",
      "Epoch 28/40\n",
      "15000/15000 [==============================] - 0s 23us/step - loss: 0.1481 - acc: 0.9549 - val_loss: 0.2865 - val_acc: 0.8858\n",
      "Epoch 29/40\n",
      "15000/15000 [==============================] - 0s 23us/step - loss: 0.1422 - acc: 0.9557 - val_loss: 0.2871 - val_acc: 0.8863\n",
      "Epoch 30/40\n",
      "15000/15000 [==============================] - 0s 23us/step - loss: 0.1370 - acc: 0.9587 - val_loss: 0.2884 - val_acc: 0.8855\n",
      "Epoch 31/40\n",
      "15000/15000 [==============================] - 0s 24us/step - loss: 0.1308 - acc: 0.9606 - val_loss: 0.2899 - val_acc: 0.8860\n",
      "Epoch 32/40\n",
      "15000/15000 [==============================] - 0s 24us/step - loss: 0.1261 - acc: 0.9635 - val_loss: 0.2918 - val_acc: 0.8852\n",
      "Epoch 33/40\n",
      "15000/15000 [==============================] - 0s 24us/step - loss: 0.1205 - acc: 0.9656 - val_loss: 0.2937 - val_acc: 0.8856\n",
      "Epoch 34/40\n",
      "15000/15000 [==============================] - 0s 24us/step - loss: 0.1160 - acc: 0.9669 - val_loss: 0.2963 - val_acc: 0.8843\n",
      "Epoch 35/40\n",
      "15000/15000 [==============================] - 0s 24us/step - loss: 0.1119 - acc: 0.9686 - val_loss: 0.2981 - val_acc: 0.8852\n",
      "Epoch 36/40\n",
      "15000/15000 [==============================] - 0s 23us/step - loss: 0.1069 - acc: 0.9701 - val_loss: 0.3011 - val_acc: 0.8847\n",
      "Epoch 37/40\n",
      "15000/15000 [==============================] - 0s 24us/step - loss: 0.1029 - acc: 0.9715 - val_loss: 0.3040 - val_acc: 0.8843\n",
      "Epoch 38/40\n",
      "15000/15000 [==============================] - 0s 24us/step - loss: 0.0994 - acc: 0.9716 - val_loss: 0.3073 - val_acc: 0.8829\n",
      "Epoch 39/40\n",
      "15000/15000 [==============================] - 0s 23us/step - loss: 0.0950 - acc: 0.9742 - val_loss: 0.3097 - val_acc: 0.8831\n",
      "Epoch 40/40\n",
      "15000/15000 [==============================] - 0s 24us/step - loss: 0.0912 - acc: 0.9760 - val_loss: 0.3133 - val_acc: 0.8823\n",
      "25000/25000 [==============================] - 0s 12us/step\n",
      "[0.3333252174758911, 0.87252]\n"
     ]
    }
   ],
   "source": [
    "# Define model optimization parameters\n",
    "model.compile(optimizer='adam', loss='binary_crossentropy', metrics=['acc'])\n",
    "\n",
    "# Separate training into training and validation\n",
    "x_val = train_data[:10000]\n",
    "y_val = train_labels[:10000]\n",
    "partial_x_train = train_data[10000:]\n",
    "partial_y_train = train_labels[10000:]\n",
    "\n",
    "# Train model\n",
    "history = model.fit(partial_x_train,\n",
    "                    partial_y_train,\n",
    "                    epochs=40,\n",
    "                    batch_size=512,\n",
    "                    validation_data=(x_val, y_val),\n",
    "                    verbose=1)\n",
    "\n",
    "results = model.evaluate(test_data, test_labels)\n",
    "print(results)"
   ]
  },
  {
   "cell_type": "code",
   "execution_count": 25,
   "metadata": {},
   "outputs": [
    {
     "data": {
      "text/plain": [
       "dict_keys(['val_loss', 'val_acc', 'loss', 'acc'])"
      ]
     },
     "execution_count": 25,
     "metadata": {},
     "output_type": "execute_result"
    }
   ],
   "source": [
    "history_dict = history.history\n",
    "history_dict.keys()"
   ]
  },
  {
   "cell_type": "code",
   "execution_count": 26,
   "metadata": {},
   "outputs": [
    {
     "data": {
      "image/png": "[encoded data removed]",
      "text/plain": [
       "<Figure size 432x288 with 1 Axes>"
      ]
     },
     "metadata": {
      "needs_background": "light"
     },
     "output_type": "display_data"
    }
   ],
   "source": [
    "import matplotlib.pyplot as plt\n",
    "\n",
    "acc = history_dict['acc']\n",
    "val_acc = history_dict['val_acc']\n",
    "loss = history_dict['loss']\n",
    "val_loss = history_dict['val_loss']\n",
    "\n",
    "epochs = range(1, len(acc) + 1)\n",
    "\n",
    "# \"bo\" is for \"blue dot\"\n",
    "plt.plot(epochs, loss, 'bo', label='Training loss')\n",
    "# b is for \"solid blue line\"\n",
    "plt.plot(epochs, val_loss, 'b', label='Validation loss')\n",
    "plt.title('Training and validation loss')\n",
    "plt.xlabel('Epochs')\n",
    "plt.ylabel('Loss')\n",
    "plt.legend()\n",
    "\n",
    "plt.show()"
   ]
  },
  {
   "cell_type": "code",
   "execution_count": 27,
   "metadata": {},
   "outputs": [
    {
     "data": {
      "image/png": "[encoded data removed]",
      "text/plain": [
       "<Figure size 432x288 with 1 Axes>"
      ]
     },
     "metadata": {
      "needs_background": "light"
     },
     "output_type": "display_data"
    }
   ],
   "source": [
    "plt.clf()   # clear figure\n",
    "\n",
    "plt.plot(epochs, acc, 'bo', label='Training acc')\n",
    "plt.plot(epochs, val_acc, 'b', label='Validation acc')\n",
    "plt.title('Training and validation accuracy')\n",
    "plt.xlabel('Epochs')\n",
    "plt.ylabel('Accuracy')\n",
    "plt.legend()\n",
    "\n",
    "plt.show()\n"
   ]
  },
  {
   "cell_type": "code",
   "execution_count": null,
   "metadata": {},
   "outputs": [],
   "source": []
  }
 ],
 "metadata": {
  "kernelspec": {
   "display_name": "Python (dlc)",
   "language": "python",
   "name": "dlc_ker"
  },
  "language_info": {
   "codemirror_mode": {
    "name": "ipython",
    "version": 3
   },
   "file_extension": ".py",
   "mimetype": "text/x-python",
   "name": "python",
   "nbconvert_exporter": "python",
   "pygments_lexer": "ipython3",
   "version": "3.6.7"
  }
 },
 "nbformat": 4,
 "nbformat_minor": 2
}

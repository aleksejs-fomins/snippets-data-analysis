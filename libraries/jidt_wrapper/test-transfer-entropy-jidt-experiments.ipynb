{
 "cells": [
  {
   "cell_type": "code",
   "execution_count": 1,
   "metadata": {},
   "outputs": [],
   "source": [
    "import os\n",
    "import math\n",
    "import numpy as np\n",
    "import matplotlib.pyplot as plt\n",
    "from operator import xor\n",
    "import readFloatsFile\n",
    "from JidtWrapper import JidtWrapper, np2JArr\n",
    "\n",
    "# Create a TE wrapper class\n",
    "jidtWrapper1 = JidtWrapper()"
   ]
  },
  {
   "cell_type": "markdown",
   "metadata": {},
   "source": [
    "### Analytical transfer entropy:\n",
    "\n",
    "* $T(A\\rightarrow B) = I(Y_t ; X_{t \\in [-1, -L]} | Y_{t \\in [-1, -L]})$\n",
    "  - The information shared by current Y, and history of X of length L, given that the history of Y of length L is known\n",
    "\n",
    "Additional concepts\n",
    "* https://github.com/jlizier/jidt"
   ]
  },
  {
   "cell_type": "code",
   "execution_count": 2,
   "metadata": {},
   "outputs": [
    {
     "name": "stdout",
     "output_type": "stream",
     "text": [
      "original array:       [ 1.  2.  3.  4.  5.  6.  7.  8.  9. 10.]\n",
      "lossy-shifted by 2:   [0. 0. 1. 2. 3. 4. 5. 6. 7. 8.]\n",
      "cyclic-shifted by 2:  [ 9. 10.  1.  2.  3.  4.  5.  6.  7.  8.]\n"
     ]
    }
   ],
   "source": [
    "# Shift all elements of the array to the right cyclically\n",
    "def cyclicShift(arr, num):\n",
    "    return np.hstack((arr[-num:], arr[:-num]))\n",
    "\n",
    "# Shift all elements of the array to the right, replacing them with zeros\n",
    "def lossyShift(arr, num):\n",
    "    return np.hstack(([0]*num, arr[:-num]))\n",
    "\n",
    "aaa = np.linspace(1, 10, 10)\n",
    "print(\"original array:      \", aaa)\n",
    "print(\"lossy-shifted by 2:  \", lossyShift(aaa, 2))\n",
    "print(\"cyclic-shifted by 2: \", cyclicShift(aaa, 2))"
   ]
  },
  {
   "cell_type": "markdown",
   "metadata": {},
   "source": [
    "### Effect of History"
   ]
  },
  {
   "cell_type": "code",
   "execution_count": 45,
   "metadata": {},
   "outputs": [
    {
     "name": "stdout",
     "output_type": "stream",
     "text": [
      "----- DISCRETE ---------------\n",
      "Uncorrelated: 0.0127\n",
      "1 step lag  : 0.9731\n",
      "2 step lag  : 0.0516\n",
      "1 step lag, backwards  : 0.0212\n",
      "2 step lag, backwards  : 0.0212\n",
      "----- TE_KERNEL ---------------\n",
      "Uncorrelated: 0.0119\n",
      "1 step lag  : 0.9504\n",
      "2 step lag  : 0.0770\n",
      "1 step lag, backwards  : 0.0000\n",
      "2 step lag, backwards  : 0.0000\n"
     ]
    }
   ],
   "source": [
    "# Generate some random binary data.\n",
    "sourceArray1 = np.random.randint(0, 2, 100)\n",
    "sourceArray2 = np.random.randint(0, 2, 100)\n",
    "destArray1 = lossyShift(sourceArray1, 1).astype(int)\n",
    "destArray2 = lossyShift(sourceArray1, 2).astype(int)\n",
    "\n",
    "# Create a TE calculator and run it:\n",
    "print('----- DISCRETE ---------------')\n",
    "param = {'historyLength' : 2, 'kernelWidth' : 1}\n",
    "te_random = jidtWrapper1.calcTwoPartiteTE_Discrete(sourceArray2, destArray1, param)\n",
    "te_lag_1 = jidtWrapper1.calcTwoPartiteTE_Discrete(sourceArray1, destArray1, param)\n",
    "te_lag_2 = jidtWrapper1.calcTwoPartiteTE_Discrete(sourceArray1, destArray2, param)\n",
    "te_lag_1_rev = jidtWrapper1.calcTwoPartiteTE_Discrete(destArray1, sourceArray1, param)\n",
    "te_lag_2_rev = jidtWrapper1.calcTwoPartiteTE_Discrete(destArray2, sourceArray1,param)\n",
    "\n",
    "print(\"Uncorrelated: %.4f\" % te_random)\n",
    "print(\"1 step lag  : %.4f\" % te_lag_1)\n",
    "print(\"2 step lag  : %.4f\" % te_lag_2)\n",
    "print(\"1 step lag, backwards  : %.4f\" % te_lag_1_rev)\n",
    "print(\"2 step lag, backwards  : %.4f\" % te_lag_1_rev)\n",
    "\n",
    "sourceArray1 = sourceArray1.astype(float)\n",
    "sourceArray2 = sourceArray2.astype(float)\n",
    "destArray1 = destArray1.astype(float)\n",
    "destArray2 = destArray2.astype(float)\n",
    "\n",
    "print('----- TE_KERNEL ---------------')\n",
    "paramKernel = {'method': 'TE_KERNEL', 'initParam': [2, 0.5], 'properties': {\"NORMALISE\" : \"true\"}}\n",
    "te_random = jidtWrapper1.runJavaTwoPartite((sourceArray2, destArray1), paramKernel)\n",
    "te_lag_1 = jidtWrapper1.runJavaTwoPartite((sourceArray1, destArray1), paramKernel)\n",
    "te_lag_2 = jidtWrapper1.runJavaTwoPartite((sourceArray1, destArray2), paramKernel)\n",
    "te_lag_1_rev = jidtWrapper1.runJavaTwoPartite((destArray1, sourceArray1), paramKernel)\n",
    "te_lag_2_rev = jidtWrapper1.runJavaTwoPartite((destArray2, sourceArray1),paramKernel)\n",
    "\n",
    "print(\"Uncorrelated: %.4f\" % te_random)\n",
    "print(\"1 step lag  : %.4f\" % te_lag_1)\n",
    "print(\"2 step lag  : %.4f\" % te_lag_2)\n",
    "print(\"1 step lag, backwards  : %.4f\" % te_lag_1_rev)\n",
    "print(\"2 step lag, backwards  : %.4f\" % te_lag_1_rev)\n"
   ]
  },
  {
   "cell_type": "markdown",
   "metadata": {},
   "source": [
    "# Effect of correlation strength"
   ]
  },
  {
   "cell_type": "code",
   "execution_count": 26,
   "metadata": {},
   "outputs": [
    {
     "data": {
      "image/png": "[encoded data removed]",
      "text/plain": [
       "<Figure size 432x288 with 1 Axes>"
      ]
     },
     "metadata": {},
     "output_type": "display_data"
    }
   ],
   "source": [
    "# Generate some random normalised data.\n",
    "numObservations = 1000\n",
    "discr = 200\n",
    "\n",
    "covLst = 20**(np.linspace(0.01, 0.99, discr) - 1)  # Sample more the small correlations than the big ones\n",
    "rezKernel = np.zeros(discr)\n",
    "rezKraskov = np.zeros(discr)\n",
    "rezTrue = np.zeros(discr)\n",
    "\n",
    "for i in range(discr):\n",
    "    cov = covLst[i]\n",
    "    \n",
    "    # Normal random source\n",
    "    sourceArray  = np.random.normal(0.01, 1, numObservations)\n",
    "    \n",
    "    # Destination array of random normals with partial correlation to previous value of sourceArray\n",
    "    destArray = np.zeros(numObservations)\n",
    "    destArray[1:] += cov * sourceArray[:-1]\n",
    "    destArray[1:] += (1 - cov) * np.random.normal(0, 1, numObservations-1)\n",
    "\n",
    "    # Normalise the individual variables\n",
    "    # Use history length 1 (Schreiber k=1), kernel width of 0.5 normalised units\n",
    "    paramKernel = {'method': 'TE_KERNEL', 'initParam': [1, 0.5], 'properties': {\"NORMALISE\" : \"true\"}}\n",
    "    paramKraskov = {'method': 'TE_KRASKOV', 'initParam': [1], 'properties': {\"NORMALISE\": \"true\", \"k\": \"4\"}}\n",
    "    rezKernel[i] = jidtWrapper1.runJavaTwoPartite((sourceArray, destArray), paramKernel)\n",
    "    rezKraskov[i] = jidtWrapper1.runJavaTwoPartite((sourceArray, destArray), paramKraskov)\n",
    "\n",
    "#     corr_expected = cov / np.sqrt(cov**2 + (1-cov)**2)\n",
    "#     rezTrue[i] = -0.5*np.log2(1-corr_expected**2)\n",
    "\n",
    "    corr_expected = cov / (1 * math.sqrt(cov**2 + (1-cov)**2));\n",
    "    rezTrue[i] = -0.5*math.log(1-math.pow(corr_expected,2))/math.log(2)\n",
    "    \n",
    "plt.figure()\n",
    "plt.semilogy(covLst, rezKernel, '.', label='kernel')\n",
    "plt.semilogy(covLst, rezKraskov, '.', label='kraskov')\n",
    "plt.semilogy(covLst, rezTrue, label='true')\n",
    "plt.legend()\n",
    "plt.show()"
   ]
  },
  {
   "cell_type": "code",
   "execution_count": null,
   "metadata": {},
   "outputs": [],
   "source": []
  }
 ],
 "metadata": {
  "kernelspec": {
   "display_name": "Python 3",
   "language": "python",
   "name": "python3"
  },
  "language_info": {
   "codemirror_mode": {
    "name": "ipython",
    "version": 3
   },
   "file_extension": ".py",
   "mimetype": "text/x-python",
   "name": "python",
   "nbconvert_exporter": "python",
   "pygments_lexer": "ipython3",
   "version": "3.6.5"
  }
 },
 "nbformat": 4,
 "nbformat_minor": 2
}

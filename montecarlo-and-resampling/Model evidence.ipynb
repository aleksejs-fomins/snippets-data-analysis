{
 "cells": [
  {
   "cell_type": "markdown",
   "metadata": {},
   "source": [
    "## Computation of posterior distribution\n",
    "\n",
    "Model evidence is given by\n",
    "$$P[D] = \\int P[D|\\theta]P[\\theta] d\\theta = \\langle P[D|\\theta] \\rangle_{P[\\theta]}$$\n",
    "\n",
    "### Methods of estimation\n",
    "* **Arithmetic Estimator** - Generate sample from $P[\\theta]$ (e.g. using MH), compute average likelihood. Problem is that if $P[D|\\theta]$ and $P[\\theta]$ do not overlap well, the major contribution to the integral might come from the region where $P[\\theta]$ is very small, so it will not be sampled well.\n",
    "* **Geometric Estimator** - ??\n",
    "* **Chib Estimator** - Use Gibbs to sample Posterior instead, as posterior indicates where integral is the highest\n",
    "* **Chib-Jelizakov Estimator** - If Gibbs not possible (1D posterior estimates not available), use MH instead."
   ]
  },
  {
   "cell_type": "code",
   "execution_count": null,
   "metadata": {
    "collapsed": true
   },
   "outputs": [],
   "source": []
  }
 ],
 "metadata": {
  "kernelspec": {
   "display_name": "Python 3",
   "language": "python",
   "name": "python3"
  },
  "language_info": {
   "codemirror_mode": {
    "name": "ipython",
    "version": 3
   },
   "file_extension": ".py",
   "mimetype": "text/x-python",
   "name": "python",
   "nbconvert_exporter": "python",
   "pygments_lexer": "ipython3",
   "version": "3.8.5"
  }
 },
 "nbformat": 4,
 "nbformat_minor": 1
}

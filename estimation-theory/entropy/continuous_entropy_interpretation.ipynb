{
 "cells": [
  {
   "cell_type": "code",
   "execution_count": 1,
   "metadata": {},
   "outputs": [],
   "source": [
    "import numpy as np\n",
    "import npeet.entropy_estimators as ee\n",
    "from mesostat.metric.dim3d.partialcorr import partial_corr"
   ]
  },
  {
   "cell_type": "markdown",
   "metadata": {},
   "source": [
    "## Differential Entropy and MI can diverge\n",
    "\n",
    "$$I(X:X) = \\infty$$\n",
    "\n",
    "$$H(X:X) = -\\infty$$"
   ]
  },
  {
   "cell_type": "code",
   "execution_count": 1,
   "metadata": {},
   "outputs": [
    {
     "name": "stdout",
     "output_type": "stream",
     "text": [
      "H(X) = 1.4117421783976907 expected 1.4189385332046727\n",
      "H(Y) = 1.4100579849237338 expected 1.4189385332046727\n",
      "H(XY) = 2.805708641050864 expected 2.8378770664093453\n",
      "H(XX) = -5.464021554010722 expected 1.4189385332046727\n",
      "I(X:X) = 7.95417270271105 expected 1.4189385332046727\n",
      "I(XY:XY) = 7.95417270271105 expected 2.8378770664093453\n"
     ]
    }
   ],
   "source": [
    "n = 10000\n",
    "k = 3\n",
    "\n",
    "x = np.random.normal(0,1,n)\n",
    "y = np.random.normal(0,1,n)\n",
    "xy = np.array([x,y]).T\n",
    "xx = np.array([x,x]).T\n",
    "entrTrue1D = 0.5*(1 + np.log(2*np.pi))\n",
    "\n",
    "print('H(X) =', ee.entropy(x[:, None], base=np.exp(1), k=k), 'expected', entrTrue1D)\n",
    "print('H(Y) =', ee.entropy(y[:, None], base=np.exp(1), k=k), 'expected', entrTrue1D)\n",
    "print('H(XY) =', ee.entropy(xy, base=np.exp(1), k=k), 'expected', 2*entrTrue1D)\n",
    "print('H(XX) =', ee.entropy(xx, base=np.exp(1), k=k), 'expected', entrTrue1D)\n",
    "print('I(X:X) =', ee.mi(x[:, None], x[:, None], base=np.exp(1), k=k), 'expected', entrTrue1D)\n",
    "print('I(XY:XY) =', ee.mi(xy, xy, base=np.exp(1), k=k), 'expected', 2*entrTrue1D)"
   ]
  },
  {
   "cell_type": "code",
   "execution_count": null,
   "metadata": {},
   "outputs": [],
   "source": [
    "z = x+y\n",
    "\n",
    "\n",
    "print(ee.mi(x, z, base=np.exp(1), k=3))\n",
    "print(ee.mi(y, z, base=np.exp(1), k=3))\n",
    "print(ee.mi(xy, z, base=np.exp(1), k=3))"
   ]
  }
 ],
 "metadata": {
  "kernelspec": {
   "display_name": "py3ml",
   "language": "python",
   "name": "py3ml"
  },
  "language_info": {
   "codemirror_mode": {
    "name": "ipython",
    "version": 3
   },
   "file_extension": ".py",
   "mimetype": "text/x-python",
   "name": "python",
   "nbconvert_exporter": "python",
   "pygments_lexer": "ipython3",
   "version": "3.8.5"
  }
 },
 "nbformat": 4,
 "nbformat_minor": 4
}

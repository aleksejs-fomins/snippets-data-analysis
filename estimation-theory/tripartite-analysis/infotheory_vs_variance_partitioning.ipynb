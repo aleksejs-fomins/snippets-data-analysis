{
 "cells": [
  {
   "cell_type": "code",
   "execution_count": 11,
   "metadata": {},
   "outputs": [],
   "source": [
    "import numpy as np\n",
    "import npeet.entropy_estimators as ee\n",
    "from mesostat.metric.dim3d.partialcorr import partial_corr\n",
    "from mesostat.metric.dim3d.r2 import pr2_quadratic_triplet_decomp_1D"
   ]
  },
  {
   "cell_type": "markdown",
   "metadata": {},
   "source": [
    "# Understanding Synergy\n",
    "\n",
    "What is the actual conceptual definition of Syn. How do Williams & Beer do it? What does it really mean?"
   ]
  },
  {
   "cell_type": "markdown",
   "metadata": {},
   "source": [
    "## Understanding Sum\n",
    "\n",
    "According to PID, CMI is\n",
    "\n",
    "$$I(X:Z) = Unq(X:Z|Y) + Red(X:Y:Z)$$\n",
    "\n",
    "$$I(X:Z|Y) = Unq(X:Z|Y) + Syn(X:Y:Z)$$\n",
    "\n",
    "Since CMI > MI for Z = X+Y, it can be concluded that Syn > Red. While many authors would disagree, I would postulate zero Red in this case, since there are no source correlations. Hence Syn > 0."
   ]
  },
  {
   "cell_type": "code",
   "execution_count": 8,
   "metadata": {},
   "outputs": [],
   "source": [
    "# Bullshit PCorr\n",
    "x = np.random.normal(0,1,1000)\n",
    "y = np.random.normal(0,1,1000)\n",
    "z = x + y"
   ]
  },
  {
   "cell_type": "code",
   "execution_count": 9,
   "metadata": {},
   "outputs": [
    {
     "name": "stdout",
     "output_type": "stream",
     "text": [
      "Corr 0.6917298848236814\n",
      "PCorr 0.9999999999985205\n"
     ]
    }
   ],
   "source": [
    "print('Corr', np.corrcoef(x,z)[0, 1])\n",
    "print('PCorr', partial_corr(x,z,[y]))"
   ]
  },
  {
   "cell_type": "code",
   "execution_count": 10,
   "metadata": {},
   "outputs": [
    {
     "name": "stdout",
     "output_type": "stream",
     "text": [
      "Corr -0.04030762975315868\n",
      "PCorr -0.9999999999979439\n"
     ]
    }
   ],
   "source": [
    "print('Corr', np.corrcoef(x,y)[0, 1])\n",
    "print('PCorr', partial_corr(x,y,[z]))"
   ]
  },
  {
   "cell_type": "markdown",
   "metadata": {},
   "source": [
    "However, for Variance Partitioning, the result is very different"
   ]
  },
  {
   "cell_type": "code",
   "execution_count": 12,
   "metadata": {},
   "outputs": [
    {
     "data": {
      "text/plain": [
       "array([0.51868276, 0.518118  , 0.        , 0.        ])"
      ]
     },
     "execution_count": 12,
     "metadata": {},
     "output_type": "execute_result"
    }
   ],
   "source": [
    "pr2_quadratic_triplet_decomp_1D(x,y,z)"
   ]
  },
  {
   "cell_type": "code",
   "execution_count": null,
   "metadata": {},
   "outputs": [],
   "source": []
  }
 ],
 "metadata": {
  "kernelspec": {
   "display_name": "py3ml",
   "language": "python",
   "name": "py3ml"
  },
  "language_info": {
   "codemirror_mode": {
    "name": "ipython",
    "version": 3
   },
   "file_extension": ".py",
   "mimetype": "text/x-python",
   "name": "python",
   "nbconvert_exporter": "python",
   "pygments_lexer": "ipython3",
   "version": "3.8.5"
  }
 },
 "nbformat": 4,
 "nbformat_minor": 4
}

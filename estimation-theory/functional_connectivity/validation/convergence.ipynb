{
 "cells": [
  {
   "cell_type": "code",
   "execution_count": null,
   "metadata": {},
   "outputs": [],
   "source": [
    "import numpy as np\n",
    "import matplotlib.pyplot as plt\n",
    "from scipy.stats import spearmanr"
   ]
  },
  {
   "cell_type": "code",
   "execution_count": null,
   "metadata": {},
   "outputs": [],
   "source": [
    "def sig(x):\n",
    "    return 1 / (1 + np.exp(-x))\n",
    "\n",
    "def step1(A, x, s2eps=1):\n",
    "    inp = np.random.normal(0, s2eps, x.shape)\n",
    "    return sig(A.dot(x) + inp)\n",
    "\n",
    "def simulate(x, A, nStep, s2eps=1):\n",
    "    rezLst = [x]\n",
    "    for i in range(nStep):\n",
    "        rezLst += [step1(A, rezLst[-1], s2eps=s2eps)]\n",
    "    return rezLst\n",
    "\n",
    "# Return index of off-diagonal elements of a square matrix\n",
    "def offdiag_idx(N):\n",
    "    return ~np.eye(N, dtype=bool)\n",
    "\n",
    "\n",
    "# Return flat 1D array of matrix off-diagonal entries\n",
    "def offdiag_1D(M):\n",
    "    return M[offdiag_idx(M.shape[0])]"
   ]
  },
  {
   "cell_type": "code",
   "execution_count": null,
   "metadata": {},
   "outputs": [],
   "source": [
    "n = 10\n",
    "p = 0.1\n",
    "\n",
    "# Set sparse connectivity matrix\n",
    "A = (np.random.uniform(0, 1, (n,n)) < p).astype(int)\n",
    "np.fill_diagonal(A, 0)\n",
    "\n",
    "nDataLst = (10**np.linspace(2,5, 20)).astype(int)\n",
    "AestLst = []\n",
    "corrLst = []\n",
    "\n",
    "for nData in nDataLst:\n",
    "    xLst = simulate(np.zeros(n), A, nData, s2eps=1)\n",
    "    xLst = np.array(xLst)\n",
    "    Aest = np.corrcoef(xLst[:-1].T, xLst[1:].T)[n:, :n]\n",
    "    AestLst += [Aest]\n",
    "    corrLst += [np.corrcoef(offdiag_1D(A), offdiag_1D(Aest))[1, 0]]"
   ]
  },
  {
   "cell_type": "code",
   "execution_count": null,
   "metadata": {},
   "outputs": [],
   "source": [
    "plt.rcParams.update({'font.size': 16})\n",
    "fig, ax = plt.subplots(ncols=3, figsize=(15, 5))\n",
    "ax[0].imshow(A)\n",
    "ax[1].imshow(AestLst[-1])\n",
    "ax[2].semilogx(nDataLst, corrLst)\n",
    "ax[2].set_ylim(0, 1.05)\n",
    "plt.show()\n",
    "\n",
    "print(np.min(AestLst[-1]), np.max(AestLst[-1]))"
   ]
  },
  {
   "cell_type": "markdown",
   "metadata": {},
   "source": [
    "# Experiment 2: Positive and Negative weights"
   ]
  },
  {
   "cell_type": "code",
   "execution_count": null,
   "metadata": {},
   "outputs": [],
   "source": [
    "n = 10\n",
    "\n",
    "# Set sparse connectivity matrix\n",
    "A = np.random.normal(0, 0.5, (n, n))\n",
    "np.fill_diagonal(A, 0)\n",
    "\n",
    "nDataLst = (10**np.linspace(2,6, 20)).astype(int)\n",
    "AestLst = []\n",
    "corrLst = []\n",
    "\n",
    "for nData in nDataLst:\n",
    "    xLst = simulate(np.zeros(n), A, nData, s2eps=1)\n",
    "    xLst = np.array(xLst)\n",
    "    Aest = np.corrcoef(xLst[:-1].T, xLst[1:].T)[n:, :n]\n",
    "    AestLst += [Aest]\n",
    "#     corrLst += [np.corrcoef(offdiag_1D(A), offdiag_1D(Aest))[1, 0]]\n",
    "    corrLst += [spearmanr(offdiag_1D(A), offdiag_1D(Aest))[0]]"
   ]
  },
  {
   "cell_type": "code",
   "execution_count": null,
   "metadata": {},
   "outputs": [],
   "source": [
    "plt.rcParams.update({'font.size': 16})\n",
    "\n",
    "plt.figure()\n",
    "plt.plot(xLst[-100:, :10])\n",
    "plt.show()\n",
    "\n",
    "fig, ax = plt.subplots(ncols=3, figsize=(15, 5))\n",
    "ax[0].imshow(A, cmap='jet')\n",
    "ax[1].imshow(AestLst[-1], cmap='jet')\n",
    "ax[2].semilogx(nDataLst, corrLst)\n",
    "ax[2].set_ylim(0, 1.0)\n",
    "plt.show()\n",
    "\n",
    "print(np.min(AestLst[-1]), np.max(AestLst[-1]))"
   ]
  },
  {
   "cell_type": "code",
   "execution_count": null,
   "metadata": {},
   "outputs": [],
   "source": []
  }
 ],
 "metadata": {
  "kernelspec": {
   "display_name": "py3ml",
   "language": "python",
   "name": "py3ml"
  },
  "language_info": {
   "codemirror_mode": {
    "name": "ipython",
    "version": 3
   },
   "file_extension": ".py",
   "mimetype": "text/x-python",
   "name": "python",
   "nbconvert_exporter": "python",
   "pygments_lexer": "ipython3",
   "version": "3.8.5"
  }
 },
 "nbformat": 4,
 "nbformat_minor": 4
}

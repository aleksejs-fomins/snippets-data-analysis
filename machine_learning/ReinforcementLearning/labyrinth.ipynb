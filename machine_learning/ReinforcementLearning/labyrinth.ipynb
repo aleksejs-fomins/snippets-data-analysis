{
 "cells": [
  {
   "cell_type": "code",
   "execution_count": 99,
   "metadata": {},
   "outputs": [
    {
     "name": "stdout",
     "output_type": "stream",
     "text": [
      "Target accessible using at least 10.0 steps\n"
     ]
    },
    {
     "data": {
      "image/png": "[encoded data removed]",
      "text/plain": [
       "<Figure size 432x288 with 1 Axes>"
      ]
     },
     "metadata": {
      "needs_background": "light"
     },
     "output_type": "display_data"
    }
   ],
   "source": [
    "import numpy as np\n",
    "import matplotlib.pyplot as plt\n",
    "from collections import deque\n",
    "\n",
    "###########################\n",
    "# Generate Labyrinth\n",
    "###########################\n",
    "NROW = 10\n",
    "NCOL = 10\n",
    "pbad = 0.3\n",
    "lab = np.random.uniform(0, 1, (NROW, NCOL)) < pbad\n",
    "x0 = np.random.randint(0, NCOL)\n",
    "y0 = np.random.randint(0, NROW)\n",
    "xf = np.random.randint(0, NCOL)\n",
    "yf = np.random.randint(0, NROW)\n",
    "lab[y0, x0] = 0\n",
    "lab[yf, xf] = 0\n",
    "\n",
    "###########################\n",
    "# Check if target accessible using BFS\n",
    "###########################\n",
    "dist = np.nan * np.ones(lab.shape)\n",
    "tasks = deque([(x0, y0, 0)])\n",
    "\n",
    "validmove = lambda x,y: (x>=0)and(y>=0)and(x<NCOL)and(y<NROW)and(lab[y,x] == 0)\n",
    "\n",
    "while len(tasks) > 0:\n",
    "    x,y,d = tasks.popleft()\n",
    "    if validmove(x,y) and np.isnan(dist[y,x]):\n",
    "        dist[y,x] = d\n",
    "        tasks.append((x-1, y, d+1))\n",
    "        tasks.append((x, y-1, d+1))\n",
    "        tasks.append((x+1, y, d+1))\n",
    "        tasks.append((x, y+1, d+1))\n",
    "\n",
    "if np.isnan(dist[yf, xf]):\n",
    "    print(\"Target inaccessible from source\")\n",
    "else:\n",
    "    print(\"Target accessible using at least\", dist[yf, xf], \"steps\")\n",
    "            \n",
    "plt.figure()\n",
    "plt.title(\"Red is wall. White dot start. White cross finish. Blue inaccessible. Shade of yellow determines distance\")\n",
    "plt.imshow(lab, cmap='jet')\n",
    "plt.imshow(dist)\n",
    "plt.plot([x0], [y0], 'o', color='white')\n",
    "plt.plot([xf], [yf], 'x', color='white')\n",
    "plt.show()"
   ]
  },
  {
   "cell_type": "code",
   "execution_count": 124,
   "metadata": {},
   "outputs": [],
   "source": [
    "########################\n",
    "# TD LEARNING\n",
    "########################\n",
    "\n",
    "# Constants\n",
    "alpha = 0.1  # Learning rate\n",
    "R0 = 1        # Max reward\n",
    "gamma = 0.9   # Discount factor\n",
    "\n",
    "# Value function - determines how good it is to be in each state\n",
    "value = np.zeros(lab.shape)\n",
    "\n",
    "# Policy - determines probability of choosing this state, given its value\n",
    "calc_p_move = lambda x,y: np.exp(5*value[y, x]) if validmove(x,y) else 0\n",
    "\n",
    "# choose direction by softmax of values\n",
    "def makemove(x, y):\n",
    "    moves = [(x-1, y), (x+1, y), (x,y-1), (x,y+1)]\n",
    "    p = np.array([calc_p_move(*move) for move in moves])\n",
    "    p /= np.sum(p)\n",
    "    moveidx = np.random.choice(4, p=p)\n",
    "    return moves[moveidx]\n",
    "\n",
    "x, y = x0, y0\n",
    "reward_times = []\n",
    "for iStep in range(20000):\n",
    "    xnew, ynew = makemove(x, y)\n",
    "    reward_this = R0 * int((x,y) == (xf, yf))\n",
    "    value[y, x] += alpha*(reward_this + gamma * value[ynew, xnew] - value[y, x])\n",
    "    if reward_this > 0:\n",
    "#         print(\"Got reward at step\", iStep)\n",
    "        reward_times += [iStep]\n",
    "        x,y = x0, y0\n",
    "    else:\n",
    "        x,y = xnew, ynew"
   ]
  },
  {
   "cell_type": "code",
   "execution_count": 125,
   "metadata": {},
   "outputs": [
    {
     "data": {
      "image/png": "[encoded data removed]",
      "text/plain": [
       "<Figure size 576x288 with 2 Axes>"
      ]
     },
     "metadata": {
      "needs_background": "light"
     },
     "output_type": "display_data"
    }
   ],
   "source": [
    "reward_delta = [reward_times[i] - reward_times[i-1] for i in range(1, len(reward_times))]\n",
    "\n",
    "fig, ax = plt.subplots(ncols=2, figsize=(8,4))\n",
    "ax[0].imshow(value)\n",
    "ax[1].semilogy(reward_delta)\n",
    "ax[1].set_ylim([1, 1.1*np.max(reward_delta)])\n",
    "ax[0].set_title(\"Value Map\")\n",
    "ax[1].set_title(\"Moves to goal\")\n",
    "ax[1].set_xlabel(\"Trial number\")\n",
    "plt.show()"
   ]
  },
  {
   "cell_type": "code",
   "execution_count": null,
   "metadata": {},
   "outputs": [],
   "source": []
  }
 ],
 "metadata": {
  "kernelspec": {
   "display_name": "Python 3",
   "language": "python",
   "name": "python3"
  },
  "language_info": {
   "codemirror_mode": {
    "name": "ipython",
    "version": 3
   },
   "file_extension": ".py",
   "mimetype": "text/x-python",
   "name": "python",
   "nbconvert_exporter": "python",
   "pygments_lexer": "ipython3",
   "version": "3.7.1"
  }
 },
 "nbformat": 4,
 "nbformat_minor": 1
}

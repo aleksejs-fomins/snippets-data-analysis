{
 "cells": [
  {
   "cell_type": "markdown",
   "metadata": {},
   "source": [
    "# Testing Markov Property\n",
    "\n",
    "Given a sequence of multivariate data, we want to determine if history has predictive power over the present. The question of interest are:\n",
    " 1. Does history length $k+1$ have more predictive power over the present than history length $k$\n",
    " 2. Is there enough data to make reliable statements about the effect of history length $k$\n",
    " 3. Is it possible to test for non-history changes - e.g. changes in observable distribution due to interactions with non-observable objects? Surely, under the assumption that external input is slow/weak/rare compared to observable behaviour.\n",
    " \n",
    "To start, it is necessary to define what predictive power means, and whether the it is at all possible to make conclusive statements in this regard. Concerns are as follows:\n",
    "* The proof of predictive power of length $k$ requires its assumption in the first place - isn't it a chicken and an egg problem?\n",
    "* In case of a discrete distribution, investigation of the full joint probability distribution will reveal all observable combinations of past and present values. If some of the theoretically possible "
   ]
  },
  {
   "cell_type": "code",
   "execution_count": null,
   "metadata": {},
   "outputs": [],
   "source": []
  }
 ],
 "metadata": {
  "kernelspec": {
   "display_name": "Python 3",
   "language": "python",
   "name": "python3"
  },
  "language_info": {
   "codemirror_mode": {
    "name": "ipython",
    "version": 3
   },
   "file_extension": ".py",
   "mimetype": "text/x-python",
   "name": "python",
   "nbconvert_exporter": "python",
   "pygments_lexer": "ipython3",
   "version": "3.7.0"
  }
 },
 "nbformat": 4,
 "nbformat_minor": 2
}

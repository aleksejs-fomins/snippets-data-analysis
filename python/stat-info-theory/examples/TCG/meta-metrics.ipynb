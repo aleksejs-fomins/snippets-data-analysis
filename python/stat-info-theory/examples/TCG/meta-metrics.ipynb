{
 "cells": [
  {
   "cell_type": "markdown",
   "metadata": {},
   "source": [
    "## Deck-Based Meta Analysis\n",
    "In this analysis, the metagame is tested based on how the performance of different decks compares to each other. Since the total number of possible decks is intractable, clustering is performed over the sample of all played decks, separately for each class. The distance between any two decks is given by the number of cards that are different between the two decks. For clarity, it may be of interest to first filter out only the decks that have significant number of games played. After the clusters are formed and its clear what each deck is trying to do, it may be relevant to filter out all decks that are missing key pieces because owners don't have them.\n",
    "* What algorithm to use for clustering?\n",
    "* How to decide on cutoff?\n",
    "* Can deck popularity and winrate help with clustering?\n",
    "* What about other methods, eg probabilitsic like EM?\n",
    "\n",
    "**Resulting distribution**\n",
    "Having identified a finite number of meta decks, $P[A,B]$ indicates the probability that a random game played between the decks $A$ and $B$ will be won by the deck $A$. The following restrictions apply to the probability distribution\n",
    "<table>\n",
    "    <tr><td>$P[A,B] \\in [0, 1]$</td></tr>\n",
    "    <tr><td>$P[A,A] = 0.5 \\; \\forall \\; A$</td></tr>\n",
    "    <tr><td>$P[A,B] + P[B,A] = 1$</td></tr>\n",
    "</table>\n",
    "In other words, the upper-triangular matrix $U$ are $\\frac{n(n-1)}{2}$ independent numbers between 0 and 1, the lower-triangular matrix is $L = 1-U^T$, and the diagonal $D = 0.5 \\cdot \\mathbb{1}$. Also, the average winning probability of a deck $P[A] = \\sum_B P[A,B] F[A,B]$, where $F[A,B]$ is the relative number of matchups involving the decks $A$ and $B$ compared to all matchups.\n",
    "\n",
    "* ABSOLUTE_WR\t::: If for some A [avg_B(wr(A->B)) >> 0.5]\t\t=> Bad, Fatalism, one deck too strong\n",
    "* POLARITY\t::: If avg_{AB} |wr(deck_A->deck_B) - 0.5| >> 0\t\t=> Bad, Fatalism, rock-paper-scissors\n",
    "\n",
    "\n",
    "## Play-Based Meta Analysis\n",
    "\n",
    "* Multimodality ::: For 1 deck, consider winrate of 1 player as a datapoint. Compared to binomial distribution, there might be subsets of people with higher than expected winrate => Good, if indicates skill. Bad, if indicates cheating\n",
    "* Buchholz ::: Sum of scores of all players you have won against. Winning a game against stronger people should be harder than against a weaker one."
   ]
  },
  {
   "cell_type": "code",
   "execution_count": null,
   "metadata": {},
   "outputs": [],
   "source": []
  }
 ],
 "metadata": {
  "kernelspec": {
   "display_name": "Python 3",
   "language": "python",
   "name": "python3"
  },
  "language_info": {
   "codemirror_mode": {
    "name": "ipython",
    "version": 3
   },
   "file_extension": ".py",
   "mimetype": "text/x-python",
   "name": "python",
   "nbconvert_exporter": "python",
   "pygments_lexer": "ipython3",
   "version": "3.6.4"
  }
 },
 "nbformat": 4,
 "nbformat_minor": 2
}

{
 "cells": [
  {
   "cell_type": "markdown",
   "metadata": {},
   "source": [
    "# Regularization\n",
    "\n",
    "Consider a linear model: $y = \\vec{a} \\cdot \\vec{x} + \\epsilon$, where $\\epsilon \\sim \\mathcal{N}(0, \\sigma^2)$\n",
    "\n",
    "### MLE - L2 minimization\n",
    "\n",
    "$$L^2 = -\\log \\mathcal{L} = -\\sum_i \\log P[y_i | \\vec{a}] = \\frac{1}{2\\sigma^2} \\sum_i (y_i - f(x_i))^2 + \\mathrm{const} \\rightarrow \\min$$\n",
    "\n",
    "$$\\partial_{a_k} L^2 = 0 = \\sum_i (y_i - f(\\vec{x}_i))x_{ik} = X^T \\vec{y} - (X^T X) \\vec{a}$$\n",
    "\n",
    "$$\\vec{a}_{MLE} = (X^T X)^{-1} X^T \\vec{y}$$\n",
    "\n",
    "### Information Criteria\n",
    "\n",
    "$AIC = 2p - 2\\log \\mathcal{L}$\n",
    "\n",
    "$AICc = AIC + \\frac{2k^2 + 2k}{n-k-1}$\n",
    "\n",
    "$BIC = p \\log N - 2 \\log \\mathcal{L}$\n",
    "\n",
    "The criteria above produce the same estimate $\\vec{a}_{MLE}$ for a given model. However, the absolute value of the goodness-of-fit will be punished based on the number of parameters $p$. Thus, there will be an optimal number of parameters balancing between goodness of fit and parameter penalty. For large amounts of data their results are comparable, for small $AICc$ is superior.\n",
    "\n",
    "### Bayesian Model Selection - Via Model Evidence\n",
    "\n",
    "$ME = p[D] = \\int P[D | \\theta] P[\\theta] d\\theta$\n",
    "\n",
    "Under assumption of uniform prior over models, the probability of the model is just a normalized model evidence\n",
    "\n",
    "$p[m|D] = \\frac{P[D|m]}{\\sum_i P[D|m_i]}$\n",
    "\n",
    "Model evidence is typically hard to compute - lower-bound by negative free energy\n",
    "\n",
    "$F(P, Q) = \\langle P[D|\\theta] \\rangle_Q - KL\\{Q[\\theta]||p[\\theta]\\}$"
   ]
  },
  {
   "cell_type": "code",
   "execution_count": null,
   "metadata": {},
   "outputs": [],
   "source": []
  }
 ],
 "metadata": {
  "kernelspec": {
   "display_name": "Python 3",
   "language": "python",
   "name": "python3"
  },
  "language_info": {
   "codemirror_mode": {
    "name": "ipython",
    "version": 3
   },
   "file_extension": ".py",
   "mimetype": "text/x-python",
   "name": "python",
   "nbconvert_exporter": "python",
   "pygments_lexer": "ipython3",
   "version": "3.7.0"
  }
 },
 "nbformat": 4,
 "nbformat_minor": 2
}

{
 "cells": [
  {
   "cell_type": "markdown",
   "metadata": {},
   "source": [
    "![title](http://neo.readthedocs.io/en/latest/_images/neologo.png)"
   ]
  },
  {
   "cell_type": "markdown",
   "metadata": {},
   "source": [
    "Content taken from http://neo.readthedocs.io/en/latest/"
   ]
  },
  {
   "cell_type": "markdown",
   "metadata": {},
   "source": [
    "Neo is a Python package for working with electrophysiology data in Python, together with support for reading a wide range of neurophysiology file formats, including Spike2, NeuroExplorer, AlphaOmega, Axon, Blackrock, Plexon, Tdt, Igor Pro, and support for writing to a subset of these formats plus non-proprietary formats including Kwik and HDF5.@@\n",
    "\n",
    "The goal of Neo is to improve interoperability between Python tools for analyzing, visualizing and generating electrophysiology data, by providing a common, shared object model. In order to be as lightweight a dependency as possible, Neo is deliberately limited to represention of data, with no functions for data analysis or visualization.\n",
    "\n",
    "Neo is used by a number of other software tools, including SpykeViewer (data analysis and visualization), Elephant (data analysis), the G-node suite (databasing), PyNN (simulations), tridesclous (spike sorting) and ephyviewer (data visualization). OpenElectrophy (data analysis and visualization) used an older version of Neo.\n",
    "\n",
    "Neo implements a hierarchical data model well adapted to intracellular and extracellular electrophysiology and EEG data with support for multi-electrodes (for example tetrodes). Neo’s data objects build on the quantities package, which in turn builds on NumPy by adding support for physical dimensions. Thus Neo objects behave just like normal NumPy arrays, but with additional metadata, checks for dimensional consistency and automatic unit conversion.\n",
    "\n",
    "A project with similar aims but for neuroimaging file formats is NiBabel.\n",
    "\n",
    "To cite Neo in publications, please use:\n",
    "\n",
    "Garcia S., Guarino D., Jaillet F., Jennings T.R., Pröpper R., Rautenberg P.L., Rodgers C., Sobolev A.,Wachtler T., Yger P. and Davison A.P. (2014) Neo: an object model for handling electrophysiology data in multiple formats. Frontiers in Neuroinformatics 8:10: doi:10.3389/fninf.2014.00010\n"
   ]
  },
  {
   "cell_type": "markdown",
   "metadata": {},
   "source": [
    "# Installation"
   ]
  },
  {
   "cell_type": "markdown",
   "metadata": {},
   "source": [
    "This notebook requires both the Neo and Elephant modules (which are not installed by default on your virtual machines). To install it, issue in the terminal:\n",
    "    \n",
    "    pip install neo --user\n",
    "    pip install elephant --user\n",
    "\n",
    "These packages can also be installed from their github sources (past and development versions).\n",
    "To install the latest version of Neo from the Git repository:\n",
    "\n",
    "    cd ~/sources\n",
    "    git clone git://github.com/NeuralEnsemble/python-neo.git\n",
    "    cd python-neo\n",
    "    python setup.py install --user\n",
    "\n",
    "To install the latest version of Elephant from the Git repository:\n",
    "\n",
    "    cd ~/sources\n",
    "    git clone git://github.com/NeuralEnsemble/elephant.git\n",
    "    cd elephant\n",
    "    python setup.py install --user\n"
   ]
  },
  {
   "cell_type": "markdown",
   "metadata": {},
   "source": [
    "# Neo datatypes"
   ]
  },
  {
   "cell_type": "markdown",
   "metadata": {},
   "source": [
    "![title](http://neo.readthedocs.io/en/latest/_images/base_schematic.png)"
   ]
  },
  {
   "cell_type": "markdown",
   "metadata": {},
   "source": [
    "## Data objects\n",
    "\n",
    "These objects directly represent data as arrays of numerical values with\n",
    "associated metadata (units, sampling frequency, etc.).\n",
    "\n",
    "  * `AnalogSignal`: A regular sampling of a single- or multi-channel continuous analog signal.\n",
    "  * `IrregularlySampledSignal`: A non-regular sampling of a single- or multi-channel continuous analog signal.\n",
    "  * `SpikeTrain`: A set of action potentials (spikes) emitted by the same unit in a period of time (with optional waveforms).\n",
    "  * `Event`: An array of time points representing one or more events in the data.\n",
    "  * `Epoch`: An array of time intervals representing one or more periods of time in the data.\n",
    "\n",
    "\n",
    "## Container objects\n",
    "-----------------\n",
    "\n",
    "There is a simple hierarchy of containers:\n",
    "\n",
    "  * `Segment`: A container for heterogeneous discrete or continous data sharing a common\n",
    "    clock (time basis) but not necessarily the same sampling rate, start time or end time.\n",
    "    A `Segment` can be considered as equivalent to a \"trial\", \"episode\", \"run\",\n",
    "    \"recording\", etc., depending on the experimental context.\n",
    "    May contain any of the data objects.\n",
    "  * `Block`: The top-level container gathering all of the data, discrete and continuous,\n",
    "    for a given recording session.\n",
    "    Contains `Segment`, `Unit` and `ChannelIndex` objects.\n",
    "\n",
    "\n",
    "## Grouping objects\n",
    "\n",
    "These objects express the relationships between data items, such as which signals\n",
    "were recorded on which electrodes, which spike trains were obtained from which\n",
    "membrane potential signals, etc. They contain references to data objects that\n",
    "cut across the simple container hierarchy.\n",
    "\n",
    "  * `ChannelIndex`: A set of indices into `AnalogSignal` objects,\n",
    "    representing logical and/or physical recording channels. This has two uses:\n",
    "\n",
    "      1. for linking `AnalogSignal` objects recorded from the same (multi)electrode\n",
    "         across several `Segment`\\s.\n",
    "      2. for spike sorting of extracellular signals, where spikes may be recorded on more than one\n",
    "         recording channel, and the `ChannelIndex` can be used to associate each\n",
    "         `Unit` with the group of recording channels from which it was obtained.\n",
    "\n",
    "  * `Unit`: links the `SpikeTrain` objects within a `Block`,\n",
    "    possibly across multiple Segments, that were emitted by the same cell.\n",
    "    A `Unit` is linked to the `ChannelIndex` object from which the spikes were detected.\n",
    "\n",
    "\n",
    "## NumPy compatibility\n",
    "\n",
    "Neo data objects inherit from `Quantity`, which in turn inherits from NumPy\n",
    "`ndarray`. This means that a Neo `AnalogSignal` is also a `Quantity`\n",
    "and an array, giving you access to all of the methods available for those objects.\n",
    "\n",
    "For example, you can pass a `SpikeTrain` directly to the `numpy.histogram`\n",
    "function, or an `AnalogSignal` directly to the `numpy.std` function.\n",
    "\n",
    "If you want to get a numpy.ndarray you use magnitude and rescale from quantities:\n",
    "\n",
    "    >>> np_sig = neo_analogsignal.rescale('mV').magnitude\n",
    "    >>> np_times = neo_analogsignal.times.rescale('s').magnitude"
   ]
  },
  {
   "cell_type": "markdown",
   "metadata": {},
   "source": [
    "# Example"
   ]
  },
  {
   "cell_type": "code",
   "execution_count": null,
   "metadata": {},
   "outputs": [],
   "source": [
    "# -*- coding: utf-8 -*-\n",
    "\"\"\"\n",
    "This is an example for reading files with neo.io\n",
    "\"\"\"\n",
    "\n",
    "import urllib\n",
    "import numpy as np\n",
    "import neo\n",
    "\n",
    "url_repo = 'https://web.gin.g-node.org/NeuralEnsemble/ephy_testing_data/raw/master/'\n",
    "\n",
    "# Plexon files\n",
    "distantfile = url_repo + 'plexon/File_plexon_3.plx'\n",
    "localfile = './File_plexon_3.plx'\n",
    "urllib.request.urlretrieve(distantfile, localfile)"
   ]
  },
  {
   "cell_type": "code",
   "execution_count": null,
   "metadata": {},
   "outputs": [],
   "source": [
    "# create a reader\n",
    "reader = neo.io.PlexonIO(filename='File_plexon_3.plx')\n",
    "# read the blocks\n",
    "blks = reader.read(lazy=False)\n",
    "print(blks)"
   ]
  },
  {
   "cell_type": "code",
   "execution_count": null,
   "metadata": {},
   "outputs": [],
   "source": [
    "# access to segments\n",
    "for blk in blks:\n",
    "    for seg in blk.segments:\n",
    "        print(seg)\n",
    "        #for asig in seg.analogsignals:\n",
    "        #    print(asig)\n",
    "        #for st in seg.spiketrains:\n",
    "        #    print(st)"
   ]
  },
  {
   "cell_type": "code",
   "execution_count": null,
   "metadata": {
    "scrolled": true
   },
   "outputs": [],
   "source": [
    "# plotting example\n",
    "%matplotlib inline\n",
    "import matplotlib.pyplot as plt\n",
    "for blk in blks:\n",
    "    fig = plt.figure()\n",
    "    fig.suptitle(blk)\n",
    "    ax0 = fig.add_subplot(2,1,1)\n",
    "    ax1 = fig.add_subplot(2,1,2, sharex=ax0)\n",
    "    for seg in blk.segments:\n",
    "        for asig in seg.analogsignals:\n",
    "            ax0.plot(asig.times.rescale('s').magnitude, \n",
    "                     asig.magnitude)\n",
    "        \n",
    "        for i, st in enumerate(seg.spiketrains):\n",
    "            ax1.plot(st.times.rescale('s').magnitude, \n",
    "                     i*np.ones(st.size), '|')\n"
   ]
  },
  {
   "cell_type": "markdown",
   "metadata": {},
   "source": [
    "# Neo IO\n",
    "\n",
    "## Preamble\n",
    "\n",
    "\n",
    "The Neo `io` module aims to provide an exhaustive way of loading and saving several widely used data formats in electrophysiology.\n",
    "The more these heterogeneous formats are supported, the easier it will be to manipulate them as Neo objects in a similar way.\n",
    "Therefore the IO set of classes propose a simple and flexible IO API that fits many format specifications.\n",
    "It is not only file-oriented, it can also read/write objects from a database.\n",
    "\n",
    "At the moment, there are 3 families of IO modules:\n",
    "    1. for reading closed manufacturers' formats (Spike2, Plexon, AlphaOmega, BlackRock, Axon, ...)\n",
    "    2. for reading(/writing) formats from open source tools (KlustaKwik, Elan, WinEdr, WinWcp, PyNN, ...)\n",
    "    3. for reading/writing Neo structure in neutral formats (HDF5, .mat, ...) but with Neo structure inside (NeoHDF5, NeoMatlab, ...)\n",
    "\n",
    "Combining **1** for reading and **3** for writing is a good example of use: converting your datasets\n",
    "to a more standard format when you want to share/collaborate.\n",
    "\n",
    "\n",
    "## Introduction\n",
    "\n",
    "There is an intrinsic structure in the different Neo objects, that could be seen as a hierachy with cross-links. See `core`.\n",
    "The highest level object is the `Block` object, which is the high level container able to encapsulate all the others.\n",
    "\n",
    "A `Block` has therefore a list of `Segment` objects, that can, in some file formats, be accessed individually.\n",
    "Depending on the file format, i.e. if it is streamable or not, the whole `Block` may need to be loaded, but sometimes\n",
    "particular `Segment` objects can be accessed individually.\n",
    "Within a `Segment`, the same hierarchical organisation applies.\n",
    "A `Segment` embeds several objects, such as `SpikeTrain`,\n",
    "`AnalogSignal`, `IrregularlySampledSignal`, `Epoch`, `Event`\n",
    "(basically, all the different Neo objects).\n",
    "\n",
    "Depending on the file format, these objects can sometimes be loaded separately, without the need to load the whole file.\n",
    "If possible, a file IO therefore provides distinct methods allowing to load only particular objects that may be present in the file.\n",
    "The basic idea of each IO file format is to have, as much as possible, read/write methods for the individual encapsulated objects,\n",
    "and otherwise to provide a read/write method that will return the object at the highest level of hierarchy\n",
    "(by default, a `Block` or a `Segment`).\n",
    "\n",
    "The :mod:`neo.io` API is a balance between full flexibility for the user (all `read_XXX` methods are enabled)\n",
    "and simple, clean and understandable code for the developer (few `read_XXX` methods are enabled).\n",
    "This means that not all IOs offer the full flexibility for partial reading of data files.\n",
    "\n",
    "\n",
    "## One format = one class\n",
    "The basic syntax is as follows. If you want to load a file format that is implemented in a generic `MyFormatIO` class:\n",
    "\n",
    "    >>> from neo.io import MyFormatIO\n",
    "    >>> reader = MyFormatIO(filename=\"myfile.dat\")\n",
    "\n",
    "you can replace `MyFormatIO` by any implemented class, see `list_of_io`\n",
    "\n",
    "## Modes\n",
    "\n",
    "IO can be based on a single file, a directory containing files, or a database.\n",
    "This is described in the `mode` attribute of the IO class:\n",
    "\n",
    "    >>> from neo.io import MyFormatIO\n",
    "    >>> print MyFormatIO.mode\n",
    "    'file'\n",
    "\n",
    "\n",
    "For *file* mode the *filename* keyword argument is necessary.\n",
    "For *directory* mode the *dirname* keyword argument is necessary.\n",
    "\n",
    "Ex:\n",
    "\n",
    "    >>> reader = io.PlexonIO(filename='File_plexon_1.plx')\n",
    "    >>> reader = io.TdtIO(dirname='aep_05')\n",
    "\n",
    "\n",
    "## Supported objects/readable objects\n",
    "\n",
    "To know what types of object are supported by a given IO interface:\n",
    "\n",
    "    >>> MyFormatIO.supported_objects\n",
    "    [Segment , AnalogSignal , SpikeTrain, Event, Spike]\n",
    "\n",
    "Supported objects does not mean objects that you can read directly. For instance, many formats support `AnalogSignal`\n",
    "but don't allow them to be loaded directly, rather to access the `AnalogSignal` objects, you must read a `Segment`:\n",
    "\n",
    "    >>> seg = reader.read_segment()\n",
    "    >>> print(seg.analogsignals)\n",
    "    >>> print(seg.analogsignals[0])\n",
    "\n",
    "To get a list of directly readable objects:\n",
    "\n",
    "    >>> MyFormatIO.readable_objects\n",
    "    [Segment]\n",
    "\n",
    "The first element of the previous list is the highest level for reading the file. This mean that the IO has a `read_segment` method:\n",
    "\n",
    "    >>> seg = reader.read_segment()\n",
    "    >>> type(seg)\n",
    "    neo.core.Segment\n",
    "\n",
    "\n",
    "All IOs have a read() method that returns a list of `Block` objects (representing the whole content of the file):\n",
    "\n",
    "    >>> bl = reader.read()\n",
    "    >>> print bl[0].segments[0]\n",
    "    neo.core.Segment\n"
   ]
  },
  {
   "cell_type": "markdown",
   "metadata": {},
   "source": [
    "## Implemented IO functions"
   ]
  },
  {
   "cell_type": "code",
   "execution_count": null,
   "metadata": {},
   "outputs": [],
   "source": [
    "dir(neo.io)"
   ]
  },
  {
   "cell_type": "code",
   "execution_count": null,
   "metadata": {},
   "outputs": [],
   "source": []
  }
 ],
 "metadata": {
  "kernelspec": {
   "display_name": "Python 3",
   "language": "python",
   "name": "python3"
  },
  "language_info": {
   "codemirror_mode": {
    "name": "ipython",
    "version": 3
   },
   "file_extension": ".py",
   "mimetype": "text/x-python",
   "name": "python",
   "nbconvert_exporter": "python",
   "pygments_lexer": "ipython3",
   "version": "3.4.8"
  }
 },
 "nbformat": 4,
 "nbformat_minor": 2
}

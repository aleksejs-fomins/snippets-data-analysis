{
 "cells": [
  {
   "cell_type": "code",
   "execution_count": 52,
   "metadata": {},
   "outputs": [],
   "source": [
    "import numpy as np\n",
    "from time import time\n",
    "from joblib import Parallel, delayed\n",
    "\n",
    "import numba\n",
    "from numba import jit"
   ]
  },
  {
   "cell_type": "code",
   "execution_count": 62,
   "metadata": {},
   "outputs": [
    {
     "name": "stdout",
     "output_type": "stream",
     "text": [
      "366 µs ± 2.55 µs per loop (mean ± std. dev. of 7 runs, 1000 loops each)\n",
      "Serial time 3.3286476135253906\n"
     ]
    }
   ],
   "source": [
    "def very_math(x):\n",
    "     return np.sum([np.sin(np.log(i)*x) for i in range(2, 200)], axis=0)\n",
    "    \n",
    "data = np.linspace(0, 1, 10000)\n",
    "\n",
    "def do_job_serial(data):\n",
    "    N = data.shape[0]\n",
    "    rez = np.zeros(N)\n",
    "    for j in range(N):\n",
    "        rez[j] = very_math(data[j])\n",
    "    return rez\n",
    "\n",
    "%timeit very_math(1)\n",
    "\n",
    "t = time()\n",
    "results_serial = do_job_serial(data)\n",
    "print(\"Serial time\", time()-t)"
   ]
  },
  {
   "cell_type": "markdown",
   "metadata": {},
   "source": [
    "## Joblib\n",
    "\n",
    "AKA complete junk"
   ]
  },
  {
   "cell_type": "code",
   "execution_count": 50,
   "metadata": {},
   "outputs": [
    {
     "name": "stdout",
     "output_type": "stream",
     "text": [
      "Parallel time 6.15205192565918\n",
      "Difference: 0.0\n"
     ]
    }
   ],
   "source": [
    "t = time()\n",
    "results_joblib = Parallel(n_jobs=-1, backend=\"threading\")(map(delayed(very_math), data))\n",
    "print(\"Parallel time\", time()-t)\n",
    "\n",
    "print(\"Difference:\", np.linalg.norm(results_joblib-results_serial))"
   ]
  },
  {
   "cell_type": "markdown",
   "metadata": {},
   "source": [
    "## Numba\n",
    "\n",
    "It works! Just need to convert all functions to numba, and avoid using lists."
   ]
  },
  {
   "cell_type": "code",
   "execution_count": 65,
   "metadata": {},
   "outputs": [
    {
     "name": "stdout",
     "output_type": "stream",
     "text": [
      "6.99 µs ± 130 ns per loop (mean ± std. dev. of 7 runs, 100000 loops each)\n",
      "Parallel time 0.14512038230895996\n",
      "Difference: 4.851862508105707e-12\n"
     ]
    }
   ],
   "source": [
    "@jit(nopython=True)\n",
    "def very_math_numba(x):\n",
    "    rez = 0\n",
    "    for i in range(2, 200):\n",
    "        rez += np.sin(np.log(i)*x)\n",
    "    return rez\n",
    "    \n",
    "@jit(nopython=True)\n",
    "def do_job_numba(data):\n",
    "    N = data.shape[0]\n",
    "    rez = np.zeros(N)\n",
    "    for j in range(N):\n",
    "        rez[j] = very_math_numba(data[j])\n",
    "    return rez\n",
    "    \n",
    "%timeit very_math_numba(1)\n",
    "    \n",
    "t = time()\n",
    "results_numba = do_job_numba(data)\n",
    "print(\"Parallel time\", time()-t)\n",
    "\n",
    "print(\"Difference:\", np.linalg.norm(results_numba-results_serial))"
   ]
  },
  {
   "cell_type": "code",
   "execution_count": 53,
   "metadata": {},
   "outputs": [
    {
     "name": "stdout",
     "output_type": "stream",
     "text": [
      "0.42.0\n"
     ]
    }
   ],
   "source": [
    "print(numba.__version__)"
   ]
  },
  {
   "cell_type": "code",
   "execution_count": null,
   "metadata": {},
   "outputs": [],
   "source": []
  }
 ],
 "metadata": {
  "kernelspec": {
   "display_name": "Python 3",
   "language": "python",
   "name": "python3"
  },
  "language_info": {
   "codemirror_mode": {
    "name": "ipython",
    "version": 3
   },
   "file_extension": ".py",
   "mimetype": "text/x-python",
   "name": "python",
   "nbconvert_exporter": "python",
   "pygments_lexer": "ipython3",
   "version": "3.6.4"
  }
 },
 "nbformat": 4,
 "nbformat_minor": 2
}

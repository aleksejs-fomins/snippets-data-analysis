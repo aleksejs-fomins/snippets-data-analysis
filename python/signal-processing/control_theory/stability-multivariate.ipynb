{
 "cells": [
  {
   "cell_type": "markdown",
   "metadata": {},
   "source": [
    "**TODO**:\n",
    "* Write up LQR\n",
    "* What to do if some DOF are implicit? That is, if sensors measure only one variable, but not all?"
   ]
  },
  {
   "cell_type": "markdown",
   "metadata": {},
   "source": [
    "# 1. Stability Of Dynamical System with No Input\n",
    "\n",
    "### Discrete Case\n",
    "Consider a multivariate discrete dynamical system\n",
    "\n",
    "$$x_{t+1} = M x_t$$\n",
    "\n",
    "We want to determine if this system is stable. After n iterations, the system will evolve to the state $x_n = M^n x_1$. If $M$ is diagonalizable, this is equivalent to $x_n = U^T D^n U x_1$. The dynamics is stable, if no diagonal entry explodes over time, namely\n",
    "\n",
    "$$\\lim_{n \\rightarrow \\infty} D_{ii}^n = \\lim_{n \\rightarrow \\infty} \\lambda_i^n = \\lim_{n \\rightarrow \\infty} r_i^n e^{j\\phi_i n} < \\infty, \\forall i$$\n",
    "\n",
    "This expression holds if the spectral radius is smaller than 1\n",
    "$$\\rho(M) = \\max_i |\\lambda_i| = \\max_i r_i < 1$$\n",
    "\n",
    "### Continuous case\n",
    "\n",
    "In this case the the dynamics can be written as \n",
    "\n",
    "$$\\dot{x} = Ax$$\n",
    "\n",
    "By applying diagonalization $A = U^T D U$ and selecting $z = Ux$, the equation can be integrated to yield\n",
    "\n",
    "$$z_i(t) = ke^{\\lambda_i t}$$\n",
    "\n",
    "Same as before, stability can be ensured if the exponent does not explode, namely, if\n",
    "\n",
    "$$\\mathbb{Re}\\{\\lambda_i\\} < 0$$\n",
    "\n",
    "### Equivalence\n",
    "\n",
    "The continuous criterion can be shown to be equivalent to the limit of the discrete criterion. Using first order time-difference, the continuous equation can be written as\n",
    "\n",
    "$$x(t+dt) = (I + Adt)x(t) = Mx(t)$$\n",
    "\n",
    "We will use the diagonalization of $A$ to find the diagonalization of $M$\n",
    "\n",
    "$$M = I + Adt = I + U^T D U dt = U^T U + U^T D U dt = U^T (I + Ddt) U$$\n",
    "\n",
    "Thus, we find the relationship between eigenvalues\n",
    "\n",
    "$$\\lambda^M_i = 1 + \\lambda^A_i dt$$\n",
    "\n",
    "And can find what we need from the absolute value of $\\lambda_M$\n",
    "\n",
    "$$|\\lambda^M_i| = (1 + \\mathbb{Re}\\{\\lambda^A_i\\} dt)^2 + (\\mathbb{Im}\\{\\lambda^A_i\\} dt)^2 = 1 + 2\\mathbb{Re}\\{\\lambda^A_i\\} dt + O(dt^2)$$"
   ]
  },
  {
   "cell_type": "code",
   "execution_count": 14,
   "metadata": {},
   "outputs": [
    {
     "data": {
      "image/png": "[encoded data removed]",
      "text/plain": [
       "<matplotlib.figure.Figure at 0x7faae1503748>"
      ]
     },
     "metadata": {},
     "output_type": "display_data"
    }
   ],
   "source": [
    "import numpy as np\n",
    "import matplotlib.pyplot as plt\n",
    "\n",
    "DIM = 5\n",
    "DT = 0.01\n",
    "\n",
    "A = np.random.uniform(-1, 1, DIM**2).reshape((DIM,DIM))\n",
    "e,v = np.linalg.eig(A)\n",
    "\n",
    "A_DISCR = A * DT + np.diag(np.ones(DIM))\n",
    "ed,vd = np.linalg.eig(A_DISCR)\n",
    "\n",
    "fig, ax = plt.subplots(ncols=2, figsize=(10,5))\n",
    "ax[0].plot(np.real(e), np.imag(e), '.')\n",
    "ax[1].plot(np.real(ed), np.imag(ed), '.')\n",
    "ax[0].set_title(\"Eigenvalues of continuous system\")\n",
    "ax[1].set_title(\"Eigenvalues of related discrete system using dt=\" + str(DT))\n",
    "plt.show()"
   ]
  },
  {
   "cell_type": "markdown",
   "metadata": {
    "collapsed": true
   },
   "source": [
    "# 2. Stability Of Closed-Loop System with No Input\n",
    "\n",
    "Task: Select linear feedback to achieve some desired properties\n",
    "\n",
    "$$\\dot{x} = Ax + Bu = Ax - BKx = (A-BK)x$$\n",
    "\n",
    "**Theorem**: The following are equivalent:\n",
    "* System is controllable: $rank(B; AB; A^2B; ...; A^{n-1} B) = n$, where $n = dim(x)$\n",
    "* Arbitrary eigenvalue placement: $\\exists K$, s.t, $\\{e_i\\} = eig(A-BK), \\forall \\{e_i\\}$\n",
    "* Given right input, all points of the domain are reachable by $x$\n",
    "\n",
    "Note that magnitude of optimal $K$ gigantic, which may be unrealistic\n",
    "\n",
    "**Stabilizability**: Even if system is not fully controllable, of interest is if it is controllable in the dimensions where it is unstable or weakly stable."
   ]
  },
  {
   "cell_type": "code",
   "execution_count": 12,
   "metadata": {},
   "outputs": [
    {
     "name": "stdout",
     "output_type": "stream",
     "text": [
      "Original eigenvalues were\n",
      " [[-1.55993295+0.j        ]\n",
      " [-0.90186128+0.j        ]\n",
      " [-0.05295483-0.92408889j]\n",
      " [-0.05295483+0.92408889j]\n",
      " [ 0.82484226+0.j        ]]\n",
      "----------------------------- \n",
      "Testing if matrix is controllable:  True\n",
      "Singular values of controllability:  [10.40286294  3.54037571  2.61848182  2.06831405  1.61429036]\n",
      "----------------------------- \n",
      "Target eigenvalues were\n",
      " [[-0.7+0.j]\n",
      " [-0.5-1.j]\n",
      " [-0.5+1.j]\n",
      " [-0.2-1.j]\n",
      " [-0.2+1.j]]\n",
      "Resulting eigenvalues were\n",
      " [[-0.7+0.j]\n",
      " [-0.5-1.j]\n",
      " [-0.5+1.j]\n",
      " [-0.2-1.j]\n",
      " [-0.2+1.j]]\n",
      "Norms of the matices are 2.911682186623946 2.776154848303405 8.127240809846057\n"
     ]
    },
    {
     "data": {
      "image/png": "[encoded data removed]",
      "text/plain": [
       "<matplotlib.figure.Figure at 0x7faae144d160>"
      ]
     },
     "metadata": {},
     "output_type": "display_data"
    }
   ],
   "source": [
    "import numpy as np\n",
    "import matplotlib.pyplot as plt\n",
    "import scipy\n",
    "from scipy import signal\n",
    "import control\n",
    "\n",
    "DIM = 5\n",
    "\n",
    "# Construct arbitrary matrix A and find its eigenvalues\n",
    "A = np.random.uniform(-1, 1, DIM**2).reshape((DIM,DIM))\n",
    "e1,v1 = np.linalg.eig(A)\n",
    "print(\"Original eigenvalues were\\n\", np.sort(e1)[:,None])\n",
    "\n",
    "# Now assume that our Dynamical system is of the form x' = Ax + Bu, where u is input\n",
    "B = np.random.uniform(-1, 1, DIM**2).reshape((DIM,DIM))\n",
    "\n",
    "# Check if the system is controllable\n",
    "C = control.ctrb(A, B)\n",
    "print(\"----------------------------- \")\n",
    "print(\"Testing if matrix is controllable: \", np.linalg.matrix_rank(C) == DIM)\n",
    "print(\"Singular values of controllability: \", np.linalg.svd(C, compute_uv=False))\n",
    "print(\"----------------------------- \")\n",
    "\n",
    "# We want to find a feedback matrix K, such that the eigenvalues are placed at arbitrary new locations\n",
    "e_target = np.array([-0.7, -0.5 + 1j, -0.5 - 1j, -0.2 + 1j, -0.2 - 1j])\n",
    "print(\"Target eigenvalues were\\n\", np.sort(e_target)[:,None])\n",
    "\n",
    "fsf1 = scipy.signal.place_poles(A, B, e_target)\n",
    "K = fsf1.gain_matrix\n",
    "Anew = A - B.dot(K)\n",
    "e2,v2 = np.linalg.eig(Anew)\n",
    "print(\"Resulting eigenvalues were\\n\", np.sort(e2)[:,None])\n",
    "\n",
    "print(\"Norms of the matices are\", np.linalg.norm(A, np.inf), np.linalg.norm(B, np.inf), np.linalg.norm(K, np.inf))\n",
    "\n",
    "plt.figure()\n",
    "plt.plot(np.real(e1), np.imag(e1), '.', label='original')\n",
    "plt.plot(np.real(e_target), np.imag(e_target), '.', label='target')\n",
    "plt.plot(np.real(e2), np.imag(e2), '.', label='final')\n",
    "plt.legend()\n",
    "plt.show()"
   ]
  },
  {
   "cell_type": "code",
   "execution_count": null,
   "metadata": {
    "collapsed": true
   },
   "outputs": [],
   "source": []
  }
 ],
 "metadata": {
  "kernelspec": {
   "display_name": "Python3.6",
   "language": "python",
   "name": "py36"
  },
  "language_info": {
   "codemirror_mode": {
    "name": "ipython",
    "version": 3
   },
   "file_extension": ".py",
   "mimetype": "text/x-python",
   "name": "python",
   "nbconvert_exporter": "python",
   "pygments_lexer": "ipython3",
   "version": "3.6.8"
  }
 },
 "nbformat": 4,
 "nbformat_minor": 2
}

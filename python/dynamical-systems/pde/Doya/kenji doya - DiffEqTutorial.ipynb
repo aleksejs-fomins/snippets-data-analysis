{
 "cells": [
  {
   "cell_type": "markdown",
   "metadata": {},
   "source": [
    "### OCNC 2018 Introductory Session for Biologists:\n",
    "# Numerical Methods for Differential Equations\n",
    "2018.6.25 by Kenji Doya"
   ]
  },
  {
   "cell_type": "markdown",
   "metadata": {},
   "source": [
    "## Contents\n",
    "* What is a differential equation\n",
    "* Euler method\n",
    "* `ode()` fuction in `scipy`\n",
    "* Stability and eigenvalus\n",
    "* Hodgkin-Huxley neuron model\n",
    "\n",
    "\n",
    "* Partial differential equations\n",
    "    * cable equation\n",
    "    * Hodgkin-Huxley axon\n",
    "\n",
    "## References\n",
    "* Stephen Wiggins: Introduction to Applied Nonlinear Dynamical Systems and Chaos, 2nd ed., Springer (2003).\n",
    "* [Scipy Lecture Notes](http://www.scipy-lectures.org): Section 1.5.7 Numerical Integration"
   ]
  },
  {
   "cell_type": "markdown",
   "metadata": {},
   "source": [
    "## What is a differential equation\n",
    "A *differential equation* is an equation that includes a derivative $df(x)/dx$ of a function $f(x)$.  \n",
    "\n",
    "If the independent variable $x$ is single, such as time, it is called an *ordinary differential equation (ODE)*.  \n",
    "\n",
    "If there are multiple independent variables, such as space and time, the equation includes *partial derivatives* and called a *partial differential equation (PDE)*.\n",
    "\n",
    "Here we consider ODEs of the form\n",
    "$$ dy/dt = f(y, t) $$\n",
    "which describes the temporal dynamics of a varibale $y$ over time $t$.  It is also called a *continuous-time dynamical system*.\n",
    "\n",
    "Finding the variable $y$ as an explicit function of time $y(t)$ is called *solving* or *integrating* the ODE.  \n",
    "When it is done numerically, it is aslo called *simulating*.\n",
    "\n"
   ]
  },
  {
   "cell_type": "markdown",
   "metadata": {},
   "source": [
    "## Analytic Solutions\n",
    "Solving a differential equation is an inverse problem of differentiation, for which analytic solution may not be available.  \n",
    "\n",
    "The simplest case where analytic solutions are available is *linear* differential equations \n",
    "$$ dy/dt = A y $$\n",
    "where $y$ is a real variable or a real vector, and $A$ is a constant coefficient or matrix.  "
   ]
  },
  {
   "cell_type": "markdown",
   "metadata": {},
   "source": [
    "### Linear ODEs\n",
    "In general, a differential equation can have multiple solutions. \n",
    "\n",
    "For example, for a scalar linear ODE\n",
    "$$ dy/dt = a y, $$\n",
    "the solution is given by\n",
    "$$ y(t) = C e^{at}, $$\n",
    "where $C$ can be any real value.\n",
    "\n",
    "When the value of $y$ at a certain time is specified, the solution becomes unique.  \n",
    "For example, by specifying $y(0)=3$, from $e^{a0}=e^0=1$, we have $C=3$ and a particular solution $y(t)=3e^{at}$."
   ]
  },
  {
   "cell_type": "markdown",
   "metadata": {},
   "source": [
    "For a second-order linear ODE\n",
    "$$ d^2y/dt^2 = -a^2 y, $$ \n",
    "the solution is given by\n",
    "$$ y(t) = C_1 \\sin at + C_2 \\cos at $$\n",
    "where $C_1$ and $C_2$ are determined by spedifying $y$ and $dy/dt$ at certain time."
   ]
  },
  {
   "cell_type": "markdown",
   "metadata": {},
   "source": [
    "### Analytically solvable ODEs\n",
    "Other cases where analytic solutions are well known are:\n",
    "* Time-varying linear: $dy/dt = g(t)y + h(t)$\n",
    "* Separable: $dy/dt = g(t)/h(y(t))$\n",
    "* Other cases that can be reduced to above by change of variables, etc."
   ]
  },
  {
   "cell_type": "code",
   "execution_count": null,
   "metadata": {
    "collapsed": true
   },
   "outputs": [],
   "source": []
  },
  {
   "cell_type": "markdown",
   "metadata": {},
   "source": [
    "## Euler Method\n",
    "The most basic way of sovling an ODE numerically is *Euler Method*.  \n",
    "For an ODE\n",
    "$$ dy/dt = f(y,t) $$\n",
    "with an ititial condition $y(0)=y_0$, the solution is iteratively approximated by\n",
    "$$ y(t+\\Delta t) = y(t) + f(y,t) \\Delta t $$\n",
    "with a small time step $\\Delta t$."
   ]
  },
  {
   "cell_type": "code",
   "execution_count": null,
   "metadata": {
    "collapsed": true
   },
   "outputs": [],
   "source": [
    "# As usual, import numpy and matplotlib\n",
    "import numpy as np\n",
    "import matplotlib.pyplot as plt\n",
    "%matplotlib inline"
   ]
  },
  {
   "cell_type": "code",
   "execution_count": null,
   "metadata": {
    "collapsed": true
   },
   "outputs": [],
   "source": [
    "def euler(f, y0, dt, n, *args):\n",
    "    \"\"\"f: righthand side of ODE dy/dt=f(y,t)\n",
    "        y0: initial condition y(0)=y0\n",
    "        dt: time step\n",
    "        n: iteratons\n",
    "        args: parameter for f(y,t,*args)\"\"\"\n",
    "    d = np.array([y0]).size  ## state dimension\n",
    "    y = np.zeros((n+1, d))\n",
    "    y[0] = y0\n",
    "    t = 0\n",
    "    for k in range(n):\n",
    "        y[k+1] = y[k] + f(y[k], t, *args)*dt\n",
    "        t = t + dt\n",
    "    return(y)"
   ]
  },
  {
   "cell_type": "markdown",
   "metadata": {},
   "source": [
    "Let us test this with a first-order linear ODE."
   ]
  },
  {
   "cell_type": "code",
   "execution_count": null,
   "metadata": {
    "collapsed": true
   },
   "outputs": [],
   "source": [
    "def first(y, t, a):\n",
    "    \"\"\"first-order linear ODE dy/dt = a*y\"\"\"\n",
    "    return(a*y)"
   ]
  },
  {
   "cell_type": "code",
   "execution_count": null,
   "metadata": {},
   "outputs": [],
   "source": [
    "y = euler(first, 1, 0.1, 100, 1)\n",
    "plt.plot(y)"
   ]
  },
  {
   "cell_type": "markdown",
   "metadata": {},
   "source": [
    "A second-order ODE \n",
    "$$ d^2y/dt^2 = a_2 dy/dt + a_1 y + a_0 $$\n",
    "can be converted to a first-order ODE with a 2-dimensional state vector $(y_1, y_2) = (y, dy/dt)$ as \n",
    "$$ dy_1/dt = y_2 $$\n",
    "$$ dy_2/dt = a_2 y_2 + a_1 y_1 + a_0 $$"
   ]
  },
  {
   "cell_type": "code",
   "execution_count": null,
   "metadata": {
    "collapsed": true
   },
   "outputs": [],
   "source": [
    "def second(y, t, a):\n",
    "    \"\"\"second-order linear ODE \"\"\"\n",
    "    y1, y2 = y\n",
    "    return(np.array([y2, a[2]*y2 + a[1]*y1 + a[0]]))"
   ]
  },
  {
   "cell_type": "code",
   "execution_count": null,
   "metadata": {},
   "outputs": [],
   "source": [
    "y = euler(second, [1, 0], 0.01, 1000, [0, -1, 0])\n",
    "plt.plot(y)"
   ]
  },
  {
   "cell_type": "markdown",
   "metadata": {},
   "source": [
    "Let us see how the time step affects the accuracy of the solution."
   ]
  },
  {
   "cell_type": "code",
   "execution_count": null,
   "metadata": {},
   "outputs": [],
   "source": [
    "steps = [0.01, 0.03, 0.1, 0.3, 1]\n",
    "tend = 5\n",
    "a = -1.5\n",
    "for dt in steps:\n",
    "    y = euler(first, 1, dt, int(tend/dt), a)\n",
    "    plt.plot(np.linspace(0, tend, len(y)), y)"
   ]
  },
  {
   "cell_type": "code",
   "execution_count": null,
   "metadata": {
    "collapsed": true
   },
   "outputs": [],
   "source": []
  },
  {
   "cell_type": "markdown",
   "metadata": {},
   "source": [
    "## Scipy's Integrate package\n",
    "For any serious integration, it is better to use a well tested and proven library, such as `odeint()` in `scipy`."
   ]
  },
  {
   "cell_type": "code",
   "execution_count": null,
   "metadata": {
    "collapsed": true
   },
   "outputs": [],
   "source": [
    "from scipy.integrate import odeint"
   ]
  },
  {
   "cell_type": "code",
   "execution_count": null,
   "metadata": {},
   "outputs": [],
   "source": [
    "help(odeint)"
   ]
  },
  {
   "cell_type": "markdown",
   "metadata": {},
   "source": [
    "`odeint()` internally uses adaptive time steps, and returns values of `y` for time points specified in `t` by interpolation.\n",
    "\n",
    "Try with the first order linear equaiton."
   ]
  },
  {
   "cell_type": "code",
   "execution_count": null,
   "metadata": {},
   "outputs": [],
   "source": [
    "t = np.arange(0, 10, 0.1)  # time points\n",
    "y = odeint(first, 1, t, args=(1,))\n",
    "plt.plot(t, y, '+-')"
   ]
  },
  {
   "cell_type": "code",
   "execution_count": null,
   "metadata": {},
   "outputs": [],
   "source": [
    "# If you are interested in details of computing\n",
    "y, info = odeint(first, 1, t, args=(-1,), full_output=1)\n",
    "plt.plot(t, y, '+-')\n",
    "plt.plot(info['tcur'], np.zeros_like(info['tcur']), '+')\n",
    "print(info['mused'])"
   ]
  },
  {
   "cell_type": "markdown",
   "metadata": {},
   "source": [
    "And the second order."
   ]
  },
  {
   "cell_type": "code",
   "execution_count": null,
   "metadata": {},
   "outputs": [],
   "source": [
    "t = np.arange(0,10,0.1)  # time points\n",
    "y = odeint(second, [1, 0], t, args=([0.1, -1, -1],))\n",
    "plt.plot(t, y, '+-')"
   ]
  },
  {
   "cell_type": "code",
   "execution_count": null,
   "metadata": {
    "collapsed": true
   },
   "outputs": [],
   "source": []
  },
  {
   "cell_type": "markdown",
   "metadata": {},
   "source": [
    "## Fixed Point and Stability\n",
    "A point $y$ where $dy/dt=f(y)=0$ is called a *fixed point*.\n",
    "\n",
    "A fixed point is characterized by its *stability*:\n",
    "* Stable\n",
    "    - Attractor\n",
    "    ![attractor](figures/attractor.png)\n",
    "    - Neutrally stable\n",
    "    <img src=\"figures/neutral.png\" width=\"250\">\n",
    "* Unstable\n",
    "    - Saddle\n",
    "    <img src=\"figures/saddle.png\" width=\"250\">\n",
    "    - Repellor\n",
    "    ![repellor](figures/repellor.png)\n",
    "    \n",
    "For a linear dynamical system\n",
    "$$ dy/dt = A y $$\n",
    "where $y$ is an $n$ dimensional vector and $A$ is an $n\\times n$ matrix, the origin $y=0$ is a fixed point. \n",
    "Its stability is determined by the eigenvalues of $A$."
   ]
  },
  {
   "cell_type": "code",
   "execution_count": null,
   "metadata": {
    "collapsed": true
   },
   "outputs": [],
   "source": []
  },
  {
   "cell_type": "markdown",
   "metadata": {},
   "source": [
    "## Linear differential equation system"
   ]
  },
  {
   "cell_type": "markdown",
   "metadata": {},
   "source": [
    "Here we take a vector-matrix notation\n",
    "$$ d{\\bf y}/dt = A {\\bf y} $$\n",
    "where \n",
    "$$ {\\bf y}=\\pmatrix{y_0 \\\\ y_1}\n",
    "    \\quad\n",
    "    A = \\pmatrix{a & b \\\\ c & d} $$"
   ]
  },
  {
   "cell_type": "code",
   "execution_count": null,
   "metadata": {
    "collapsed": true
   },
   "outputs": [],
   "source": [
    "def linear(y, t, A):\n",
    "    \"\"\"Linear dynamcal system dy/dt = Ay\n",
    "    y: n-dimensional state vector\n",
    "    t: time (not used, for compatibility with odeint())\n",
    "    A: n*n matrix\"\"\"\n",
    "    # y is an array (row vector), A is a matrix\n",
    "    return(np.dot(A, y))"
   ]
  },
  {
   "cell_type": "code",
   "execution_count": null,
   "metadata": {
    "collapsed": true
   },
   "outputs": [],
   "source": [
    "A = np.array([[0, 1], [-1, 0]])"
   ]
  },
  {
   "cell_type": "code",
   "execution_count": null,
   "metadata": {},
   "outputs": [],
   "source": [
    "y0 = np.array([1, -0.001])\n",
    "t = np.arange(0, 10, 0.1)\n",
    "y = odeint(linear, y0, t, args=(A,))\n",
    "plt.plot(y[0,0], y[0,1], 'o')   # starting point\n",
    "plt.plot(y[:,0], y[:,1], '+-')  # trajectory\n",
    "plt.axis('equal');"
   ]
  },
  {
   "cell_type": "markdown",
   "metadata": {},
   "source": [
    "### Eigenvalues and eigenvectors\n",
    "The behavior of the linear differential equation is determined by the *eigenvalues* and *eigenvectors* of the coefficient matrix $A$.\n",
    "\n",
    "With a matrix multiplication, a vector $\\bf{x}$ is mapped to $A\\bf{x}$, which can chenge the direction and size of the vector.  \n",
    "An *eigenvector* of $A$ is a vector that keeps its direction after multiplication and its scaling coefficient is called the *eigenvalue*.  \n",
    "\n",
    "Eigenvalues and eigenvectors are derived by solving the equation\n",
    "$$ A\\bf{x} = \\lambda \\bf{x}. $$"
   ]
  },
  {
   "cell_type": "markdown",
   "metadata": {},
   "source": [
    "For the 2x2 matrix $A = \\pmatrix{a & b \\\\ c & d}$, the eivenvalues are given from \n",
    "$$ \\det (A - \\lambda I) = (a-\\lambda)(d-\\lambda) - bc = 0 $$\n",
    "as\n",
    "$$ \\lambda = \\frac{a+d \\pm \\sqrt{(a-d)^2 + 4bc}}{2} $$\n",
    "\n",
    "Complex eigenvalues makes an oscillatory solution.  \n",
    "The signs of the real part determines the stability."
   ]
  },
  {
   "cell_type": "markdown",
   "metadata": {},
   "source": [
    "You can check eigenvalues and eigenvectors by `linalg.eig()` function."
   ]
  },
  {
   "cell_type": "code",
   "execution_count": null,
   "metadata": {},
   "outputs": [],
   "source": [
    "np.linalg.eig(A)"
   ]
  },
  {
   "cell_type": "markdown",
   "metadata": {},
   "source": [
    "Try different settings of A and corresponding solutions."
   ]
  },
  {
   "cell_type": "code",
   "execution_count": null,
   "metadata": {},
   "outputs": [],
   "source": [
    "A = np.array([[-1, 1], [-1, 0]])\n",
    "np.linalg.eig(A)"
   ]
  },
  {
   "cell_type": "code",
   "execution_count": null,
   "metadata": {},
   "outputs": [],
   "source": [
    "y0 = np.array([1, -0.001])\n",
    "t = np.arange(0, 10, 0.1)\n",
    "y = odeint(linear, y0, t, args=(A,))\n",
    "plt.plot(y[0,0], y[0,1], 'o')   # starting point\n",
    "plt.plot(y[:,0], y[:,1], '+-')  # trajectory\n",
    "plt.axis('equal');"
   ]
  },
  {
   "cell_type": "code",
   "execution_count": null,
   "metadata": {},
   "outputs": [],
   "source": [
    "A = np.array([[1, 1], [-1, 0]])\n",
    "np.linalg.eig(A)"
   ]
  },
  {
   "cell_type": "code",
   "execution_count": null,
   "metadata": {},
   "outputs": [],
   "source": [
    "A = np.array([[-1, 0], [0, 1]])\n",
    "np.linalg.eig(A)"
   ]
  },
  {
   "cell_type": "code",
   "execution_count": null,
   "metadata": {
    "collapsed": true
   },
   "outputs": [],
   "source": []
  },
  {
   "cell_type": "markdown",
   "metadata": {},
   "source": [
    "## Time varying input"
   ]
  },
  {
   "cell_type": "code",
   "execution_count": null,
   "metadata": {
    "collapsed": true
   },
   "outputs": [],
   "source": [
    "def stim(t):\n",
    "    return (1<t)*(t<2)*10"
   ]
  },
  {
   "cell_type": "markdown",
   "metadata": {},
   "source": [
    "Alpha function for simulating EPSP"
   ]
  },
  {
   "cell_type": "code",
   "execution_count": null,
   "metadata": {},
   "outputs": [],
   "source": [
    "def alpha(y, t):\n",
    "    tau = 2\n",
    "    return np.array([ stim(t)-y[0], y[0]-y[1]])/tau\n",
    "t = np.arange(0, 10, 0.1)\n",
    "y = odeint(alpha, [0,0], t)\n",
    "plt.plot(t, stim(t))\n",
    "plt.plot(t, y)\n",
    "plt.xlabel(\"time\");"
   ]
  },
  {
   "cell_type": "code",
   "execution_count": null,
   "metadata": {
    "collapsed": true
   },
   "outputs": [],
   "source": []
  },
  {
   "cell_type": "markdown",
   "metadata": {},
   "source": [
    "## Hodgkin-Huxley neuron models\n",
    "The Hodgkin-Huxley (HH) model considers a neuron as an electric circuit as depicted below.\n",
    "![HH model](figures/hhmodel.jpg)\n",
    "\n",
    "On the cellular membrane, there are *ionic channels* that pass specific type of ions. Sodium ions (Na$^+$) are scarce inside the cell, so that when sodium channel opens, positive charges flood into the cell to cause excitation. Potassium ions (K$^+$) are rich inside the cell, so that when potassium channel opens, positive charges flood out of the cell to cause inhibition. The HH model assumes a 'leak' current that put together all other ionic currents.\n",
    "\n",
    "The ingeniety of Hodgkin and Huxley is that they inferred from careful data analysis that a single sodium channel consists of three *activation* gates and one *inactivation* gate, and a single potassium channel consists of four activation gates. Such structures were later confirmed by genomics and imaging.\n",
    "\n",
    "The electric potential inside the neuron $V$ follows the following equation:\n",
    "\n",
    "$$C \\frac{dV}{dt} = g_{Na}m^3h(E_{Na}-V) + g_Kn^4(E_K-V) + g_L(E_L-V) + I$$\n",
    "\n",
    "Here, $m$, $h$, and $n$ represent the proportions of opening of sodium activation, sodium inactivation, and potassium activation gates, respectively. \n",
    "They follow the following differential equations with their rates of opening and closing, $\\alpha(V)$ and $\\beta(V)$, depending on the membrane voltage $V$.\n",
    "\n",
    "$$\\frac{dm}{dt} = \\alpha_m(V)(1-m) - \\beta_m(V)m$$\n",
    "\n",
    "$$\\frac{dh}{dt} = \\alpha_h(V)(1-h) - \\beta_h(V)h$$\n",
    "\n",
    "$$\\frac{dn}{dt} = \\alpha_n(V)(1-n) - \\beta_n(V)n$$\n",
    "\n",
    "These compose a system of four-dimensional non-linear differential equations. Another amazing thing about Hodgkin and Huxley is that they could simulate the solutions of these differential equations by a hand-powered computer.\n",
    "\n",
    "Below is a code to simulate the HH model by Python. Much easier!"
   ]
  },
  {
   "cell_type": "code",
   "execution_count": null,
   "metadata": {
    "collapsed": true
   },
   "outputs": [],
   "source": [
    "def hh(y, t):\n",
    "    # HH: Hodgkin-Huxley (1952) model\n",
    "    # input current (uA/cm^2)\n",
    "    Ie = stim(t)\n",
    "    # membrane capacitance (uF/cm^2)\n",
    "    Cm = 1\n",
    "    # maximum conductances (uS/cm^2)\n",
    "    gna = 120  # sodium\n",
    "    gk = 36    # potassium\n",
    "    gl = 0.3   # leak\n",
    "    # reversal potentials (mV)\n",
    "    Ena = 50   # sodium\n",
    "    Ek = -77   # potassium\n",
    "    El = -54.4 # leak\n",
    "    # potential and activation/inactivation (for readability)\n",
    "    v, m, h, n = y\n",
    "    # sodium current activation\n",
    "    am = 0.1*(v+40)/(1-np.exp(-(v+40)/10))\n",
    "    bm = 4*np.exp(-(v+65)/18);\n",
    "    # sodium current inactivation\n",
    "    ah = 0.07*np.exp(-(v+65)/20)\n",
    "    bh = 1/(1+np.exp(-(v+35)/10))\n",
    "    # potassium current activation\n",
    "    an = 0.01*(v+55)/(1-np.exp(-(v+55)/10))\n",
    "    bn = 0.125*np.exp(-(v+65)/80)\n",
    "    # time derivative\n",
    "    return [ (Ie - gna*m**3*h*(v-Ena) - gk*n**4*(v-Ek) - gl*(v-El))/Cm,\n",
    "            am*(1-m)-bm*m, ah*(1-h)-bh*h, an*(1-n)-bn*n];"
   ]
  },
  {
   "cell_type": "code",
   "execution_count": null,
   "metadata": {
    "collapsed": true
   },
   "outputs": [],
   "source": [
    "def stim(t):\n",
    "    return 0.1*t  # ramp current"
   ]
  },
  {
   "cell_type": "code",
   "execution_count": null,
   "metadata": {},
   "outputs": [],
   "source": [
    "tt = np.arange(0,200,0.1)\n",
    "y0 = [ -75, 0.1, 0.6, 0.3]\n",
    "yt = odeint(hh, y0, tt)\n",
    "plt.plot(tt,stim(tt))\n",
    "plt.plot(tt,yt);"
   ]
  },
  {
   "cell_type": "markdown",
   "metadata": {},
   "source": [
    "Subplot for better scaling"
   ]
  },
  {
   "cell_type": "code",
   "execution_count": null,
   "metadata": {},
   "outputs": [],
   "source": [
    "plt.subplot(2, 1, 1)\n",
    "plt.plot(tt, stim(tt));  # stim\n",
    "plt.plot(tt, yt[:,0]);   # Ie, V\n",
    "plt.legend((\"I(t)\", \"V(t)\"), loc='upper left');\n",
    "plt.ylabel(\"I, V\");\n",
    "plt.subplot(2, 1, 2)\n",
    "plt.plot(tt, yt[:,1:]);  # m, h, n\n",
    "plt.legend((\"m(t)\", \"h(t)\", \"n(t)\"), loc='upper left')\n",
    "plt.ylabel(\"m, h, n\");\n",
    "plt.xlabel(\"time (ms)\");"
   ]
  },
  {
   "cell_type": "markdown",
   "metadata": {},
   "source": [
    "Phase space"
   ]
  },
  {
   "cell_type": "code",
   "execution_count": null,
   "metadata": {},
   "outputs": [],
   "source": [
    "plt.plot(yt[:,0],yt[:,2])\n",
    "plt.xlabel(\"V\")\n",
    "plt.ylabel(\"h\");"
   ]
  },
  {
   "cell_type": "code",
   "execution_count": null,
   "metadata": {
    "collapsed": true
   },
   "outputs": [],
   "source": []
  },
  {
   "cell_type": "markdown",
   "metadata": {},
   "source": [
    "## Partial Differential Equations"
   ]
  },
  {
   "cell_type": "markdown",
   "metadata": {},
   "source": [
    "### Cable equation\n",
    "![cable](figures/cable.png)"
   ]
  },
  {
   "cell_type": "code",
   "execution_count": null,
   "metadata": {
    "collapsed": true
   },
   "outputs": [],
   "source": [
    "def cable(v, t):\n",
    "    # CABLE: linear cable equation\n",
    "    # specific parameters\n",
    "    Ri = 200e-6   # intracellular resistance (Mohm*cm)\n",
    "    Rm = 0.05     # membrane resistance (Mohm*cm^2)\n",
    "    Cm = 1.0        # membrane capacitance (uF/cm^2)\n",
    "    # parameters per length\n",
    "    d = 0.1e-4        # cable diameter (cm)\n",
    "    ra = 4*Ri/(np.pi*d**2)  # axial resistance (Mohm/cm)\n",
    "    rm = Rm/(np.pi*d) # membrane resistance (Mohm*cm)\n",
    "    cm = Cm*np.pi*d   # axial resistance (uF/cm)\n",
    "    # discretization\n",
    "    dx = 10e-4    # segment length (cm)\n",
    "    N = len(v)    # number of segments\n",
    "    # input current to the center segment\n",
    "    Ie = np.zeros(N)\n",
    "    Ie[np.int(N/2)] = stim(t)  # (uA)\n",
    "    # second-order spatial derivative\n",
    "    # open (Dirichlet) boundary for 0\n",
    "    # closed (Neumann) boundary for N-1\n",
    "    # by for loop:\n",
    "    vxx = np.zeros(N)\n",
    "    for i in range(N):\n",
    "        vxx[i] = ((v[i+1] if i<N-1 else v[N-1]) + (v[i-1] if i>0 else 0) - 2*v[i])/dx**2\n",
    "    # by vector calculation:\n",
    "    # vxx = (np.append(v[1:],v[-1]) + np.insert(v[:-1],0,0) - 2*v)/dx**2   return (Ie + yxx/ra - y/rm)/cm\n",
    "    return (Ie + vxx/ra - v/rm)/cm\n",
    "    # return (Ie + d/(4*Ri)*vxx - v/Rm)/Cm"
   ]
  },
  {
   "cell_type": "code",
   "execution_count": null,
   "metadata": {},
   "outputs": [],
   "source": [
    "cable(np.arange(-1,1,0.1), 0)"
   ]
  },
  {
   "cell_type": "code",
   "execution_count": null,
   "metadata": {},
   "outputs": [],
   "source": [
    "def stim(t):\n",
    "    return (0.2<t)*(t<1)*1\n",
    "tt = np.arange(0, 2, 0.01)\n",
    "y0 = np.zeros(51)\n",
    "yt = odeint(cable, y0, tt)\n",
    "plt.plot(tt,stim(tt))\n",
    "plt.plot(tt,yt)\n",
    "plt.xlabel(\"t\");"
   ]
  },
  {
   "cell_type": "markdown",
   "metadata": {},
   "source": [
    "Spatial plot"
   ]
  },
  {
   "cell_type": "code",
   "execution_count": null,
   "metadata": {},
   "outputs": [],
   "source": [
    "plt.plot(yt.T)\n",
    "plt.xlabel(\"x\");"
   ]
  },
  {
   "cell_type": "code",
   "execution_count": null,
   "metadata": {},
   "outputs": [],
   "source": [
    "plt.imshow(yt.T)\n",
    "plt.xlabel(\"t\");\n",
    "plt.ylabel(\"x\");"
   ]
  },
  {
   "cell_type": "code",
   "execution_count": null,
   "metadata": {
    "collapsed": true
   },
   "outputs": [],
   "source": []
  },
  {
   "cell_type": "markdown",
   "metadata": {},
   "source": [
    "## Hodgkin-Huxley Axon"
   ]
  },
  {
   "cell_type": "code",
   "execution_count": null,
   "metadata": {
    "collapsed": true
   },
   "outputs": [],
   "source": [
    "def axon(y, t):\n",
    "    # AXON: Hodgkin-Huxley axon\n",
    "    # y = [v, m, h, n]\n",
    "    N = np.int(len(y)/4)   # number of segments\n",
    "    v = y[0:N]     # membrane potential (mV)\n",
    "    m = y[N:2*N]   # sodium current activation\n",
    "    h = y[2*N:3*N] # sodium current inactivation\n",
    "    n = y[3*N:4*N] # potassium current activation\n",
    "    # Cable Equation\n",
    "    # specific parameters\n",
    "    Ri = 200e-6   # intracellular resistance (Mohm*cm)\n",
    "    # Rm = 0.05     # membrane resistance (Mohm*cm^2)\n",
    "    Cm = 1        # membrane capacitance (uF/cm^2)\n",
    "    # parameters per length\n",
    "    d = 0.1e-4        # cable diameter (cm)\n",
    "    ra = 4*Ri/(np.pi*d**2)  # axial resistance (Mohm/cm)\n",
    "    #rm = Rm/(np.pi*d) # membrane resistance (Mohm*cm)\n",
    "    cm = Cm*np.pi*d   # axial resistance (uF/cm)\n",
    "    # discretization\n",
    "    dx = 1e-1      # segment length (cm)\n",
    "    # input current to the end segment\n",
    "    Ie = np.zeros(N)\n",
    "    Ie[0] = stim(t)  # (uA/cm^2)\n",
    "    # second-order spatial derivative with Neumann boundary\n",
    "    # by for loop:\n",
    "    vxx = np.zeros(N)\n",
    "    #for i in range(N):\n",
    "    #    vxx[i] = ((v[N-1] if i==N-1 else v[i+1]) + (v[0] if i==0 else v[i-1]) - 2*v[i])/dx**2\n",
    "    # by vector calculation:\n",
    "    vxx = (np.append(v[1:],v[-1]) + np.insert(v[:-1],0,v[0]) - 2*v)/dx**2\n",
    "    #\n",
    "    # HH Model\n",
    "    # maximum conductances (uS/cm^2)\n",
    "    gna = 120  # sodium\n",
    "    gk = 36    # potassium\n",
    "    gl = 0.3   # leak\n",
    "    # reversal potentials (mV)\n",
    "    Ena = 50   # sodium\n",
    "    Ek = -77   # potassium\n",
    "    El = -54.4 # leak\n",
    "    # activation and inactivation vectors\n",
    "    am = 0.1*(v+40)/(1-np.exp(-(v+40)/10))\n",
    "    bm = 4*np.exp(-(v+65)/18)\n",
    "    ah = 0.07*np.exp(-(v+65)/20)\n",
    "    bh = 1/(1+np.exp(-(v+35)/10))\n",
    "    an = 0.01*(v+55)/(1-np.exp(-(v+55)/10))\n",
    "    bn = 0.125*np.exp(-(v+65)/80)\n",
    "    # time derivative\n",
    "    vdot = (Ie + d/(4*Ri)*vxx - gna*m**3*h*(v-Ena) - gk*n**4*(v-Ek) - gl*(v-El))/Cm\n",
    "    return np.concatenate((vdot, am*(1-m)-bm*m, ah*(1-h)-bh*h, an*(1-n)-bn*n))"
   ]
  },
  {
   "cell_type": "code",
   "execution_count": null,
   "metadata": {},
   "outputs": [],
   "source": [
    "def stim(t):\n",
    "    return (1<t)*(t<2)*50\n",
    "N = 30  # number of compartments\n",
    "tt = np.arange(0,10,0.01)\n",
    "y0 = np.repeat( np.array([-65, 0.1, 0.6, 0.3]), N)\n",
    "yt = odeint(axon, y0, tt)\n",
    "plt.subplot(5,1,1)\n",
    "plt.plot(tt,yt[:,0:N])   # V\n",
    "plt.subplot(5,1,2)\n",
    "plt.plot(tt,yt[:,N:2*N])  # m\n",
    "plt.subplot(5,1,3)\n",
    "plt.plot(tt,yt[:,2*N:3*N])  # h\n",
    "plt.subplot(5,1,4)\n",
    "plt.plot(tt,yt[:,3*N:4*N])  # n\n",
    "plt.subplot(5,1,5)\n",
    "plt.plot(tt,stim(tt))  # stim\n",
    "plt.xlabel(\"time (ms)\");"
   ]
  },
  {
   "cell_type": "code",
   "execution_count": null,
   "metadata": {},
   "outputs": [],
   "source": [
    "plt.imshow(yt[:, 0:N].T, aspect='auto')  # take Vs\n",
    "plt.colorbar();\n",
    "plt.xlabel(\"time (ms)\");"
   ]
  },
  {
   "cell_type": "code",
   "execution_count": null,
   "metadata": {
    "collapsed": true
   },
   "outputs": [],
   "source": []
  }
 ],
 "metadata": {
  "kernelspec": {
   "display_name": "Python 3",
   "language": "python",
   "name": "python3"
  },
  "language_info": {
   "codemirror_mode": {
    "name": "ipython",
    "version": 3
   },
   "file_extension": ".py",
   "mimetype": "text/x-python",
   "name": "python",
   "nbconvert_exporter": "python",
   "pygments_lexer": "ipython3",
   "version": "3.6.0"
  }
 },
 "nbformat": 4,
 "nbformat_minor": 1
}

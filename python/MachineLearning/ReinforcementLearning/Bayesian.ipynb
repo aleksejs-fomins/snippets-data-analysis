{
 "cells": [
  {
   "cell_type": "markdown",
   "metadata": {},
   "source": [
    "# Bayesian Inference\n",
    "OCNC 2017"
   ]
  },
  {
   "cell_type": "code",
   "execution_count": null,
   "metadata": {},
   "outputs": [],
   "source": [
    "import numpy as np\n",
    "import matplotlib.pyplot as plt\n",
    "%matplotlib"
   ]
  },
  {
   "cell_type": "markdown",
   "metadata": {},
   "source": [
    "## Coin toss\n",
    "Estimate the parameter $\\mu$, probability for a coin to land head up, after n tosses."
   ]
  },
  {
   "cell_type": "code",
   "execution_count": null,
   "metadata": {},
   "outputs": [],
   "source": [
    "mu = 0.4  # probability of head\n",
    "n = 10   # number of samples\n",
    "y = np.random.rand(n)<mu # binary observation sequence\n",
    "y"
   ]
  },
  {
   "cell_type": "markdown",
   "metadata": {},
   "source": [
    "Assume a flat prior $P(\\mu)=1$ for $0\\le\\mu\\le 1$.  \n",
    "Multiply prior and likelihood, and normalize to make the posterior.  \n",
    "Make posterior as the new prior."
   ]
  },
  {
   "cell_type": "code",
   "execution_count": null,
   "metadata": {},
   "outputs": [],
   "source": [
    "dt = 0.2   # puase for animation\n",
    "dx = 0.01  # plot step\n",
    "x = np.arange( 0, 1, dx)  # range of the parameter\n",
    "prior = np.ones( len(x))  # uniform prior\n",
    "for i in range(n):\n",
    "    plt.cla()\n",
    "    plt.plot( x, prior, 'b')\n",
    "    plt.xlabel('$\\mu$')\n",
    "    plt.title('prior')\n",
    "    plt.plot( y[0:i+1], np.arange(i+1)/n, 'ko')\n",
    "    likelihood = x*y[i] + (1-x)*(1-y[i]) # theta if head, 1-theta if tail\n",
    "    plt.plot( x, likelihood, 'g')\n",
    "    plt.title('likelihood')\n",
    "    plt.pause(dt)\n",
    "    prilik = prior*likelihood\n",
    "    plt.plot( x, prilik,'c')\n",
    "    plt.title('prior*likelihood')\n",
    "    plt.pause(dt)\n",
    "    marginal = sum(prilik)*dx    # integrate over the parameter range\n",
    "    posterior = prilik/marginal  # normalize\n",
    "    plt.plot( x, posterior, 'r')\n",
    "    plt.title('posterior')\n",
    "    plt.pause(dt)\n",
    "    input()   # wait for return key\n",
    "    prior = posterior"
   ]
  },
  {
   "cell_type": "markdown",
   "metadata": {},
   "source": [
    "For a parameter $\\mu$, the number $k$ of heads in $n$ tosses follows a Binomial distribution $\\propto \\mu^k(1-\\mu)^{n-k}$.  \n",
    "For observation of $k$ heads in $n$ tosses, the posterior for $\\mu$ is given by a Beta distribution $\\propto \\mu^k(1-\\mu)^{n-k}$."
   ]
  },
  {
   "cell_type": "markdown",
   "metadata": {},
   "source": [
    "## Target tracking\n",
    "Estimate the mean $\\mu$ from noisy observations."
   ]
  },
  {
   "cell_type": "code",
   "execution_count": null,
   "metadata": {},
   "outputs": [],
   "source": [
    "# Noisy observation: y = N(mu,sigma)\n",
    "mu = 2\n",
    "sigma = 1\n",
    "n = 10\n",
    "y = mu + sigma*np.random.randn(n)\n",
    "#y = [(0 if i<5 else 2) for i in range(n)] + sigma*np.random.randn(n)\n",
    "y"
   ]
  },
  {
   "cell_type": "markdown",
   "metadata": {
    "collapsed": true
   },
   "source": [
    "For simplicity, assume that we know the noise level $\\sigma$.  \n",
    "Assume a wide Gaussian prior $N(\\mu_0,\\sigma_0)$ for $\\mu$.  "
   ]
  },
  {
   "cell_type": "code",
   "execution_count": null,
   "metadata": {},
   "outputs": [],
   "source": [
    "mu0 = 0\n",
    "sigma0 = 5\n",
    "dt = 0.2   # puase for animatino\n",
    "dx = 0.05   # plot step\n",
    "x = np.arange( -5, 5, dt)\n",
    "prior = np.exp(-(x/sigma0)**2/2)/(np.sqrt(2*np.pi)*sigma0)\n",
    "for i in range(n):\n",
    "    plt.cla()\n",
    "    plt.plot( x, prior, 'b')\n",
    "    plt.xlabel('mu')\n",
    "    plt.title('prior')\n",
    "    plt.plot( y[0:i+1], np.arange(i+1)/n, 'ko')\n",
    "    likelihood = np.exp(-((y[i]-x)/sigma)**2/2)/(np.sqrt(2*np.pi)*sigma)\n",
    "    plt.plot( x, likelihood, 'g')\n",
    "    plt.title('likelihood')\n",
    "    plt.pause(dt)\n",
    "    prilik = prior*likelihood\n",
    "    plt.plot( x, prilik,'c')\n",
    "    plt.title('prior*likelihood')\n",
    "    plt.pause(dt)\n",
    "    marginal = sum(prilik)*dt\n",
    "    posterior = prilik/marginal\n",
    "    plt.plot( x, posterior, 'r')\n",
    "    plt.title('posterior')\n",
    "    plt.pause(dt)\n",
    "    input()\n",
    "    prior = posterior"
   ]
  },
  {
   "cell_type": "markdown",
   "metadata": {
    "collapsed": true
   },
   "source": [
    "For Gaussian prior and likelihood, the posterior mean is a Gaussian $P(\\mu|Y) = N(\\mu_n,\\sigma_n)$ with  \n",
    "$$ \\mu_n = \\frac{\\sigma^2\\mu_0 + \\sigma_0^2\\sum_i^n y_i}{n\\sigma_0^2 + \\sigma^2} $$  \n",
    "$$ \\frac{1}{\\sigma_n^2} = \\frac{1}{\\sigma_0^2}+\\frac{n}{\\sigma^2} $$  "
   ]
  },
  {
   "cell_type": "code",
   "execution_count": null,
   "metadata": {
    "collapsed": true
   },
   "outputs": [],
   "source": []
  }
 ],
 "metadata": {
  "kernelspec": {
   "display_name": "Python 3",
   "language": "python",
   "name": "python3"
  },
  "language_info": {
   "codemirror_mode": {
    "name": "ipython",
    "version": 3
   },
   "file_extension": ".py",
   "mimetype": "text/x-python",
   "name": "python",
   "nbconvert_exporter": "python",
   "pygments_lexer": "ipython3",
   "version": "3.6.0"
  }
 },
 "nbformat": 4,
 "nbformat_minor": 2
}

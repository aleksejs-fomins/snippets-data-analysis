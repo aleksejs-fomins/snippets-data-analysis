{
 "cells": [
  {
   "cell_type": "markdown",
   "metadata": {},
   "source": [
    "## Analysis of Predictive power\n",
    "\n",
    "In the previous chapter we have looked at data drawn from multivariate i.i.d distribution and attempted to determine if the observables are dependent on each other. In this chapter we will relax the i.i.d assumption to a Markov assumption. For a given sequence of multivariate observations, it is guaranteed that the data observed at time point $i$ is independent from its past values, except for the last $k$ values. There will be two questions:\n",
    "1) Is there a smaller value $k' \\in [0, k)$, beyond which the history does not matter.\n",
    "2) In the multivariate case, do all future observables depend on all past observables, or are some combinations independent?"
   ]
  },
  {
   "cell_type": "code",
   "execution_count": null,
   "metadata": {},
   "outputs": [],
   "source": []
  }
 ],
 "metadata": {
  "kernelspec": {
   "display_name": "Python 3",
   "language": "python",
   "name": "python3"
  },
  "language_info": {
   "codemirror_mode": {
    "name": "ipython",
    "version": 3
   },
   "file_extension": ".py",
   "mimetype": "text/x-python",
   "name": "python",
   "nbconvert_exporter": "python",
   "pygments_lexer": "ipython3",
   "version": "3.6.5"
  }
 },
 "nbformat": 4,
 "nbformat_minor": 2
}

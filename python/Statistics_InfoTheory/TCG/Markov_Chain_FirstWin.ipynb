{
 "cells": [
  {
   "cell_type": "markdown",
   "metadata": {},
   "source": [
    "You play a dice game where your winrate is slightly higher than your loss rate. You want to get a difference between wins and losses equal to a certain amount. What is the expected number of games necessary to achieve the goal"
   ]
  },
  {
   "cell_type": "code",
   "execution_count": 34,
   "metadata": {},
   "outputs": [
    {
     "name": "stdout",
     "output_type": "stream",
     "text": [
      "for winrate 0.6 the number of games required is roughly 50.0082\n",
      "for winrate 0.55 the number of games required is roughly 99.275\n",
      "for winrate 0.52 the number of games required is roughly 251.758\n",
      "for winrate 0.51 the number of games required is roughly 497.3684\n"
     ]
    },
    {
     "ename": "KeyboardInterrupt",
     "evalue": "",
     "output_type": "error",
     "traceback": [
      "\u001b[0;31m---------------------------------------------------------------------------\u001b[0m",
      "\u001b[0;31mKeyboardInterrupt\u001b[0m                         Traceback (most recent call last)",
      "\u001b[0;32m<ipython-input-34-c2fcfb681e70>\u001b[0m in \u001b[0;36m<module>\u001b[0;34m()\u001b[0m\n\u001b[1;32m     13\u001b[0m         \u001b[0;32mwhile\u001b[0m \u001b[0mNWinThis\u001b[0m \u001b[0;34m<\u001b[0m \u001b[0;36m10\u001b[0m\u001b[0;34m:\u001b[0m\u001b[0;34m\u001b[0m\u001b[0m\n\u001b[1;32m     14\u001b[0m             \u001b[0mNGameThis\u001b[0m \u001b[0;34m+=\u001b[0m \u001b[0;36m1\u001b[0m\u001b[0;34m\u001b[0m\u001b[0m\n\u001b[0;32m---> 15\u001b[0;31m             \u001b[0;32mif\u001b[0m \u001b[0mnp\u001b[0m\u001b[0;34m.\u001b[0m\u001b[0mrandom\u001b[0m\u001b[0;34m.\u001b[0m\u001b[0muniform\u001b[0m\u001b[0;34m(\u001b[0m\u001b[0;34m)\u001b[0m \u001b[0;34m<=\u001b[0m \u001b[0mpw\u001b[0m\u001b[0;34m:\u001b[0m\u001b[0;34m\u001b[0m\u001b[0m\n\u001b[0m\u001b[1;32m     16\u001b[0m                 \u001b[0mNWinThis\u001b[0m \u001b[0;34m+=\u001b[0m \u001b[0;36m1\u001b[0m\u001b[0;34m\u001b[0m\u001b[0m\n\u001b[1;32m     17\u001b[0m             \u001b[0;32melse\u001b[0m\u001b[0;34m:\u001b[0m\u001b[0;34m\u001b[0m\u001b[0m\n",
      "\u001b[0;31mKeyboardInterrupt\u001b[0m: "
     ]
    }
   ],
   "source": [
    "import numpy as np\n",
    "import matplotlib.pyplot as plt\n",
    "\n",
    "pwin = [0.6, 0.55, 0.52, 0.51, 0.50]\n",
    "Ngame = 10\n",
    "Ntrial = 10000\n",
    "\n",
    "for pw in pwin:\n",
    "    TrialNGame = []\n",
    "    for i in range(Ntrial):\n",
    "        NWinThis = 0\n",
    "        NGameThis = 0\n",
    "        while NWinThis < 10:\n",
    "            NGameThis += 1\n",
    "            if np.random.uniform() <= pw:\n",
    "                NWinThis += 1\n",
    "            else:\n",
    "                NWinThis -= 1\n",
    "\n",
    "        TrialNGame.append(NGameThis)\n",
    "\n",
    "    print(\"for winrate\", pw, \"the number of games required is roughly\", np.mean(TrialNGame))\n",
    "\n"
   ]
  },
  {
   "cell_type": "markdown",
   "metadata": {},
   "source": [
    "Lol, these are extremely similar to the expected values. At first, I thought that expected values are a bad approximation, because the first reach of the target should happen way before it actually settles there. It turns out that this effect is very small."
   ]
  }
 ],
 "metadata": {
  "kernelspec": {
   "display_name": "Python 3",
   "language": "python",
   "name": "python3"
  },
  "language_info": {
   "codemirror_mode": {
    "name": "ipython",
    "version": 3
   },
   "file_extension": ".py",
   "mimetype": "text/x-python",
   "name": "python",
   "nbconvert_exporter": "python",
   "pygments_lexer": "ipython3",
   "version": "3.6.3"
  }
 },
 "nbformat": 4,
 "nbformat_minor": 2
}

{
 "cells": [
  {
   "cell_type": "markdown",
   "metadata": {},
   "source": [
    "# 1D DFT\n",
    "\n",
    "$$X_k = \\sum_{n=0}^{N-1} x_n \\exp \\biggl( -\\frac{2 \\pi i k n}{N} \\biggr)$$\n",
    "$$x_n = \\frac{1}{N}\\sum_{k=0}^{N-1} X_k \\exp \\biggl( \\frac{2 \\pi i k n}{N} \\biggr)$$"
   ]
  },
  {
   "cell_type": "code",
   "execution_count": 13,
   "metadata": {},
   "outputs": [
    {
     "data": {
      "image/png": "[encoded data removed]",
      "text/plain": [
       "<Figure size 432x288 with 1 Axes>"
      ]
     },
     "metadata": {
      "needs_background": "light"
     },
     "output_type": "display_data"
    }
   ],
   "source": [
    "import numpy as np\n",
    "import matplotlib.pyplot as plt\n",
    "\n",
    "def dft(x):\n",
    "    N = len(x)\n",
    "    idxs = np.arange(N)\n",
    "    M = np.exp(-2*np.pi *1j / N * np.outer(idxs, idxs))\n",
    "    return M.dot(x)\n",
    "\n",
    "def idft(x):\n",
    "    N = len(x)\n",
    "    idxs = np.arange(N)\n",
    "    M = np.exp(2*np.pi *1j / N * np.outer(idxs, idxs))\n",
    "    return np.real(M.dot(x)) / N\n",
    "\n",
    "nTrial = 40\n",
    "nDataLst = (10 ** np.linspace(1, 4, nTrial)).astype(int)\n",
    "acc = np.zeros(nTrial)\n",
    "accNumpy = np.zeros(nTrial)\n",
    "for i in range(nTrial):\n",
    "    data = np.random.normal(0, 1, nDataLst[i])    \n",
    "    acc[i] = np.linalg.norm(data - idft(dft(data)))\n",
    "    accNumpy[i] = np.linalg.norm(data - np.fft.ifft(np.fft.fft(data)))\n",
    "\n",
    "plt.figure()\n",
    "plt.loglog(nDataLst, acc, label='naive')\n",
    "plt.loglog(nDataLst, accNumpy, label='numpy')\n",
    "plt.legend()\n",
    "plt.show()"
   ]
  },
  {
   "cell_type": "code",
   "execution_count": 14,
   "metadata": {},
   "outputs": [
    {
     "name": "stdout",
     "output_type": "stream",
     "text": [
      "1.4016370400911302e-08\n"
     ]
    }
   ],
   "source": [
    "print(np.linalg.norm(dft(data) - np.fft.fft(data)))"
   ]
  },
  {
   "cell_type": "markdown",
   "metadata": {},
   "source": [
    "# 2D DFT\n",
    "\n",
    "$$X_{kl} = \\sum_{m=0}^{M-1} \\sum_{n=0}^{N-1} x_{mn} \\exp \\biggl( -2 \\pi i \\biggl ( \\frac{km}{M} + \\frac{ln}{N} \\biggr ) \\biggr)$$\n",
    "\n",
    "$$x_{mn} = \\frac{1}{MN} \\sum_{k=0}^{M-1} \\sum_{l=0}^{N-1} X_{kl} \\exp \\biggl( 2 \\pi i \\biggl ( \\frac{km}{M} + \\frac{ln}{N} \\biggr ) \\biggr)$$"
   ]
  },
  {
   "cell_type": "code",
   "execution_count": 17,
   "metadata": {},
   "outputs": [
    {
     "name": "stdout",
     "output_type": "stream",
     "text": [
      "1.5747526593406555e-13\n",
      "7.701475065840632e-12\n"
     ]
    }
   ],
   "source": [
    "def dft2(x):\n",
    "    M, N = x.shape\n",
    "    idxsX = np.arange(M)\n",
    "    idxsY = np.arange(N)\n",
    "    matM = np.exp(-2*np.pi * 1j / M * np.outer(idxsX, idxsX))\n",
    "    matN = np.exp(-2*np.pi * 1j / N * np.outer(idxsY, idxsY))\n",
    "    return np.einsum(\"mn, km, ln\", x, matM, matN)\n",
    "\n",
    "def idft2(x):\n",
    "    (M, N) = x.shape\n",
    "    idxsX = np.arange(M)\n",
    "    idxsY = np.arange(N)\n",
    "    matM = np.exp(2*np.pi * 1j / M * np.outer(idxsX, idxsX))\n",
    "    matN = np.exp(2*np.pi * 1j / N * np.outer(idxsY, idxsY))\n",
    "    return np.einsum(\"kl, km, ln\", x, matM, matN) / (M*N)\n",
    "\n",
    "data = np.random.normal(0, 1, (30,30))\n",
    "print(np.linalg.norm(data - idft2(dft2(data))))\n",
    "print(np.linalg.norm(dft2(data) - np.fft.fft2(data)))"
   ]
  },
  {
   "cell_type": "code",
   "execution_count": null,
   "metadata": {},
   "outputs": [],
   "source": []
  }
 ],
 "metadata": {
  "kernelspec": {
   "display_name": "Python 3",
   "language": "python",
   "name": "python3"
  },
  "language_info": {
   "codemirror_mode": {
    "name": "ipython",
    "version": 3
   },
   "file_extension": ".py",
   "mimetype": "text/x-python",
   "name": "python",
   "nbconvert_exporter": "python",
   "pygments_lexer": "ipython3",
   "version": "3.7.0"
  }
 },
 "nbformat": 4,
 "nbformat_minor": 2
}

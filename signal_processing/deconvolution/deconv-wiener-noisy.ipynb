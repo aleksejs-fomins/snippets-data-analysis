{
 "cells": [
  {
   "cell_type": "code",
   "execution_count": null,
   "metadata": {},
   "outputs": [],
   "source": [
    "from numpy.fft import fft, ifft, ifftshift\n",
    "\n",
    "def wiener_deconvolution(signal, kernel, NSR):\n",
    "    kernel = np.hstack((kernel, np.zeros(len(signal) - len(kernel)))) # zero pad the kernel to same length\n",
    "    H = fft(kernel)\n",
    "    deconvolved = np.real(ifft(fft(signal)*np.conj(H)/(H*np.conj(H) + NSR)))\n",
    "    return deconvolved\n",
    "\n",
    "\n",
    "fig, ax = plt.subplots(nrows=2, ncols=3, figsize=(15,10))\n",
    "N = 1000\n",
    "std = 2\n",
    "t = np.linspace(0, 1, N)\n",
    "x = (np.sin(10*t)**2 > 0.7).astype(float)\n",
    "k = np.exp(-20*t)\n",
    "y = np.convolve(k, x)[:N]\n",
    "err = np.random.normal(0, std, N)\n",
    "yNoisy = y + err\n",
    "\n",
    "NSR = np.mean(err**2) / np.mean(x**2)\n",
    "yDeconv = wiener_deconvolution(yNoisy, k, NSR)\n",
    "\n",
    "print(NSR)\n",
    "\n",
    "ax[0,0].plot(t, x)\n",
    "ax[1,0].plot(t, k)\n",
    "ax[0,1].plot(t, y)\n",
    "ax[1,1].plot(t, yNoisy)\n",
    "ax[0,2].plot(t, yDeconv)\n",
    "plt.show()\n",
    "\n"
   ]
  }
 ],
 "metadata": {
  "kernelspec": {
   "display_name": "Python (dlc)",
   "language": "python",
   "name": "dlc_ker"
  },
  "language_info": {
   "codemirror_mode": {
    "name": "ipython",
    "version": 3
   },
   "file_extension": ".py",
   "mimetype": "text/x-python",
   "name": "python",
   "nbconvert_exporter": "python",
   "pygments_lexer": "ipython3",
   "version": "3.6.7"
  }
 },
 "nbformat": 4,
 "nbformat_minor": 2
}

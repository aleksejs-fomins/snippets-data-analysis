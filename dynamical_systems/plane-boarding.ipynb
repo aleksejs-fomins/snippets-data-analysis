{
 "cells": [
  {
   "cell_type": "code",
   "execution_count": 7,
   "metadata": {},
   "outputs": [],
   "source": [
    "import numpy as np\n",
    "\n",
    "N_ROW = 20\n",
    "N_COL = 6\n",
    "N_DUDE = N_ROW*N_COL\n",
    "\n",
    "def cansit(r, c):\n",
    "    if (c == 2) or (c==3):  return True\n",
    "    elif c == 1:            return not places[r, 2]\n",
    "    elif c == 4:            return not places[r, 3]\n",
    "    elif c == 0:            return not (places[r, 1] or places[r, 2])\n",
    "    elif c == 5:            return not (places[r, 3] or places[r, 4])\n",
    "\n",
    "# Can move a dude if far enough from prev dude\n",
    "def canmove(idxQueue, positions):\n",
    "    if idxQueue == 0:\n",
    "        return True\n",
    "    else:\n",
    "        return positions[idxQueue-1] - positions[idxQueue] > 1\n",
    "    \n",
    "# Create random passenger order\n",
    "dudePlaceIdxs  = np.argsort(np.random.uniform(0,1, N_DUDE))\n",
    "dudePlaces = [(i // N_ROW, i % N_ROW) for i in dudePlaceIdxs]\n",
    "\n",
    "# Create dude positions\n",
    "positions = -1*np.ones(N_DUDE)\n",
    "\n",
    "# Track who is seated\n",
    "places = np.zeros((N_ROW, N_COL), dtype=bool)\n",
    "\n",
    "# Sitting task queue\n",
    "\n",
    "\n",
    "\n",
    "\n",
    "'''\n",
    "Algorithm:\n",
    "  1 For each dude\n",
    "   1.1 Can push dude by 1? If yes, push, else goto 1\n",
    "   1.2 Correct row? If yes, park and goto 1, else goto 1.1\n",
    "  2 Sort park requests by duration\n",
    "  3 Subtract min time from all requests\n",
    "  4 Park all people with req time=0. Remove them from people container\n",
    "  5 If 0 people left, exit, else goto 1\n",
    "'''\n",
    "\n",
    "for iDude in range(N_DUDE):\n",
    "    while canmove(iDude, positions):\n",
    "        positions[iDude] += 1\n",
    "        if dudePlaces[iDude][0] == positions[iDude]:"
   ]
  },
  {
   "cell_type": "code",
   "execution_count": null,
   "metadata": {},
   "outputs": [],
   "source": [
    ""
   ]
  }
 ],
 "metadata": {
  "kernelspec": {
   "display_name": "Python 3",
   "language": "python",
   "name": "python3"
  },
  "language_info": {
   "codemirror_mode": {
    "name": "ipython",
    "version": 3.0
   },
   "file_extension": ".py",
   "mimetype": "text/x-python",
   "name": "python",
   "nbconvert_exporter": "python",
   "pygments_lexer": "ipython3",
   "version": "3.7.1"
  }
 },
 "nbformat": 4,
 "nbformat_minor": 0
}
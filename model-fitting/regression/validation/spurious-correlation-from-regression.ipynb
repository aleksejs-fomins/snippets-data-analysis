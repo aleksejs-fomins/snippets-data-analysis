{
 "cells": [
  {
   "cell_type": "code",
   "execution_count": 5,
   "metadata": {},
   "outputs": [],
   "source": [
    "import numpy as np\n",
    "from scipy import linalg\n",
    "import matplotlib.pyplot as plt\n",
    "\n",
    "def residual_linear_fit(x, cov):\n",
    "    '''\n",
    "    :param x:     1D vector of i.i.d data samples [nSample]\n",
    "    :param cov:   2D vector of covariates [nCov, nSample]\n",
    "    :return:      residual of X after all covariates are fitted to it and subtracted from it\n",
    "    '''\n",
    "\n",
    "    coeffX = linalg.lstsq(cov.T, x)[0]\n",
    "    return x - coeffX.dot(cov)"
   ]
  },
  {
   "cell_type": "code",
   "execution_count": 4,
   "metadata": {},
   "outputs": [],
   "source": []
  },
  {
   "cell_type": "code",
   "execution_count": 25,
   "metadata": {},
   "outputs": [],
   "source": [
    "cc0 = []\n",
    "cc1 = []\n",
    "\n",
    "for nTest in range(1000):\n",
    "    t = np.random.normal(0, 1, 100)\n",
    "    \n",
    "    x = 0.1*t + 0.9*np.random.normal(0, 1, 100)\n",
    "    y = 0.1*t + 0.9*np.random.normal(0, 1, 100)\n",
    "    z = 0.1*t + 0.9*np.random.normal(0, 1, 100)\n",
    "    cc0 += [np.corrcoef(x, y)[0, 1]]\n",
    "    \n",
    "    xp = residual_linear_fit(x, np.array([z]))\n",
    "    yp = residual_linear_fit(y, np.array([z]))\n",
    "    cc1 += [np.corrcoef(xp, yp)[0, 1]]"
   ]
  },
  {
   "cell_type": "code",
   "execution_count": 26,
   "metadata": {},
   "outputs": [
    {
     "data": {
      "image/png": "[encoded data removed]",
      "text/plain": [
       "<Figure size 432x288 with 1 Axes>"
      ]
     },
     "metadata": {
      "needs_background": "light"
     },
     "output_type": "display_data"
    }
   ],
   "source": [
    "diff = np.array(cc0)-np.array(cc1)\n",
    "\n",
    "plt.figure()\n",
    "plt.hist(diff, bins='auto')\n",
    "plt.show()"
   ]
  },
  {
   "cell_type": "code",
   "execution_count": null,
   "metadata": {},
   "outputs": [],
   "source": []
  }
 ],
 "metadata": {
  "kernelspec": {
   "display_name": "py3ml",
   "language": "python",
   "name": "py3ml"
  },
  "language_info": {
   "codemirror_mode": {
    "name": "ipython",
    "version": 3
   },
   "file_extension": ".py",
   "mimetype": "text/x-python",
   "name": "python",
   "nbconvert_exporter": "python",
   "pygments_lexer": "ipython3",
   "version": "3.8.5"
  }
 },
 "nbformat": 4,
 "nbformat_minor": 4
}

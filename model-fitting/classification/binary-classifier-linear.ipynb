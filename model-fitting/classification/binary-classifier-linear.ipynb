{
 "cells": [
  {
   "cell_type": "markdown",
   "metadata": {},
   "source": [
    "# Binary Linear Classification\n",
    "\n",
    "**Data:** Have multidimensional point data $\\vec{v}_i \\in \\mathbb{R}^d$ and $\\vec{u}_i \\in \\mathbb{R}^d$. Number of trials, indexed by $i$, may be different for each for each data set. It is assumed that all trials IID for each data set, and that data $\\vec{v}_i$ and $\\vec{u}_i$ in general have different distributions.\n",
    "\n",
    "**Task:** Construct a classifier of the form $\\vec{a} \\cdot \\vec{x} < \\lambda$, which would be useful for distinguishing the sets $V$ and $U$ from each other\n",
    "\n",
    "## Approach 1. Mean-value classifier (what is the name in the literature?)\n",
    "\n",
    "Find mean point for each dataset, draw a line between the two points. The classifier will be a plane perpendicular to that line, between the two points.\n",
    "\n",
    "$\\vec{a} = \\vec{v}_{\\mathrm{avg}} - \\vec{u}_{\\mathrm{avg}}$\n",
    "\n",
    "Then, decomposing each data set into mean and varying part via $\\vec{x}_i = \\vec{x}_{\\mathrm{avg}} + \\vec{\\xi x}_i$, we get\n",
    "\n",
    "$\\lambda_v = \\vec{a} \\cdot \\vec{v} = (\\vec{v}_{\\mathrm{avg}} - \\vec{u}_{\\mathrm{avg}})\\cdot(\\vec{v}_{\\mathrm{avg}} + \\vec{\\xi v})$\n",
    "\n",
    "$\\lambda_u = \\vec{a} \\cdot \\vec{u} = (\\vec{v}_{\\mathrm{avg}} - \\vec{u}_{\\mathrm{avg}})\\cdot(\\vec{u}_{\\mathrm{avg}} + \\vec{\\xi u})$\n",
    "\n",
    "$\\lambda_v - \\lambda_u = |\\vec{v}_{\\mathrm{avg}} - \\vec{u}_{\\mathrm{avg}}|^2 + (\\vec{v}_{\\mathrm{avg}} - \\vec{u}_{\\mathrm{avg}}) \\cdot (\\vec{\\xi v} - \\vec{\\xi u})$\n",
    "\n",
    "So, if the difference between the means is larger than the combined standard deviation of each vector, there will be a value for $\\lambda$ that will distinguish between the sets $U$ and $V$ better than random.\n",
    "\n",
    "### What is the best value for $\\lambda$?\n",
    "\n",
    "The sharp loss function can be written as $L(\\lambda) = \\sum_i \\Theta(\\vec{a}\\cdot \\vec{v}_i - \\lambda) + \\sum_j \\Theta(\\lambda - \\vec{a}\\cdot \\vec{u}_i)$\n",
    "\n",
    "\n",
    "### How powerful is the classifier?\n",
    "\n",
    "**Problems**:\n",
    "* Normalization??\n",
    "* Orthogonality??"
   ]
  },
  {
   "cell_type": "code",
   "execution_count": null,
   "metadata": {},
   "outputs": [],
   "source": [
    ""
   ]
  }
 ],
 "metadata": {
  "kernelspec": {
   "display_name": "Python 3",
   "language": "python",
   "name": "python3"
  },
  "language_info": {
   "codemirror_mode": {
    "name": "ipython",
    "version": 3.0
   },
   "file_extension": ".py",
   "mimetype": "text/x-python",
   "name": "python",
   "nbconvert_exporter": "python",
   "pygments_lexer": "ipython3",
   "version": "3.6.4"
  }
 },
 "nbformat": 4,
 "nbformat_minor": 0
}